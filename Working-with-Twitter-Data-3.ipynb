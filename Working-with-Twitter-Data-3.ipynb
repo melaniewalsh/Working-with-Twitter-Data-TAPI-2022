{
 "cells": [
  {
   "cell_type": "markdown",
   "id": "3e89c5b3",
   "metadata": {},
   "source": [
    "<img align=\"left\" src=\"https://ithaka-labs.s3.amazonaws.com/static-files/images/tdm/tdmdocs/tapi-logo-small.png\" />\n",
    "\n",
    "This notebook free for educational reuse under [Creative Commons CC BY License](https://creativecommons.org/licenses/by/4.0/).\n",
    "\n",
    "Created by [Melanie Walsh](https://melaniewalsh.org/) for the 2022 Text Analysis Pedagogy Institute, with support from the [National Endowment for the Humanities](https://neh.gov), [JSTOR Labs](https://labs.jstor.org/), and [University of Arizona Libraries](https://new.library.arizona.edu/).\n",
    "\n",
    "For questions/comments/improvements, email melwalsh@uw.edu\n",
    "____"
   ]
  },
  {
   "cell_type": "markdown",
   "id": "68f932d1",
   "metadata": {},
   "source": [
    "# Working with Twitter Data (Lesson 3) — 6/24/2022\n",
    "\n",
    "This is lesson **3** of 3 in the educational series on **Working with Twitter Data**. This notebook will demonstrate how researchers can collect tweets from a user's timeline (or multiple users' timelines), how to find out information about who a particular Twitter user is following and who is following that user in turn, and how to work with the new \"context annotations\" metadata, which provides extra contextual information about tweets.\n",
    "\n",
    "**Audience:** Teachers / Learners / Researchers\n",
    "\n",
    "**Use case:** Tutorial / How-To\n",
    "\n",
    "**Difficulty:** Intermediate\n",
    "\n",
    "**Completion time:** 30 minutes to 1 hour\n",
    "\n",
    "**Knowledge Required/Recommended:** \n",
    "\n",
    "* Command line knowledge\n",
    "* Python basics (variables, functions, lists, dictionaries)\n",
    "* Pandas basics (Python library for data manipulation and analysis)\n",
    "\n",
    "\n",
    "**Learning Objectives:**\n",
    "After this lesson, learners will be able to:\n",
    "\n",
    "1. Collect tweets from a specific Twitter user's timeline\n",
    "2. Collect data about the Twitter accounts that a specific user is following\n",
    "3. Collect data about the Twitter accounts that are following a specific user\n",
    "4. Work with the new \"context annotations\" metadata\n",
    "\n",
    "___"
   ]
  },
  {
   "cell_type": "markdown",
   "id": "157c0555",
   "metadata": {},
   "source": [
    "# Required Python Libraries\n",
    "* [twarc2](https://twarc-project.readthedocs.io/en/latest/twarc2_en_us/) for collecting Twitter data.\n",
    "* [plotly](https://plotly.com/python/) for making interactive plots \n",
    "* [pandas](https://pandas.pydata.org/) for manipulating and cleaning data\n",
    "\n",
    "## Install Required Libraries"
   ]
  },
  {
   "cell_type": "code",
   "execution_count": null,
   "id": "e8a220f5",
   "metadata": {},
   "outputs": [],
   "source": [
    "### Install Libraries ###\n",
    "!pip install twarc --upgrade\n",
    "!pip install twarc-csv --upgrade\n",
    "!pip install plotly"
   ]
  },
  {
   "cell_type": "code",
   "execution_count": null,
   "id": "5480e2a8",
   "metadata": {},
   "outputs": [],
   "source": [
    "### Import Libraries ###\n",
    "import plotly.express as px\n",
    "import pandas as pd\n",
    "# Set max column width\n",
    "pd.options.display.max_colwidth = 400\n",
    "# Set max number of columns\n",
    "pd.options.display.max_columns = 95"
   ]
  },
  {
   "cell_type": "markdown",
   "id": "6dcbc763-1ccc-498e-9149-e083e09fae8b",
   "metadata": {},
   "source": [
    "# Twitter API Setup"
   ]
  },
  {
   "cell_type": "markdown",
   "id": "02338a15-b842-4932-8d5f-3bc3f47d7be5",
   "metadata": {},
   "source": [
    "*This lesson presumes that you've already installed and configured twarc, which was covered in [a previous lesson](Twitter-API-Setup).*"
   ]
  },
  {
   "cell_type": "markdown",
   "id": "d88aaf2a-218b-4a12-8e16-b78faa222bd8",
   "metadata": {},
   "source": [
    "## Configure Twarc"
   ]
  },
  {
   "cell_type": "markdown",
   "id": "3dfcebde-bfd7-4164-bad8-af5794fe0b91",
   "metadata": {},
   "source": [
    "Once twarc is installed, you need to configure it with your API keys and/or bearer token so that you can actually access the API. "
   ]
  },
  {
   "cell_type": "markdown",
   "id": "09141ce0-a3f1-4a56-a1de-84d0c761b2e7",
   "metadata": {},
   "source": [
    "To configure twarc, you would typically run `twarc2 configure` from the command line. This will prompt twarc to ask for your bearer token, which you can copy and paste into the blank after the colon, and then press enter. You can optionally enter your API keys, as well."
   ]
  },
  {
   "cell_type": "markdown",
   "id": "b9f86f51-36dc-4833-9af2-32bb43763f03",
   "metadata": {},
   "source": [
    "<div class=\"admonition attention\" name=\"html-admonition\" style=\"background: orange; padding: 10px\">\n",
    "<p class=\"title\">Note</p>\n",
    "   To get your Bearer Token, go to your Twitter Developer portal: <a href= \"https://developer.twitter.com/en/portal/dashboard\">https://developer.twitter.com/en/portal/dashboard</a>\n",
    "\n",
    "</div>"
   ]
  },
  {
   "cell_type": "markdown",
   "id": "758aebed-a591-47eb-9a0f-bc7a66d67605",
   "metadata": {},
   "source": [
    "However, when working in a Jupyter notebook in the cloud, it is easiest to configure twarc and enter your Bearer Token in a single command. Please paste your Bearer Token between the quotations marks below and run the cell."
   ]
  },
  {
   "cell_type": "code",
   "execution_count": null,
   "id": "ccaebcf9-7bd7-45ff-adea-fcb5be519aea",
   "metadata": {},
   "outputs": [],
   "source": [
    "!printf '%s\\n' \"YOUR BEARER TOKEN HERE\" \"no\" | twarc2 configure"
   ]
  },
  {
   "cell_type": "markdown",
   "id": "dec67b43-c517-4e48-a818-c2220f0e34de",
   "metadata": {},
   "source": [
    "Now you're ready to collect and analyze tweets!"
   ]
  },
  {
   "cell_type": "markdown",
   "id": "10e42a23-368b-4114-bf41-2bbeb87d2f84",
   "metadata": {},
   "source": [
    "## Get a Users' Timeline (3200 Tweets)"
   ]
  },
  {
   "cell_type": "markdown",
   "id": "3140dd2f-1ad2-42e6-b80d-9b98a4b2d29e",
   "metadata": {},
   "source": [
    "To get all the most recent tweets from a Twitter user's timeline (up to 3200 tweets), we will use [`twarc2 timeline username`](https://twarc-project.readthedocs.io/en/latest/twarc2_en_us/#timeline_1). We could also get tweets for multiple users by including a text file instead of a single username, e.g., [`twarc2 timeline usernames.txt`](https://twarc-project.readthedocs.io/en/latest/twarc2_en_us/#timeline_1)\n",
    "\n",
    "If you have access to the Academic Research track of the Twitter API, you can actually get all tweets from a user by including the flag `--use-search`."
   ]
  },
  {
   "cell_type": "markdown",
   "id": "1bea45e2-a2e0-45f0-bc88-f4ad46d9883d",
   "metadata": {},
   "source": [
    "Let's collect tweets from President Joe Biden's timeline: https://twitter.com/POTUS 🧐 What do you think the topic of the most retweeted tweets will be...?"
   ]
  },
  {
   "cell_type": "code",
   "execution_count": null,
   "id": "95907f49-cbb8-4aac-92f2-ffad04621669",
   "metadata": {},
   "outputs": [],
   "source": [
    "!twarc2 timeline potus potus-tweets.jsonl"
   ]
  },
  {
   "cell_type": "markdown",
   "id": "20d9b18a-9951-42ff-a6ae-06ea77009fc1",
   "metadata": {},
   "source": [
    "Let's convert these tweets to a CSV file"
   ]
  },
  {
   "cell_type": "code",
   "execution_count": null,
   "id": "4f5b1010-c0bd-47ce-828b-681ae2de397d",
   "metadata": {},
   "outputs": [],
   "source": [
    "!twarc2 csv potus-tweets.jsonl potus-tweets.csv"
   ]
  },
  {
   "cell_type": "markdown",
   "id": "b73dd4c1-8d86-48b1-a8ae-414225e00d41",
   "metadata": {},
   "source": [
    "Let's read in the CSV file."
   ]
  },
  {
   "cell_type": "code",
   "execution_count": null,
   "id": "0164cf42-2922-4f7b-a1be-d53b7bd724df",
   "metadata": {
    "scrolled": true,
    "tags": []
   },
   "outputs": [],
   "source": [
    "tweets_df = pd.read_csv('potus-tweets.csv', parse_dates = ['created_at'])"
   ]
  },
  {
   "cell_type": "markdown",
   "id": "d85ef975-e4bb-4406-bf07-9e694f4557de",
   "metadata": {},
   "source": [
    "Let's apply our helper functions and create new columns for type of tweet and tweet URL."
   ]
  },
  {
   "cell_type": "code",
   "execution_count": null,
   "id": "ea0be957-bddb-4f4f-8095-1b1103fe96e9",
   "metadata": {},
   "outputs": [],
   "source": [
    "# Find the type of tweet\n",
    "def find_type(tweet):\n",
    "    \n",
    "    # Check to see if tweet contains retweet, quote tweet, or reply tweet info\n",
    "    contains_retweet = tweet['referenced_tweets.retweeted.id']\n",
    "    contains_quote = tweet['referenced_tweets.quoted.id']\n",
    "    contains_reply = tweet['referenced_tweets.replied_to.id']\n",
    "    \n",
    "    # Does tweet contain retweet info? (Is this category not NA or empty?)\n",
    "    if pd.notna(contains_retweet):\n",
    "        return \"retweet\"\n",
    "    # Does tweet contain quote and reply info?\n",
    "    elif pd.notna(contains_quote) and pd.notna(contains_reply):\n",
    "        return \"quote/reply\"\n",
    "    # Does tweet contain quote info? \n",
    "    elif pd.notna(contains_quote):\n",
    "        return \"quote\"\n",
    "    # Does tweet contain reply info? \n",
    "    elif pd.notna(contains_reply):\n",
    "        return \"reply\"\n",
    "    # If it doesn't contain any of this info, it must be an original tweet\n",
    "    else:\n",
    "        return \"original\"\n",
    "\n",
    "# Make Tweet URL\n",
    "def make_tweet_url(tweets):\n",
    "    # Get username\n",
    "    username = tweets[0]\n",
    "    # Get tweet ID\n",
    "    tweet_id = tweets[1]\n",
    "    # Make tweet URL\n",
    "    tweet_url = f\"https://twitter.com/{username}/status/{tweet_id}\"\n",
    "    return tweet_url"
   ]
  },
  {
   "cell_type": "code",
   "execution_count": null,
   "id": "233236ed-9986-4ec0-93cb-c70102854369",
   "metadata": {},
   "outputs": [],
   "source": [
    "# Create tweet type column\n",
    "tweets_df['type'] = tweets_df.apply(find_type, axis =1)\n",
    "# Create tweet URL column\n",
    "tweets_df['tweet_url'] = tweets_df[['author.username', 'id']].apply(make_tweet_url, axis='columns')"
   ]
  },
  {
   "cell_type": "markdown",
   "id": "856f5e92-1c97-4715-9895-b7cfe3552cf9",
   "metadata": {},
   "source": [
    "Let's select and rename only the columns we're interested in."
   ]
  },
  {
   "cell_type": "code",
   "execution_count": null,
   "id": "1c880a2f-144e-4a03-a400-dc56ca9de5b9",
   "metadata": {},
   "outputs": [],
   "source": [
    "# Select columns of interest\n",
    "clean_tweets_df = tweets_df[['created_at', 'author.username', 'author.name', 'author.description',\n",
    "                             'author.verified', 'type', 'text', 'public_metrics.retweet_count', \n",
    "                             'public_metrics.like_count', 'public_metrics.reply_count', 'public_metrics.quote_count',\n",
    "                             'tweet_url', 'lang', 'source', 'geo.full_name']]\n",
    "\n",
    "# Rename columns for convenience\n",
    "clean_tweets_df = clean_tweets_df.rename(columns={'created_at': 'date', 'public_metrics.retweet_count': 'retweets', \n",
    "                          'author.username': 'username', 'author.name': 'name', 'author.verified': 'verified', \n",
    "                          'public_metrics.like_count': 'likes', 'public_metrics.quote_count': 'quotes', \n",
    "                          'public_metrics.reply_count': 'replies', 'author.description': 'user_bio'})\n",
    "\n",
    "clean_tweets_df"
   ]
  },
  {
   "cell_type": "markdown",
   "id": "ea1bace1-f2b7-41e4-b7fb-4eea2bd8db42",
   "metadata": {},
   "source": [
    "We can also create a date column that does not have hour/minute/second information, like so"
   ]
  },
  {
   "cell_type": "code",
   "execution_count": null,
   "id": "aaac9b33-5627-492b-93cd-43a25b78fed7",
   "metadata": {},
   "outputs": [],
   "source": [
    "clean_tweets_df['formatted_date'] = clean_tweets_df['date'].dt.date"
   ]
  },
  {
   "cell_type": "markdown",
   "id": "5475c9a6-378a-4df5-a2de-44e5fc9f00aa",
   "metadata": {},
   "source": [
    "## Code Tweet Data By Keyword"
   ]
  },
  {
   "cell_type": "markdown",
   "id": "08f7587c-3b97-4537-941a-145a30791d67",
   "metadata": {},
   "source": [
    "In the previous lesson, we saw how Kevin McElwee was able to produce a [really cool Twitter analysis](https://www.kmcelwee.com/fortune-100-blm-report/site/index.html) by qualitatively coding whether Fortune 100 tweets were discussing racial justice or not.\n",
    "\n",
    "I wanted to show a quick example of how we can use a Python function to do something similar: code whether or not a tweet contains certain keywords.\n",
    "\n",
    "The function below will check to see whether a tweet contains any words that are included in the list `keywords`. In this example, we're coding whether or not the tweet is discussing COVID. "
   ]
  },
  {
   "cell_type": "code",
   "execution_count": null,
   "id": "b8ef4750-1102-4bb8-a11d-a826b08e3829",
   "metadata": {},
   "outputs": [],
   "source": [
    "def check_for_keywords(text):\n",
    "    \n",
    "    # Pick your own keywords!\n",
    "    keywords = [\"COVID\", \"virus\"]\n",
    "    \n",
    "    for word in keywords:\n",
    "        if word in text:\n",
    "            return True\n",
    "        else:\n",
    "            return False"
   ]
  },
  {
   "cell_type": "code",
   "execution_count": null,
   "id": "07b6098e-f7c6-40a2-98c2-44e78343f8b0",
   "metadata": {},
   "outputs": [],
   "source": [
    "check_for_keywords(\"The COVID-19 crisis is serious\")"
   ]
  },
  {
   "cell_type": "markdown",
   "id": "456060dc-da7e-42f0-8987-e45061845701",
   "metadata": {},
   "source": [
    "We can create a new column (which could be named whatver we want) by applying this function to the text column."
   ]
  },
  {
   "cell_type": "code",
   "execution_count": null,
   "id": "371b6a95-5560-4345-ba8e-88f1dc666627",
   "metadata": {},
   "outputs": [],
   "source": [
    "clean_tweets_df['COVID?'] = clean_tweets_df['text'].apply(check_for_keywords)\n",
    "#clean_tweets_df['your own column name'] = clean_tweets_df['text'].apply(check_for_keywords)"
   ]
  },
  {
   "cell_type": "markdown",
   "id": "88cbe1df-fbcd-4359-9160-7c47d86b8426",
   "metadata": {},
   "source": [
    "Now we can use this new column to filter and examime only the tweets that are explicitly discussing COVID."
   ]
  },
  {
   "cell_type": "code",
   "execution_count": null,
   "id": "d3cb7767-733a-4e9a-adf3-0bfb59b654fe",
   "metadata": {},
   "outputs": [],
   "source": [
    "clean_tweets_df[clean_tweets_df[\"COVID?\"] == True]"
   ]
  },
  {
   "cell_type": "markdown",
   "id": "ff408aca-b0d1-4ecd-b2a9-fd603de9a5f9",
   "metadata": {},
   "source": [
    "## Save Tweets as Spreadsheet"
   ]
  },
  {
   "cell_type": "markdown",
   "id": "9ccff287-23e5-42e6-bf2b-7ab7dfd0446d",
   "metadata": {},
   "source": [
    "Anytime we want to save a dataframe as a spreadhsheet, we can use the `.to_csv()` function."
   ]
  },
  {
   "cell_type": "code",
   "execution_count": null,
   "id": "5fbe6b9b-f4bd-438d-9e66-4dd58f6eb1c5",
   "metadata": {},
   "outputs": [],
   "source": [
    "clean_tweets_df.to_csv(\"clean-potus-tweets.csv\", \n",
    "                       # remove the index\n",
    "                       index=False)"
   ]
  },
  {
   "cell_type": "markdown",
   "id": "fc3194b8-a211-49a3-8e68-82a86d651d8d",
   "metadata": {},
   "source": [
    "## Datawrapper"
   ]
  },
  {
   "cell_type": "markdown",
   "id": "5521b684-8f86-4bb9-8894-1e05f69828f9",
   "metadata": {},
   "source": [
    "With only the data that we just collected and coded, we can make a sophisticated data visualization — either in Python or with a different data visualization platform.\n",
    "\n",
    "For example, if we drop our CSV file into Datawrapper (https://www.datawrapper.de/), we can create something that looks like this:"
   ]
  },
  {
   "cell_type": "code",
   "execution_count": null,
   "id": "b84427a5-ff41-4c2e-b466-b5c383b64e75",
   "metadata": {},
   "outputs": [],
   "source": [
    "%%html\n",
    "<iframe title=\"President Joe Biden's Most Recent Tweets \" aria-label=\"Scatter Plot\" id=\"datawrapper-chart-zeOuo\" src=\"https://datawrapper.dwcdn.net/zeOuo/1/\" scrolling=\"no\" frameborder=\"0\" style=\"border: none;\" width=\"692\" height=\"495\"></iframe>"
   ]
  },
  {
   "cell_type": "markdown",
   "id": "620080ff-9384-48cf-8587-e3b6e5ebb1b1",
   "metadata": {},
   "source": [
    "Be sure to check out these tips for customizing Datawrapper tooltips with HTML: https://academy.datawrapper.de/article/237-i-want-to-change-how-my-data-appears-in-tooltips"
   ]
  },
  {
   "cell_type": "markdown",
   "id": "319d39e9-1d51-4c5b-baf3-3f863494ee3b",
   "metadata": {},
   "source": [
    "## Get Who a User Is Following"
   ]
  },
  {
   "cell_type": "markdown",
   "id": "be6c41f4-e399-45d0-8f98-a63a12a88553",
   "metadata": {},
   "source": [
    "We can also use the Twitter API to find out who a Twitter user is following and who is following that user. Researchers and journalists have used follower/following data in a number of ways, such as examining [how conservative vs. liberal politicians gained or lost followers](https://www.theverge.com/2022/4/27/23045005/conservative-twitter-follower-boost-musk-acquisition-data) after Elon Musk finalized his deal to buy Twitter (via The Verge). \n",
    "\n",
    "To get information about all the Twitter accounts that a particular Twitter user is following, we will use [`twarc2 following username`](https://twarc-project.readthedocs.io/en/latest/twarc2_en_us/#following_1).\n",
    "\n"
   ]
  },
  {
   "cell_type": "markdown",
   "id": "80cba258-bf4e-4e95-8b48-536df8af86ec",
   "metadata": {},
   "source": [
    "Let's see who Joe Biden is following on Twitter."
   ]
  },
  {
   "cell_type": "code",
   "execution_count": null,
   "id": "2685ca3b-124d-44f0-a5e8-a668f7db5f59",
   "metadata": {},
   "outputs": [],
   "source": [
    "!twarc2 following potus potus_following.jsonl "
   ]
  },
  {
   "cell_type": "markdown",
   "id": "2dfaba55-1e25-453c-b7a4-3d7343940627",
   "metadata": {},
   "source": [
    "To convert this user data into a CSV file, we can use `twarc2 csv` but we have to include a special flag that specifies this is user data, not tweet data `--input-data-type`"
   ]
  },
  {
   "cell_type": "code",
   "execution_count": null,
   "id": "f0be5c6f-5e81-4b15-82e3-7198f23d3449",
   "metadata": {},
   "outputs": [],
   "source": [
    "!twarc2 csv potus_following.jsonl --input-data-type users potus_following.csv"
   ]
  },
  {
   "cell_type": "markdown",
   "id": "e66638a3-ee69-4016-b280-79d40301b96d",
   "metadata": {},
   "source": [
    "Let's see what this data looks like:"
   ]
  },
  {
   "cell_type": "code",
   "execution_count": null,
   "id": "950250c6-a669-4810-8295-ce12b99cf50d",
   "metadata": {
    "scrolled": true,
    "tags": []
   },
   "outputs": [],
   "source": [
    "following_df = pd.read_csv('potus_following.csv', parse_dates = ['created_at'])"
   ]
  },
  {
   "cell_type": "code",
   "execution_count": null,
   "id": "0068f50c-dac4-4524-b703-ebb2385a366b",
   "metadata": {},
   "outputs": [],
   "source": [
    "following_df = following_df.rename(columns={'public_metrics.following_count': 'following', \n",
    "                                            'public_metrics.followers_count': 'followers', \n",
    "                                            'public_metrics.tweet_count': 'tweets',\n",
    "                                           })\n",
    "following_df = following_df[[\"created_at\", \"username\", \"name\", \"description\", \"location\", \"followers\",\n",
    "              \"following\", \"tweets\", \"url\", \"verified\"]]"
   ]
  },
  {
   "cell_type": "markdown",
   "id": "591e62de-69bb-4d27-a7d9-c08ca5adc290",
   "metadata": {},
   "source": [
    "Which of the Twitter accounts that Joe Biden is following has the most followers, the most total tweets, and the most accounts that they themselves are following?"
   ]
  },
  {
   "cell_type": "code",
   "execution_count": null,
   "id": "5a71c02b-aaf3-43b6-a6a0-3ae94e251008",
   "metadata": {},
   "outputs": [],
   "source": [
    "following_df.sort_values(\"followers\", ascending=False)"
   ]
  },
  {
   "cell_type": "markdown",
   "id": "a2b32d75-f2a8-4414-9b81-08e45e366666",
   "metadata": {},
   "source": [
    "We could imagine that we might want to collect tweets for all of these Twitter accounts. To do so, we might write all these usernames to a text file."
   ]
  },
  {
   "cell_type": "code",
   "execution_count": null,
   "id": "41a469ae-6d3c-4b51-8c78-f4d89de970ad",
   "metadata": {},
   "outputs": [],
   "source": [
    "following_df['username']"
   ]
  },
  {
   "cell_type": "markdown",
   "id": "bed8a9ac-494f-4551-b2b5-5388b9f7097d",
   "metadata": {},
   "source": [
    "Write usernames to a text file"
   ]
  },
  {
   "cell_type": "code",
   "execution_count": null,
   "id": "ce08057e-9e44-4300-951e-c7b86edaf2b8",
   "metadata": {},
   "outputs": [],
   "source": [
    "following_df['username'].to_csv(\"usernames.txt\", index=False, header=False)"
   ]
  },
  {
   "cell_type": "markdown",
   "id": "fb67a51e-3b21-414f-9eb3-194c3806b135",
   "metadata": {},
   "source": [
    "Get the timelines for all of those users"
   ]
  },
  {
   "cell_type": "code",
   "execution_count": null,
   "id": "e1f8cf74-96c4-4823-a1f1-8410bdbcc829",
   "metadata": {},
   "outputs": [],
   "source": [
    "#!twarc2 timelines usernames.txt all_timelines.jsonl"
   ]
  },
  {
   "cell_type": "code",
   "execution_count": null,
   "id": "197476e5-50e4-4687-82a1-8e844d8c8c25",
   "metadata": {},
   "outputs": [],
   "source": [
    "#!twarc2 csv all_timelines.jsonl all_timelines.csv"
   ]
  },
  {
   "cell_type": "markdown",
   "id": "4c6d6412-3825-4565-9c98-faa0b719fc5b",
   "metadata": {},
   "source": [
    "## Get a Users' Followers"
   ]
  },
  {
   "cell_type": "markdown",
   "id": "33e1b2b4-d8de-440f-b5e1-19fa364144da",
   "metadata": {},
   "source": [
    "To get information about all the Twitter accounts following a particular Twitter user is following, we will use [`twarc2 followers username`](https://twarc-project.readthedocs.io/en/latest/twarc2_en_us/#following_1). "
   ]
  },
  {
   "cell_type": "markdown",
   "id": "9f74b280-081f-400a-a699-aee8bd3bfa94",
   "metadata": {},
   "source": [
    "Joe Biden has too many followers for a quick example, so let's see who's following my William Carlos Williams Twitter bot."
   ]
  },
  {
   "cell_type": "code",
   "execution_count": null,
   "id": "95e1a46f-a395-4edc-a398-0ff544a2c51a",
   "metadata": {},
   "outputs": [],
   "source": [
    "!twarc2 followers sosweetbot sosweetbot_followers.jsonl "
   ]
  },
  {
   "cell_type": "code",
   "execution_count": null,
   "id": "316bbe04-d367-4308-ba04-abfe83b186d3",
   "metadata": {},
   "outputs": [],
   "source": [
    "!twarc2 csv sosweetbot_followers.jsonl --input-data-type users sosweetbot_followers.csv"
   ]
  },
  {
   "cell_type": "code",
   "execution_count": null,
   "id": "c5f22586-8bd9-44fc-aefa-e842e00e533d",
   "metadata": {
    "scrolled": true,
    "tags": []
   },
   "outputs": [],
   "source": [
    "followers_df = pd.read_csv('sosweetbot_followers.csv', parse_dates = ['created_at'])"
   ]
  },
  {
   "cell_type": "code",
   "execution_count": null,
   "id": "f1532dd7-5f4f-439e-8038-711a2587ed54",
   "metadata": {},
   "outputs": [],
   "source": [
    "clean_followers_df = followers_df.rename(columns={'public_metrics.following_count': 'following', \n",
    "                                            'public_metrics.followers_count': 'followers', \n",
    "                                            'public_metrics.tweet_count': 'tweets',\n",
    "                                           })\n",
    "clean_followers_df = clean_followers_df[[\"created_at\", \"username\", \"name\", \"description\", \"location\", \"followers\",\n",
    "              \"following\", \"tweets\", \"url\", \"verified\"]]"
   ]
  },
  {
   "cell_type": "code",
   "execution_count": null,
   "id": "2418cb24-0fac-4b9d-8edd-ee11d1e389b9",
   "metadata": {},
   "outputs": [],
   "source": [
    "clean_followers_df"
   ]
  },
  {
   "cell_type": "markdown",
   "id": "58f32580-d80c-422a-9b02-84cc44c5d2dd",
   "metadata": {},
   "source": [
    "## Context Annotations"
   ]
  },
  {
   "cell_type": "markdown",
   "id": "f349b863-aafd-435a-82c0-8b0b5aa64abc",
   "metadata": {},
   "source": [
    "Twitter recently introduced a new piece of metadata for tweets: **context annotations**. These annotations are supposed to help document the contextual topic of a tweet, even if the topic itself is not explicitly mentioned in the tweet.\n",
    "\n",
    "> How does Twitter context annotations work?\n",
    "\n",
    "> Twitter classifies Tweets semantically, meaning that we curate lists of keywords, hashtags, and @handles that are relevant to a given topic. If a Tweet contains the text we’ve specified, it will be labeled appropriately. This differs from a machine learning approach where a model is trained specifically to classify text (in this case, Tweets) and produce a probability score alongside the output/classification.\n",
    "\n",
    "> How do I know that your data is complete and trustworthy?\n",
    "Twitter's annotations are curated by domain experts using research and QA processes that have been refined over the course of several years. The process is supported by custom tooling to scale data tracking as far as we are able to maintain excellent precision and recall. In addition, our data is audited regularly by an internal team, having received a precision score of ~80% for the past several quarters.\n",
    "\n",
    "> -[Twitter Context Annotation FAQ](https://developer.twitter.com/en/docs/twitter-api/annotations/faq)"
   ]
  },
  {
   "cell_type": "markdown",
   "id": "7f2bc6a5-42c7-407f-ade2-63e89d5c8dd6",
   "metadata": {},
   "source": [
    "Twitter has also provided a list of all the [currently existing context annotations](https://developer.twitter.com/en/docs/twitter-api/annotations/faq)."
   ]
  },
  {
   "cell_type": "code",
   "execution_count": null,
   "id": "bca2d6ce-ca00-490d-a5a6-5ad91f641ade",
   "metadata": {
    "scrolled": true,
    "tags": []
   },
   "outputs": [],
   "source": [
    "all_context_annotations = pd.read_csv(\"https://raw.githubusercontent.com/twitterdev/twitter-context-annotations/main/files/evergreen-context-entities-20220601.csv\")\n",
    "all_context_annotations"
   ]
  },
  {
   "cell_type": "code",
   "execution_count": null,
   "id": "0efdbdf3-bb61-4a33-8fd5-25b887682a06",
   "metadata": {},
   "outputs": [],
   "source": [
    "all_context_annotations[['entity_name']].sample(50)"
   ]
  },
  {
   "cell_type": "markdown",
   "id": "a93355b1-e841-46cf-92cc-2ae3cce7b87d",
   "metadata": {},
   "source": [
    "Let's check out context annotations for a couple of tweets! Suhem Parack has created a small web application where we can insert any tweet URL and get that tweet's context annotations: https://tweet-entity-extractor.glitch.me/"
   ]
  },
  {
   "cell_type": "markdown",
   "id": "ba4cde27-7cb2-4aa3-a310-74f970efde76",
   "metadata": {},
   "source": [
    "Tweet 1: https://twitter.com/POTUS/status/1532057523347689472\n",
    "\n",
    "Tweet 2: https://twitter.com/POTUS/status/1397595270582505474"
   ]
  },
  {
   "cell_type": "code",
   "execution_count": null,
   "id": "89fe8d6f-06e5-4459-822d-2320f9c32044",
   "metadata": {},
   "outputs": [],
   "source": [
    "tweets_df['text'][130]"
   ]
  },
  {
   "cell_type": "code",
   "execution_count": null,
   "id": "9a1a95af-fa92-47f6-80c5-02de4f74b28b",
   "metadata": {},
   "outputs": [],
   "source": [
    "tweets_df['context_annotations'][130]"
   ]
  },
  {
   "cell_type": "markdown",
   "id": "3c762a3f-1c53-4be7-b334-84b5b3d23041",
   "metadata": {},
   "source": [
    "As you can see, the \"context_annotations\" column is dense, and extracting this information is a bit tricky.\n",
    "\n",
    "Here are two Python functions that can help us count up all the annotations and add extract annotations as a new column in the data."
   ]
  },
  {
   "cell_type": "code",
   "execution_count": null,
   "id": "49d63826-8f13-4beb-ae3f-1099fd18c797",
   "metadata": {},
   "outputs": [],
   "source": [
    "from ast import literal_eval\n",
    "from collections import Counter\n",
    "import numpy as np\n",
    "\n",
    "context_counter = Counter()\n",
    "\n",
    "# Count up all context annotations\n",
    "def count_context(annotations):\n",
    "      # if not NaN\n",
    "    if type(annotations) != float:\n",
    "          # Convert to an actual Python list, not just a string\n",
    "        annotations =  literal_eval(annotations)\n",
    "        names = []\n",
    "        # for every annotation in the tweet\n",
    "        for annotation in annotations:\n",
    "            # grab the name\n",
    "            name = annotation['entity']['name']\n",
    "        if name not in names:\n",
    "            names.append(name)\n",
    "        # add name to counter\n",
    "        context_counter.update(names)\n",
    "        \n",
    "# Extract context annotations\n",
    "def extract_context(annotations):\n",
    "      # if not NaN\n",
    "    if type(annotations) != float:\n",
    "          # Convert to an actual Python list, not just a string\n",
    "        annotations =  literal_eval(annotations)\n",
    "        names = []\n",
    "        # for every annotation in the tweet\n",
    "        for annotation in annotations:\n",
    "            # grab the name\n",
    "            name = annotation['entity']['name']\n",
    "            names.append(name)\n",
    "        return names"
   ]
  },
  {
   "cell_type": "markdown",
   "id": "9f4d1b0d-9a08-4ca2-a9ab-feba82967ba1",
   "metadata": {},
   "source": [
    "Let's count up all the context annotations from Joe Biden's most recent tweets."
   ]
  },
  {
   "cell_type": "code",
   "execution_count": null,
   "id": "5e8a3b7a-89a1-44f1-a685-a5aa8e36ab9c",
   "metadata": {
    "scrolled": true,
    "tags": []
   },
   "outputs": [],
   "source": [
    "# Apply function to column\n",
    "tweets_df['context_annotations'].apply(count_context)\n",
    "# Pull out list of most common annotations\n",
    "context_counter.most_common()"
   ]
  },
  {
   "cell_type": "markdown",
   "id": "5ee161cc-c73d-4bab-a3e7-e8c9e2429658",
   "metadata": {},
   "source": [
    "We can make a dataframe of the annotations counts easily with `pd.DataFrame()` (see the [documentation](https://pandas.pydata.org/docs/reference/api/pandas.DataFrame.html)) and then we can plot the top 10 annotations (other than Joe Biden and The White House) with `.plot()` (see the [documentation](https://pandas.pydata.org/docs/reference/api/pandas.DataFrame.plot.html))."
   ]
  },
  {
   "cell_type": "code",
   "execution_count": null,
   "id": "6fe1a6d9-996d-41ee-9d81-d3518ef3d4af",
   "metadata": {},
   "outputs": [],
   "source": [
    "%matplotlib inline\n",
    "# Make a DataFrame\n",
    "context_df = pd.DataFrame(context_counter.most_common(), columns = ['context', 'count'])\n",
    "# Slice from the 2nd to 12th annotation, and make a bar plot\n",
    "context_df[2:12].plot(kind = 'barh', x = \"context\", y = \"count\", title = \"Joe Biden Tweets\",\n",
    "                   figsize = (10, 7)).invert_yaxis()"
   ]
  },
  {
   "cell_type": "markdown",
   "id": "209cecae-4447-4ef6-8883-d97e222cea4f",
   "metadata": {},
   "source": [
    "Let's extract the context annotations from Joe Biden's most recent tweets and add them as a new column."
   ]
  },
  {
   "cell_type": "code",
   "execution_count": null,
   "id": "23822c13-2a69-4056-8016-d24bc8db76d6",
   "metadata": {},
   "outputs": [],
   "source": [
    "tweets_df['context'] = tweets_df['context_annotations'].apply(extract_context)"
   ]
  },
  {
   "cell_type": "code",
   "execution_count": null,
   "id": "3e0ec3a1-ab44-4148-8322-3e45b2758ed3",
   "metadata": {},
   "outputs": [],
   "source": [
    "# Select columns of interest\n",
    "clean_tweets_df = tweets_df[['created_at', 'author.username', 'author.name', 'author.description',\n",
    "                             'author.verified', 'type', 'text', 'context', 'public_metrics.retweet_count', \n",
    "                             'public_metrics.like_count', 'public_metrics.reply_count', 'public_metrics.quote_count',\n",
    "                             'tweet_url', 'lang', 'source', 'geo.full_name']]\n",
    "\n",
    "# Rename columns for convenience\n",
    "clean_tweets_df = clean_tweets_df.rename(columns={'created_at': 'date', 'public_metrics.retweet_count': 'retweets', \n",
    "                          'author.username': 'username', 'author.name': 'name', 'author.verified': 'verified', \n",
    "                          'public_metrics.like_count': 'likes', 'public_metrics.quote_count': 'quotes', \n",
    "                          'public_metrics.reply_count': 'replies', 'author.description': 'user_bio'})\n",
    "\n",
    "clean_tweets_df"
   ]
  },
  {
   "cell_type": "markdown",
   "id": "98740e6c-bb6b-498a-8b7b-9c3d2afcbe92",
   "metadata": {},
   "source": [
    "## Further Resources"
   ]
  },
  {
   "cell_type": "markdown",
   "id": "72725179-c129-487a-962b-99f1f5166fc7",
   "metadata": {},
   "source": [
    "- Suhem's Parack's [\"Getting started with the Twitter API v2 for academic research\"](https://github.com/twitterdev/getting-started-with-the-twitter-api-v2-for-academic-research)\n",
    "- Melanie Walsh's [chapter on Twitter data](https://melaniewalsh.github.io/Intro-Cultural-Analytics/04-Data-Collection/12-Twitter-Data.html) from *Introduction to Cultural Analytics & Python*\n",
    "- Twitter's blog [forum for academic research](https://twittercommunity.com/c/academic-research/62)\n",
    "- Twitter's [Community space for academic researchers](https://twitter.com/i/communities/1494750019467063297)"
   ]
  }
 ],
 "metadata": {
  "kernelspec": {
   "display_name": "Python 3",
   "language": "python",
   "name": "python3"
  },
  "language_info": {
   "codemirror_mode": {
    "name": "ipython",
    "version": 3
   },
   "file_extension": ".py",
   "mimetype": "text/x-python",
   "name": "python",
   "nbconvert_exporter": "python",
   "pygments_lexer": "ipython3",
   "version": "3.8.8"
  },
  "toc": {
   "base_numbering": 1,
   "nav_menu": {},
   "number_sections": true,
   "sideBar": true,
   "skip_h1_title": false,
   "title_cell": "Table of Contents",
   "title_sidebar": "Contents",
   "toc_cell": false,
   "toc_position": {},
   "toc_section_display": true,
   "toc_window_display": true
  }
 },
 "nbformat": 4,
 "nbformat_minor": 5
}
