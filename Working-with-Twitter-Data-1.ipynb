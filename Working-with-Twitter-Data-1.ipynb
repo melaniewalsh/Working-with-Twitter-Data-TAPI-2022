{
 "cells": [
  {
   "cell_type": "markdown",
   "id": "3e89c5b3",
   "metadata": {},
   "source": [
    "<img align=\"left\" src=\"https://ithaka-labs.s3.amazonaws.com/static-files/images/tdm/tdmdocs/tapi-logo-small.png\" />\n",
    "\n",
    "This notebook free for educational reuse under [Creative Commons CC BY License](https://creativecommons.org/licenses/by/4.0/).\n",
    "\n",
    "Created by [Melanie Walsh](https://melaniewalsh.org/) for the 2022 Text Analysis Pedagogy Institute, with support from the [National Endowment for the Humanities](https://neh.gov), [JSTOR Labs](https://labs.jstor.org/), and [University of Arizona Libraries](https://new.library.arizona.edu/).\n",
    "\n",
    "For questions/comments/improvements, email melwalsh@uw.edu\n",
    "____"
   ]
  },
  {
   "cell_type": "markdown",
   "id": "68f932d1",
   "metadata": {},
   "source": [
    "# Working with Twitter Data — 6/20/2022\n",
    "\n",
    "This is lesson **1** of 3 in the educational series on **Working with Twitter Data**. This notebook will demonstrate how researchers can collect tweets, save tweets as spreadsheet files, and visualize tweets as an interactive timeline and a word cloud. \n",
    "\n",
    "**Audience:** Teachers / Learners / Researchers\n",
    "\n",
    "**Use case:** Tutorial / How-To\n",
    "\n",
    "**Difficulty:** Beginner to Intermediate\n",
    "\n",
    "**Completion time:** 30 minutes to 1 hour\n",
    "\n",
    "**Knowledge Required/Recommended:** \n",
    "\n",
    "* Command line knowledge\n",
    "* Python basics (variables, functions, lists, dictionaries)\n",
    "* Pandas basics (Python library for data manipulation and analysis)\n",
    "\n",
    "\n",
    "**Learning Objectives:**\n",
    "After this lesson, learners will be able to:\n",
    "\n",
    "1. Collect tweets for any query\n",
    "2. Save tweets as a spreadsheet file\n",
    "3. Visualize tweets as an interactive timeline\n",
    "4. Visualize tweets as a word cloud\n",
    "\n",
    "___"
   ]
  },
  {
   "cell_type": "markdown",
   "id": "157c0555",
   "metadata": {},
   "source": [
    "# Required Python Libraries\n",
    "* [twarc2](https://twarc-project.readthedocs.io/en/latest/twarc2_en_us/) for collecting Twitter data.\n",
    "* [plotly](https://plotly.com/python/) for making interactive plots \n",
    "* [pandas](https://pandas.pydata.org/) for manipulating and cleaning data\n",
    "\n",
    "## Install Required Libraries"
   ]
  },
  {
   "cell_type": "code",
   "execution_count": null,
   "id": "e8a220f5",
   "metadata": {},
   "outputs": [],
   "source": [
    "### Install Libraries ###\n",
    "!pip install twarc --upgrade\n",
    "!pip install twarc-csv --upgrade\n",
    "!pip install plotly"
   ]
  },
  {
   "cell_type": "code",
   "execution_count": 1,
   "id": "5480e2a8",
   "metadata": {},
   "outputs": [],
   "source": [
    "### Import Libraries ###\n",
    "import plotly.express as px\n",
    "import pandas as pd\n",
    "# Set max column width\n",
    "pd.options.display.max_colwidth = 400\n",
    "# Set max number of columns\n",
    "pd.options.display.max_columns = 95"
   ]
  },
  {
   "cell_type": "markdown",
   "id": "6dcbc763-1ccc-498e-9149-e083e09fae8b",
   "metadata": {},
   "source": [
    "# Twitter API Setup"
   ]
  },
  {
   "cell_type": "markdown",
   "id": "02338a15-b842-4932-8d5f-3bc3f47d7be5",
   "metadata": {},
   "source": [
    "To collect Twitter data, we're going to work with the [Twitter API](https://developer.twitter.com/en/docs/basics/getting-started) and [twarc2](https://twarc-project.readthedocs.io/en/latest/twarc2/), a Python package for collecting Twitter data through the Twitter API.\n",
    "\n",
    "To use the Twitter API and twarc, we first need to complete the following steps:\n",
    "\n",
    "1. Apply for a Twitter developer account, which also requires making or already having a regular Twitter account\n",
    "\n",
    "2. Get Twitter API keys\n",
    "\n",
    "3. Configure/set up twarc\n",
    "\n",
    "The following instructions will help guide you through this process."
   ]
  },
  {
   "cell_type": "markdown",
   "id": "9d26ce5f-0fc6-47b9-8b72-5550d2bbfeb3",
   "metadata": {},
   "source": [
    "## 1. Apply for a Twitter Developer Account"
   ]
  },
  {
   "cell_type": "markdown",
   "id": "7e900e58-79b3-4c2a-812d-1a3691602fa0",
   "metadata": {},
   "source": [
    "If you are an academic researcher (e.g., \"post-doc, professor, fellow, master's student working on a thesis, PhD candidate, or affiliated with an academic institution AND have a clearly defined project\"), you can apply for [the Academic Research track]( https://developer.twitter.com/en/portal/petition/academic/is-it-right-for-you) of the Twitter API, which enables access to all Twitter data.\n",
    "\n",
    "If you are an undergraduate student or not affiliated with an academic institution, you can apply for [a developer account with essential access](https://developer.twitter.com/en/apply-for-access), which enables access to tweets from the last week as well as tweets in real time. "
   ]
  },
  {
   "cell_type": "markdown",
   "id": "7171ee0c-e314-43f1-9041-0d1ca13625e9",
   "metadata": {},
   "source": [
    "## 2. Get API Keys and Bearer Token"
   ]
  },
  {
   "cell_type": "markdown",
   "id": "0bdd9d3f-104c-49fa-977c-b319f62fa238",
   "metadata": {},
   "source": [
    "Once you've applied for a developer account and had it approved by Twitter, you need to generate your API keys and bearer token — the special passwords that will allow you to work with the Twitter API. To generate your API keys and bearer token, you can follow [these instructions](https://github.com/twitterdev/getting-started-with-the-twitter-api-v2-for-academic-research/blob/main/modules/4-getting-your-keys-and-token.md) from Suhem Parack, the Developer Advocate for Academic Research at Twitter.\n",
    "\n",
    "After you generate your API keys and bearer token, you should record them in a secure location on your computer (do not share them on the internet because these are private like passwords!)."
   ]
  },
  {
   "cell_type": "markdown",
   "id": "d88aaf2a-218b-4a12-8e16-b78faa222bd8",
   "metadata": {},
   "source": [
    "## 3. Configure Twarc"
   ]
  },
  {
   "cell_type": "markdown",
   "id": "3dfcebde-bfd7-4164-bad8-af5794fe0b91",
   "metadata": {},
   "source": [
    "Once twarc is installed, you need to configure it with your API keys and/or bearer token so that you can actually access the API. "
   ]
  },
  {
   "cell_type": "markdown",
   "id": "09141ce0-a3f1-4a56-a1de-84d0c761b2e7",
   "metadata": {},
   "source": [
    "To configure twarc, you would typically run `twarc2 configure` from the command line. This will prompt twarc to ask for your bearer token, which you can copy and paste into the blank after the colon, and then press enter. You can optionally enter your API keys, as well."
   ]
  },
  {
   "cell_type": "markdown",
   "id": "b9f86f51-36dc-4833-9af2-32bb43763f03",
   "metadata": {},
   "source": [
    "<div class=\"admonition attention\" name=\"html-admonition\" style=\"background: orange; padding: 10px\">\n",
    "<p class=\"title\">Note</p>\n",
    "   To get your Bearer Token, go to your Twitter Developer portal: <a href= \"https://developer.twitter.com/en/portal/dashboard\">https://developer.twitter.com/en/portal/dashboard</a>\n",
    "\n",
    "</div>"
   ]
  },
  {
   "cell_type": "markdown",
   "id": "758aebed-a591-47eb-9a0f-bc7a66d67605",
   "metadata": {},
   "source": [
    "However, when working in a Jupyter notebook in the cloud, it is easiest to configure twarc and enter your Bearer Token in a single command. Please paste your Bearer Token between the quotations marks below and run the cell."
   ]
  },
  {
   "cell_type": "code",
   "execution_count": null,
   "id": "ccaebcf9-7bd7-45ff-adea-fcb5be519aea",
   "metadata": {},
   "outputs": [],
   "source": [
    "!printf '%s\\n' \"YOUR BEARER TOKEN HERE\" \"no\" | twarc2 configure"
   ]
  },
  {
   "cell_type": "markdown",
   "id": "d47e3c57-6716-4feb-b4db-7913a9651e06",
   "metadata": {},
   "source": [
    "If you've entered your information correctly, you should get a congratulatory message that looks something like this:"
   ]
  },
  {
   "cell_type": "raw",
   "id": "c58c063f-9397-4369-8b03-e8de3c8b01ce",
   "metadata": {
    "tags": [
     "command_line"
    ]
   },
   "source": [
    "Your keys have been written to /Users/melwalsh/Library/Application Support/twarc/config\n",
    "\n",
    "\n",
    "✨ ✨ ✨  Happy twarcing! ✨ ✨ ✨"
   ]
  },
  {
   "cell_type": "markdown",
   "id": "dec67b43-c517-4e48-a818-c2220f0e34de",
   "metadata": {},
   "source": [
    "Now you're ready to collect and analyze tweets!"
   ]
  },
  {
   "cell_type": "markdown",
   "id": "06cfea96-97cd-4ac3-b238-7042067c040b",
   "metadata": {},
   "source": [
    "# Twitter Data Collection & Visualization\n",
    "## Get Tweet Counts and Save as Spreadsheet\n",
    "\n",
    "The first thing we're going to do is retrieve \"tweet counts\" — that is, retrieve the number of tweets that include a given query each day in Twitter's history.\n",
    "\n",
    "The [tweet counts API endpoint](https://twittercommunity.com/t/introducing-new-tweet-counts-endpoints-to-the-twitter-api-v2/155997) is a convenient feature of the v2 API (first introduced in 2021) that allows us to get a sense of how many tweets will be returned for a given query before we actually collect all the tweets that match the query. We won't get the text of the tweets or the users who tweeted the tweets or any other relevant data. We will simply get the number of tweets that match the query. This is helpful because we might be able to see that the search query matches too many tweets, which would encourage us to narrow our search by modifying the query. \n",
    "\n",
    "The tweet counts API endpoint is perhaps even more useful for research projects that are primarily interested in tracking the volume of a Twitter conversation over time. In this case, tweet counts enable a researcher to retrieve this information in a way that's faster and easier than retrieving all tweets and relevant metadata.\n",
    "\n",
    "To get tweet counts from Twitter's entire history with twarc2, we will use [`twarc2 counts`](https://twarc-project.readthedocs.io/en/latest/twarc2/#counts) followed by a search query.\n",
    "\n",
    "We will also use the flag `--csv` because we want to output the data as a CSV, the flag `--archive` because we're working with the Academic Research track of the Twitter API and want access to the full archive, and the flag `--granularity day` to get tweet counts per day (other options include `hour` and `minute`.  Finally, we write the data to a CSV file.\n",
    "\n",
    "To see other options, please refer to [twarc's documentation for `twarc2 counts`](https://twarc-project.readthedocs.io/en/latest/twarc2/#counts)"
   ]
  },
  {
   "cell_type": "markdown",
   "id": "14f38560-833f-4bf0-a42e-cc44102969a8",
   "metadata": {},
   "source": [
    "<div class=\"admonition attention\" name=\"html-admonition\" style=\"background: lightyellow; padding: 10px\">\n",
    "<p class=\"title\">Attention 🚨</p>\n",
    "    Remember that the <code>--archive</code> flag and full-archive search functionality is only available to those who have an <a href= \"https://developer.twitter.com/en/products/twitter-api/academic-research\">Academic Research account</a>. \n",
    "    Students with Essential API access should remove the <code>--archive</code> flag from the code below.\n",
    "\n",
    "</div>"
   ]
  },
  {
   "cell_type": "code",
   "execution_count": 22,
   "id": "898095fa-dbf9-4813-91a5-e5450f57a619",
   "metadata": {},
   "outputs": [],
   "source": [
    "!twarc2 counts \"TGIF\" --csv --archive --start-time \"2022-01-01\" --granularity day  > tgif-tweet-counts.csv\n",
    "#!twarc2 counts \"TGIF\" --csv --granularity day  > tgif-tweet-counts.csv"
   ]
  },
  {
   "cell_type": "markdown",
   "id": "40b605d2-c50c-4985-aa86-cac160efc166",
   "metadata": {},
   "source": [
    "## Visualize Tweets as Timeline\n",
    "\n",
    "We can make a timeline of these tweet counts by reading in the CSV file with Pandas, totaling the tweets for each day, month, or year, and then creating a line plot with the plotly (`px`) library."
   ]
  },
  {
   "cell_type": "markdown",
   "id": "0d84c2e7-8db2-4ce7-951e-7fa4c760d2d9",
   "metadata": {},
   "source": [
    "<div class=\"admonition pandasreview\" name=\"html-admonition\" style=\"background: black; color: white; padding: 10px\">\n",
    "<p class=\"title\">Pandas</p>\n",
    " Do you need a refresher or introduction to the Python data analysis library Pandas? Be sure to check out <a href=\"https://melaniewalsh.github.io/Intro-Cultural-Analytics/Data-Analysis/Pandas-Basics-Part1.html\"> Pandas Basics (1-3) </a> in Introduction to Cultural Analytics & Python!\n",
    "    \n",
    "</div>"
   ]
  },
  {
   "cell_type": "code",
   "execution_count": 48,
   "id": "882cd4cd-c82a-4a71-8318-1c445e7bde8e",
   "metadata": {},
   "outputs": [
    {
     "data": {
      "application/vnd.plotly.v1+json": {
       "config": {
        "plotlyServerURL": "https://plot.ly"
       },
       "data": [
        {
         "hovertemplate": "Time=%{x}<br># of Tweets=%{y}<extra></extra>",
         "legendgroup": "",
         "line": {
          "color": "#636efa",
          "dash": "solid"
         },
         "marker": {
          "symbol": "circle"
         },
         "mode": "lines",
         "name": "",
         "orientation": "v",
         "showlegend": false,
         "type": "scatter",
         "x": [
          "2022-01-01T00:00:00+00:00",
          "2022-01-02T00:00:00+00:00",
          "2022-01-03T00:00:00+00:00",
          "2022-01-04T00:00:00+00:00",
          "2022-01-05T00:00:00+00:00",
          "2022-01-06T00:00:00+00:00",
          "2022-01-07T00:00:00+00:00",
          "2022-01-08T00:00:00+00:00",
          "2022-01-09T00:00:00+00:00",
          "2022-01-10T00:00:00+00:00",
          "2022-01-11T00:00:00+00:00",
          "2022-01-12T00:00:00+00:00",
          "2022-01-13T00:00:00+00:00",
          "2022-01-14T00:00:00+00:00",
          "2022-01-15T00:00:00+00:00",
          "2022-01-16T00:00:00+00:00",
          "2022-01-17T00:00:00+00:00",
          "2022-01-18T00:00:00+00:00",
          "2022-01-19T00:00:00+00:00",
          "2022-01-20T00:00:00+00:00",
          "2022-01-21T00:00:00+00:00",
          "2022-01-22T00:00:00+00:00",
          "2022-01-23T00:00:00+00:00",
          "2022-01-24T00:00:00+00:00",
          "2022-01-25T00:00:00+00:00",
          "2022-01-26T00:00:00+00:00",
          "2022-01-27T00:00:00+00:00",
          "2022-01-28T00:00:00+00:00",
          "2022-01-29T00:00:00+00:00",
          "2022-01-30T00:00:00+00:00",
          "2022-01-31T00:00:00+00:00",
          "2022-02-01T00:00:00+00:00",
          "2022-02-02T00:00:00+00:00",
          "2022-02-03T00:00:00+00:00",
          "2022-02-04T00:00:00+00:00",
          "2022-02-05T00:00:00+00:00",
          "2022-02-06T00:00:00+00:00",
          "2022-02-07T00:00:00+00:00",
          "2022-02-08T00:00:00+00:00",
          "2022-02-09T00:00:00+00:00",
          "2022-02-10T00:00:00+00:00",
          "2022-02-11T00:00:00+00:00",
          "2022-02-12T00:00:00+00:00",
          "2022-02-13T00:00:00+00:00",
          "2022-02-14T00:00:00+00:00",
          "2022-02-15T00:00:00+00:00",
          "2022-02-16T00:00:00+00:00",
          "2022-02-17T00:00:00+00:00",
          "2022-02-18T00:00:00+00:00",
          "2022-02-19T00:00:00+00:00",
          "2022-02-20T00:00:00+00:00",
          "2022-02-21T00:00:00+00:00",
          "2022-02-22T00:00:00+00:00",
          "2022-02-23T00:00:00+00:00",
          "2022-02-24T00:00:00+00:00",
          "2022-02-25T00:00:00+00:00",
          "2022-02-26T00:00:00+00:00",
          "2022-02-27T00:00:00+00:00",
          "2022-02-28T00:00:00+00:00",
          "2022-03-01T00:00:00+00:00",
          "2022-03-02T00:00:00+00:00",
          "2022-03-03T00:00:00+00:00",
          "2022-03-04T00:00:00+00:00",
          "2022-03-05T00:00:00+00:00",
          "2022-03-06T00:00:00+00:00",
          "2022-03-07T00:00:00+00:00",
          "2022-03-08T00:00:00+00:00",
          "2022-03-09T00:00:00+00:00",
          "2022-03-10T00:00:00+00:00",
          "2022-03-11T00:00:00+00:00",
          "2022-03-12T00:00:00+00:00",
          "2022-03-13T00:00:00+00:00",
          "2022-03-14T00:00:00+00:00",
          "2022-03-15T00:00:00+00:00",
          "2022-03-16T00:00:00+00:00",
          "2022-03-17T00:00:00+00:00",
          "2022-03-18T00:00:00+00:00",
          "2022-03-19T00:00:00+00:00",
          "2022-03-20T00:00:00+00:00",
          "2022-03-21T00:00:00+00:00",
          "2022-03-22T00:00:00+00:00",
          "2022-03-23T00:00:00+00:00",
          "2022-03-24T00:00:00+00:00",
          "2022-03-25T00:00:00+00:00",
          "2022-03-26T00:00:00+00:00",
          "2022-03-27T00:00:00+00:00",
          "2022-03-28T00:00:00+00:00",
          "2022-03-29T00:00:00+00:00",
          "2022-03-30T00:00:00+00:00",
          "2022-03-31T00:00:00+00:00",
          "2022-04-01T00:00:00+00:00",
          "2022-04-02T00:00:00+00:00",
          "2022-04-03T00:00:00+00:00",
          "2022-04-04T00:00:00+00:00",
          "2022-04-05T00:00:00+00:00",
          "2022-04-06T00:00:00+00:00",
          "2022-04-07T00:00:00+00:00",
          "2022-04-08T00:00:00+00:00",
          "2022-04-09T00:00:00+00:00",
          "2022-04-10T00:00:00+00:00",
          "2022-04-11T00:00:00+00:00",
          "2022-04-12T00:00:00+00:00",
          "2022-04-13T00:00:00+00:00",
          "2022-04-14T00:00:00+00:00",
          "2022-04-15T00:00:00+00:00",
          "2022-04-16T00:00:00+00:00",
          "2022-04-17T00:00:00+00:00",
          "2022-04-18T00:00:00+00:00",
          "2022-04-19T00:00:00+00:00",
          "2022-04-20T00:00:00+00:00",
          "2022-04-21T00:00:00+00:00",
          "2022-04-22T00:00:00+00:00",
          "2022-04-23T00:00:00+00:00",
          "2022-04-24T00:00:00+00:00",
          "2022-04-25T00:00:00+00:00",
          "2022-04-26T00:00:00+00:00",
          "2022-04-27T00:00:00+00:00",
          "2022-04-28T00:00:00+00:00",
          "2022-04-29T00:00:00+00:00",
          "2022-04-30T00:00:00+00:00",
          "2022-05-01T00:00:00+00:00",
          "2022-05-02T00:00:00+00:00",
          "2022-05-03T00:00:00+00:00",
          "2022-05-04T00:00:00+00:00",
          "2022-05-05T00:00:00+00:00",
          "2022-05-06T00:00:00+00:00",
          "2022-05-07T00:00:00+00:00",
          "2022-05-08T00:00:00+00:00",
          "2022-05-09T00:00:00+00:00",
          "2022-05-10T00:00:00+00:00",
          "2022-05-11T00:00:00+00:00",
          "2022-05-12T00:00:00+00:00",
          "2022-05-13T00:00:00+00:00",
          "2022-05-14T00:00:00+00:00",
          "2022-05-15T00:00:00+00:00",
          "2022-05-16T00:00:00+00:00",
          "2022-05-17T00:00:00+00:00",
          "2022-05-18T00:00:00+00:00",
          "2022-05-19T00:00:00+00:00",
          "2022-05-20T00:00:00+00:00",
          "2022-05-21T00:00:00+00:00",
          "2022-05-22T00:00:00+00:00",
          "2022-05-23T00:00:00+00:00",
          "2022-05-24T00:00:00+00:00",
          "2022-05-25T00:00:00+00:00",
          "2022-05-26T00:00:00+00:00",
          "2022-05-27T00:00:00+00:00",
          "2022-05-28T00:00:00+00:00",
          "2022-05-29T00:00:00+00:00",
          "2022-05-30T00:00:00+00:00",
          "2022-05-31T00:00:00+00:00",
          "2022-06-01T00:00:00+00:00",
          "2022-06-02T00:00:00+00:00",
          "2022-06-03T00:00:00+00:00",
          "2022-06-04T00:00:00+00:00",
          "2022-06-05T00:00:00+00:00",
          "2022-06-06T00:00:00+00:00",
          "2022-06-07T00:00:00+00:00",
          "2022-06-08T00:00:00+00:00",
          "2022-06-09T00:00:00+00:00",
          "2022-06-10T00:00:00+00:00",
          "2022-06-11T00:00:00+00:00",
          "2022-06-12T00:00:00+00:00",
          "2022-06-13T00:00:00+00:00",
          "2022-06-14T00:00:00+00:00",
          "2022-06-15T00:00:00+00:00",
          "2022-06-16T00:00:00+00:00",
          "2022-06-17T00:00:00+00:00",
          "2022-06-18T00:00:00+00:00",
          "2022-06-19T00:00:00+00:00",
          "2022-06-20T00:00:00+00:00"
         ],
         "xaxis": "x",
         "y": [
          1022,
          1021,
          871,
          575,
          500,
          1098,
          17665,
          4739,
          921,
          2008,
          1084,
          718,
          1612,
          27073,
          8115,
          1676,
          1467,
          1066,
          908,
          2588,
          30631,
          13096,
          2396,
          1678,
          994,
          1061,
          1821,
          32377,
          7968,
          1554,
          1766,
          1335,
          960,
          1710,
          31029,
          7280,
          1566,
          1166,
          1020,
          796,
          1780,
          29170,
          7066,
          1733,
          1029,
          861,
          1023,
          1963,
          31017,
          7124,
          1688,
          1365,
          995,
          858,
          1743,
          29185,
          6088,
          1598,
          1228,
          1116,
          1283,
          1954,
          30050,
          7537,
          1927,
          1355,
          1289,
          1076,
          2024,
          33491,
          10469,
          2919,
          1714,
          1382,
          1683,
          3048,
          34216,
          8261,
          1798,
          1541,
          2103,
          7520,
          9213,
          38866,
          9912,
          2240,
          1614,
          1304,
          1379,
          3418,
          25973,
          6628,
          1390,
          1133,
          1073,
          1002,
          2157,
          35167,
          54144,
          3647,
          1399,
          1750,
          1412,
          1802,
          21539,
          11169,
          9309,
          1494,
          1077,
          1071,
          2284,
          31377,
          8292,
          1698,
          2633,
          2513,
          1825,
          1911,
          30476,
          7643,
          1729,
          1533,
          1145,
          1197,
          1778,
          29330,
          7107,
          1450,
          1235,
          1159,
          1000,
          1864,
          32910,
          8223,
          2096,
          1629,
          1108,
          1853,
          3790,
          33404,
          7341,
          1895,
          1453,
          1497,
          1384,
          2060,
          71592,
          12819,
          2648,
          1651,
          1594,
          1296,
          3590,
          30962,
          6997,
          1849,
          1607,
          1129,
          1121,
          2118,
          73451,
          10151,
          2991,
          2230,
          1908,
          1767,
          3114,
          31629,
          10023,
          3481,
          2343
         ],
         "yaxis": "y"
        }
       ],
       "layout": {
        "autosize": true,
        "legend": {
         "tracegroupgap": 0
        },
        "template": {
         "data": {
          "bar": [
           {
            "error_x": {
             "color": "#2a3f5f"
            },
            "error_y": {
             "color": "#2a3f5f"
            },
            "marker": {
             "line": {
              "color": "#E5ECF6",
              "width": 0.5
             },
             "pattern": {
              "fillmode": "overlay",
              "size": 10,
              "solidity": 0.2
             }
            },
            "type": "bar"
           }
          ],
          "barpolar": [
           {
            "marker": {
             "line": {
              "color": "#E5ECF6",
              "width": 0.5
             },
             "pattern": {
              "fillmode": "overlay",
              "size": 10,
              "solidity": 0.2
             }
            },
            "type": "barpolar"
           }
          ],
          "carpet": [
           {
            "aaxis": {
             "endlinecolor": "#2a3f5f",
             "gridcolor": "white",
             "linecolor": "white",
             "minorgridcolor": "white",
             "startlinecolor": "#2a3f5f"
            },
            "baxis": {
             "endlinecolor": "#2a3f5f",
             "gridcolor": "white",
             "linecolor": "white",
             "minorgridcolor": "white",
             "startlinecolor": "#2a3f5f"
            },
            "type": "carpet"
           }
          ],
          "choropleth": [
           {
            "colorbar": {
             "outlinewidth": 0,
             "ticks": ""
            },
            "type": "choropleth"
           }
          ],
          "contour": [
           {
            "colorbar": {
             "outlinewidth": 0,
             "ticks": ""
            },
            "colorscale": [
             [
              0,
              "#0d0887"
             ],
             [
              0.1111111111111111,
              "#46039f"
             ],
             [
              0.2222222222222222,
              "#7201a8"
             ],
             [
              0.3333333333333333,
              "#9c179e"
             ],
             [
              0.4444444444444444,
              "#bd3786"
             ],
             [
              0.5555555555555556,
              "#d8576b"
             ],
             [
              0.6666666666666666,
              "#ed7953"
             ],
             [
              0.7777777777777778,
              "#fb9f3a"
             ],
             [
              0.8888888888888888,
              "#fdca26"
             ],
             [
              1,
              "#f0f921"
             ]
            ],
            "type": "contour"
           }
          ],
          "contourcarpet": [
           {
            "colorbar": {
             "outlinewidth": 0,
             "ticks": ""
            },
            "type": "contourcarpet"
           }
          ],
          "heatmap": [
           {
            "colorbar": {
             "outlinewidth": 0,
             "ticks": ""
            },
            "colorscale": [
             [
              0,
              "#0d0887"
             ],
             [
              0.1111111111111111,
              "#46039f"
             ],
             [
              0.2222222222222222,
              "#7201a8"
             ],
             [
              0.3333333333333333,
              "#9c179e"
             ],
             [
              0.4444444444444444,
              "#bd3786"
             ],
             [
              0.5555555555555556,
              "#d8576b"
             ],
             [
              0.6666666666666666,
              "#ed7953"
             ],
             [
              0.7777777777777778,
              "#fb9f3a"
             ],
             [
              0.8888888888888888,
              "#fdca26"
             ],
             [
              1,
              "#f0f921"
             ]
            ],
            "type": "heatmap"
           }
          ],
          "heatmapgl": [
           {
            "colorbar": {
             "outlinewidth": 0,
             "ticks": ""
            },
            "colorscale": [
             [
              0,
              "#0d0887"
             ],
             [
              0.1111111111111111,
              "#46039f"
             ],
             [
              0.2222222222222222,
              "#7201a8"
             ],
             [
              0.3333333333333333,
              "#9c179e"
             ],
             [
              0.4444444444444444,
              "#bd3786"
             ],
             [
              0.5555555555555556,
              "#d8576b"
             ],
             [
              0.6666666666666666,
              "#ed7953"
             ],
             [
              0.7777777777777778,
              "#fb9f3a"
             ],
             [
              0.8888888888888888,
              "#fdca26"
             ],
             [
              1,
              "#f0f921"
             ]
            ],
            "type": "heatmapgl"
           }
          ],
          "histogram": [
           {
            "marker": {
             "pattern": {
              "fillmode": "overlay",
              "size": 10,
              "solidity": 0.2
             }
            },
            "type": "histogram"
           }
          ],
          "histogram2d": [
           {
            "colorbar": {
             "outlinewidth": 0,
             "ticks": ""
            },
            "colorscale": [
             [
              0,
              "#0d0887"
             ],
             [
              0.1111111111111111,
              "#46039f"
             ],
             [
              0.2222222222222222,
              "#7201a8"
             ],
             [
              0.3333333333333333,
              "#9c179e"
             ],
             [
              0.4444444444444444,
              "#bd3786"
             ],
             [
              0.5555555555555556,
              "#d8576b"
             ],
             [
              0.6666666666666666,
              "#ed7953"
             ],
             [
              0.7777777777777778,
              "#fb9f3a"
             ],
             [
              0.8888888888888888,
              "#fdca26"
             ],
             [
              1,
              "#f0f921"
             ]
            ],
            "type": "histogram2d"
           }
          ],
          "histogram2dcontour": [
           {
            "colorbar": {
             "outlinewidth": 0,
             "ticks": ""
            },
            "colorscale": [
             [
              0,
              "#0d0887"
             ],
             [
              0.1111111111111111,
              "#46039f"
             ],
             [
              0.2222222222222222,
              "#7201a8"
             ],
             [
              0.3333333333333333,
              "#9c179e"
             ],
             [
              0.4444444444444444,
              "#bd3786"
             ],
             [
              0.5555555555555556,
              "#d8576b"
             ],
             [
              0.6666666666666666,
              "#ed7953"
             ],
             [
              0.7777777777777778,
              "#fb9f3a"
             ],
             [
              0.8888888888888888,
              "#fdca26"
             ],
             [
              1,
              "#f0f921"
             ]
            ],
            "type": "histogram2dcontour"
           }
          ],
          "mesh3d": [
           {
            "colorbar": {
             "outlinewidth": 0,
             "ticks": ""
            },
            "type": "mesh3d"
           }
          ],
          "parcoords": [
           {
            "line": {
             "colorbar": {
              "outlinewidth": 0,
              "ticks": ""
             }
            },
            "type": "parcoords"
           }
          ],
          "pie": [
           {
            "automargin": true,
            "type": "pie"
           }
          ],
          "scatter": [
           {
            "marker": {
             "colorbar": {
              "outlinewidth": 0,
              "ticks": ""
             }
            },
            "type": "scatter"
           }
          ],
          "scatter3d": [
           {
            "line": {
             "colorbar": {
              "outlinewidth": 0,
              "ticks": ""
             }
            },
            "marker": {
             "colorbar": {
              "outlinewidth": 0,
              "ticks": ""
             }
            },
            "type": "scatter3d"
           }
          ],
          "scattercarpet": [
           {
            "marker": {
             "colorbar": {
              "outlinewidth": 0,
              "ticks": ""
             }
            },
            "type": "scattercarpet"
           }
          ],
          "scattergeo": [
           {
            "marker": {
             "colorbar": {
              "outlinewidth": 0,
              "ticks": ""
             }
            },
            "type": "scattergeo"
           }
          ],
          "scattergl": [
           {
            "marker": {
             "colorbar": {
              "outlinewidth": 0,
              "ticks": ""
             }
            },
            "type": "scattergl"
           }
          ],
          "scattermapbox": [
           {
            "marker": {
             "colorbar": {
              "outlinewidth": 0,
              "ticks": ""
             }
            },
            "type": "scattermapbox"
           }
          ],
          "scatterpolar": [
           {
            "marker": {
             "colorbar": {
              "outlinewidth": 0,
              "ticks": ""
             }
            },
            "type": "scatterpolar"
           }
          ],
          "scatterpolargl": [
           {
            "marker": {
             "colorbar": {
              "outlinewidth": 0,
              "ticks": ""
             }
            },
            "type": "scatterpolargl"
           }
          ],
          "scatterternary": [
           {
            "marker": {
             "colorbar": {
              "outlinewidth": 0,
              "ticks": ""
             }
            },
            "type": "scatterternary"
           }
          ],
          "surface": [
           {
            "colorbar": {
             "outlinewidth": 0,
             "ticks": ""
            },
            "colorscale": [
             [
              0,
              "#0d0887"
             ],
             [
              0.1111111111111111,
              "#46039f"
             ],
             [
              0.2222222222222222,
              "#7201a8"
             ],
             [
              0.3333333333333333,
              "#9c179e"
             ],
             [
              0.4444444444444444,
              "#bd3786"
             ],
             [
              0.5555555555555556,
              "#d8576b"
             ],
             [
              0.6666666666666666,
              "#ed7953"
             ],
             [
              0.7777777777777778,
              "#fb9f3a"
             ],
             [
              0.8888888888888888,
              "#fdca26"
             ],
             [
              1,
              "#f0f921"
             ]
            ],
            "type": "surface"
           }
          ],
          "table": [
           {
            "cells": {
             "fill": {
              "color": "#EBF0F8"
             },
             "line": {
              "color": "white"
             }
            },
            "header": {
             "fill": {
              "color": "#C8D4E3"
             },
             "line": {
              "color": "white"
             }
            },
            "type": "table"
           }
          ]
         },
         "layout": {
          "annotationdefaults": {
           "arrowcolor": "#2a3f5f",
           "arrowhead": 0,
           "arrowwidth": 1
          },
          "autotypenumbers": "strict",
          "coloraxis": {
           "colorbar": {
            "outlinewidth": 0,
            "ticks": ""
           }
          },
          "colorscale": {
           "diverging": [
            [
             0,
             "#8e0152"
            ],
            [
             0.1,
             "#c51b7d"
            ],
            [
             0.2,
             "#de77ae"
            ],
            [
             0.3,
             "#f1b6da"
            ],
            [
             0.4,
             "#fde0ef"
            ],
            [
             0.5,
             "#f7f7f7"
            ],
            [
             0.6,
             "#e6f5d0"
            ],
            [
             0.7,
             "#b8e186"
            ],
            [
             0.8,
             "#7fbc41"
            ],
            [
             0.9,
             "#4d9221"
            ],
            [
             1,
             "#276419"
            ]
           ],
           "sequential": [
            [
             0,
             "#0d0887"
            ],
            [
             0.1111111111111111,
             "#46039f"
            ],
            [
             0.2222222222222222,
             "#7201a8"
            ],
            [
             0.3333333333333333,
             "#9c179e"
            ],
            [
             0.4444444444444444,
             "#bd3786"
            ],
            [
             0.5555555555555556,
             "#d8576b"
            ],
            [
             0.6666666666666666,
             "#ed7953"
            ],
            [
             0.7777777777777778,
             "#fb9f3a"
            ],
            [
             0.8888888888888888,
             "#fdca26"
            ],
            [
             1,
             "#f0f921"
            ]
           ],
           "sequentialminus": [
            [
             0,
             "#0d0887"
            ],
            [
             0.1111111111111111,
             "#46039f"
            ],
            [
             0.2222222222222222,
             "#7201a8"
            ],
            [
             0.3333333333333333,
             "#9c179e"
            ],
            [
             0.4444444444444444,
             "#bd3786"
            ],
            [
             0.5555555555555556,
             "#d8576b"
            ],
            [
             0.6666666666666666,
             "#ed7953"
            ],
            [
             0.7777777777777778,
             "#fb9f3a"
            ],
            [
             0.8888888888888888,
             "#fdca26"
            ],
            [
             1,
             "#f0f921"
            ]
           ]
          },
          "colorway": [
           "#636efa",
           "#EF553B",
           "#00cc96",
           "#ab63fa",
           "#FFA15A",
           "#19d3f3",
           "#FF6692",
           "#B6E880",
           "#FF97FF",
           "#FECB52"
          ],
          "font": {
           "color": "#2a3f5f"
          },
          "geo": {
           "bgcolor": "white",
           "lakecolor": "white",
           "landcolor": "#E5ECF6",
           "showlakes": true,
           "showland": true,
           "subunitcolor": "white"
          },
          "hoverlabel": {
           "align": "left"
          },
          "hovermode": "closest",
          "mapbox": {
           "style": "light"
          },
          "paper_bgcolor": "white",
          "plot_bgcolor": "#E5ECF6",
          "polar": {
           "angularaxis": {
            "gridcolor": "white",
            "linecolor": "white",
            "ticks": ""
           },
           "bgcolor": "#E5ECF6",
           "radialaxis": {
            "gridcolor": "white",
            "linecolor": "white",
            "ticks": ""
           }
          },
          "scene": {
           "xaxis": {
            "backgroundcolor": "#E5ECF6",
            "gridcolor": "white",
            "gridwidth": 2,
            "linecolor": "white",
            "showbackground": true,
            "ticks": "",
            "zerolinecolor": "white"
           },
           "yaxis": {
            "backgroundcolor": "#E5ECF6",
            "gridcolor": "white",
            "gridwidth": 2,
            "linecolor": "white",
            "showbackground": true,
            "ticks": "",
            "zerolinecolor": "white"
           },
           "zaxis": {
            "backgroundcolor": "#E5ECF6",
            "gridcolor": "white",
            "gridwidth": 2,
            "linecolor": "white",
            "showbackground": true,
            "ticks": "",
            "zerolinecolor": "white"
           }
          },
          "shapedefaults": {
           "line": {
            "color": "#2a3f5f"
           }
          },
          "ternary": {
           "aaxis": {
            "gridcolor": "white",
            "linecolor": "white",
            "ticks": ""
           },
           "baxis": {
            "gridcolor": "white",
            "linecolor": "white",
            "ticks": ""
           },
           "bgcolor": "#E5ECF6",
           "caxis": {
            "gridcolor": "white",
            "linecolor": "white",
            "ticks": ""
           }
          },
          "title": {
           "x": 0.05
          },
          "xaxis": {
           "automargin": true,
           "gridcolor": "white",
           "linecolor": "white",
           "ticks": "",
           "title": {
            "standoff": 15
           },
           "zerolinecolor": "white",
           "zerolinewidth": 2
          },
          "yaxis": {
           "automargin": true,
           "gridcolor": "white",
           "linecolor": "white",
           "ticks": "",
           "title": {
            "standoff": 15
           },
           "zerolinecolor": "white",
           "zerolinewidth": 2
          }
         }
        },
        "title": {
         "text": "Tweet Counts"
        },
        "xaxis": {
         "anchor": "y",
         "autorange": true,
         "domain": [
          0,
          1
         ],
         "range": [
          "2022-01-01",
          "2022-06-20"
         ],
         "title": {
          "text": "Time"
         },
         "type": "date"
        },
        "yaxis": {
         "anchor": "x",
         "autorange": true,
         "domain": [
          0,
          1
         ],
         "range": [
          -3552.8333333333335,
          77503.83333333333
         ],
         "title": {
          "text": "# of Tweets"
         },
         "type": "linear"
        }
       }
      },
      "image/png": "[encoded data removed]",
      "text/html": [
       "<div>                            <div id=\"7d07f537-e75d-4e36-b332-970c5f415808\" class=\"plotly-graph-div\" style=\"height:525px; width:100%;\"></div>            <script type=\"text/javascript\">                require([\"plotly\"], function(Plotly) {                    window.PLOTLYENV=window.PLOTLYENV || {};                                    if (document.getElementById(\"7d07f537-e75d-4e36-b332-970c5f415808\")) {                    Plotly.newPlot(                        \"7d07f537-e75d-4e36-b332-970c5f415808\",                        [{\"hovertemplate\":\"Time=%{x}<br># of Tweets=%{y}<extra></extra>\",\"legendgroup\":\"\",\"line\":{\"color\":\"#636efa\",\"dash\":\"solid\"},\"marker\":{\"symbol\":\"circle\"},\"mode\":\"lines\",\"name\":\"\",\"orientation\":\"v\",\"showlegend\":false,\"type\":\"scatter\",\"x\":[\"2022-01-01T00:00:00+00:00\",\"2022-01-02T00:00:00+00:00\",\"2022-01-03T00:00:00+00:00\",\"2022-01-04T00:00:00+00:00\",\"2022-01-05T00:00:00+00:00\",\"2022-01-06T00:00:00+00:00\",\"2022-01-07T00:00:00+00:00\",\"2022-01-08T00:00:00+00:00\",\"2022-01-09T00:00:00+00:00\",\"2022-01-10T00:00:00+00:00\",\"2022-01-11T00:00:00+00:00\",\"2022-01-12T00:00:00+00:00\",\"2022-01-13T00:00:00+00:00\",\"2022-01-14T00:00:00+00:00\",\"2022-01-15T00:00:00+00:00\",\"2022-01-16T00:00:00+00:00\",\"2022-01-17T00:00:00+00:00\",\"2022-01-18T00:00:00+00:00\",\"2022-01-19T00:00:00+00:00\",\"2022-01-20T00:00:00+00:00\",\"2022-01-21T00:00:00+00:00\",\"2022-01-22T00:00:00+00:00\",\"2022-01-23T00:00:00+00:00\",\"2022-01-24T00:00:00+00:00\",\"2022-01-25T00:00:00+00:00\",\"2022-01-26T00:00:00+00:00\",\"2022-01-27T00:00:00+00:00\",\"2022-01-28T00:00:00+00:00\",\"2022-01-29T00:00:00+00:00\",\"2022-01-30T00:00:00+00:00\",\"2022-01-31T00:00:00+00:00\",\"2022-02-01T00:00:00+00:00\",\"2022-02-02T00:00:00+00:00\",\"2022-02-03T00:00:00+00:00\",\"2022-02-04T00:00:00+00:00\",\"2022-02-05T00:00:00+00:00\",\"2022-02-06T00:00:00+00:00\",\"2022-02-07T00:00:00+00:00\",\"2022-02-08T00:00:00+00:00\",\"2022-02-09T00:00:00+00:00\",\"2022-02-10T00:00:00+00:00\",\"2022-02-11T00:00:00+00:00\",\"2022-02-12T00:00:00+00:00\",\"2022-02-13T00:00:00+00:00\",\"2022-02-14T00:00:00+00:00\",\"2022-02-15T00:00:00+00:00\",\"2022-02-16T00:00:00+00:00\",\"2022-02-17T00:00:00+00:00\",\"2022-02-18T00:00:00+00:00\",\"2022-02-19T00:00:00+00:00\",\"2022-02-20T00:00:00+00:00\",\"2022-02-21T00:00:00+00:00\",\"2022-02-22T00:00:00+00:00\",\"2022-02-23T00:00:00+00:00\",\"2022-02-24T00:00:00+00:00\",\"2022-02-25T00:00:00+00:00\",\"2022-02-26T00:00:00+00:00\",\"2022-02-27T00:00:00+00:00\",\"2022-02-28T00:00:00+00:00\",\"2022-03-01T00:00:00+00:00\",\"2022-03-02T00:00:00+00:00\",\"2022-03-03T00:00:00+00:00\",\"2022-03-04T00:00:00+00:00\",\"2022-03-05T00:00:00+00:00\",\"2022-03-06T00:00:00+00:00\",\"2022-03-07T00:00:00+00:00\",\"2022-03-08T00:00:00+00:00\",\"2022-03-09T00:00:00+00:00\",\"2022-03-10T00:00:00+00:00\",\"2022-03-11T00:00:00+00:00\",\"2022-03-12T00:00:00+00:00\",\"2022-03-13T00:00:00+00:00\",\"2022-03-14T00:00:00+00:00\",\"2022-03-15T00:00:00+00:00\",\"2022-03-16T00:00:00+00:00\",\"2022-03-17T00:00:00+00:00\",\"2022-03-18T00:00:00+00:00\",\"2022-03-19T00:00:00+00:00\",\"2022-03-20T00:00:00+00:00\",\"2022-03-21T00:00:00+00:00\",\"2022-03-22T00:00:00+00:00\",\"2022-03-23T00:00:00+00:00\",\"2022-03-24T00:00:00+00:00\",\"2022-03-25T00:00:00+00:00\",\"2022-03-26T00:00:00+00:00\",\"2022-03-27T00:00:00+00:00\",\"2022-03-28T00:00:00+00:00\",\"2022-03-29T00:00:00+00:00\",\"2022-03-30T00:00:00+00:00\",\"2022-03-31T00:00:00+00:00\",\"2022-04-01T00:00:00+00:00\",\"2022-04-02T00:00:00+00:00\",\"2022-04-03T00:00:00+00:00\",\"2022-04-04T00:00:00+00:00\",\"2022-04-05T00:00:00+00:00\",\"2022-04-06T00:00:00+00:00\",\"2022-04-07T00:00:00+00:00\",\"2022-04-08T00:00:00+00:00\",\"2022-04-09T00:00:00+00:00\",\"2022-04-10T00:00:00+00:00\",\"2022-04-11T00:00:00+00:00\",\"2022-04-12T00:00:00+00:00\",\"2022-04-13T00:00:00+00:00\",\"2022-04-14T00:00:00+00:00\",\"2022-04-15T00:00:00+00:00\",\"2022-04-16T00:00:00+00:00\",\"2022-04-17T00:00:00+00:00\",\"2022-04-18T00:00:00+00:00\",\"2022-04-19T00:00:00+00:00\",\"2022-04-20T00:00:00+00:00\",\"2022-04-21T00:00:00+00:00\",\"2022-04-22T00:00:00+00:00\",\"2022-04-23T00:00:00+00:00\",\"2022-04-24T00:00:00+00:00\",\"2022-04-25T00:00:00+00:00\",\"2022-04-26T00:00:00+00:00\",\"2022-04-27T00:00:00+00:00\",\"2022-04-28T00:00:00+00:00\",\"2022-04-29T00:00:00+00:00\",\"2022-04-30T00:00:00+00:00\",\"2022-05-01T00:00:00+00:00\",\"2022-05-02T00:00:00+00:00\",\"2022-05-03T00:00:00+00:00\",\"2022-05-04T00:00:00+00:00\",\"2022-05-05T00:00:00+00:00\",\"2022-05-06T00:00:00+00:00\",\"2022-05-07T00:00:00+00:00\",\"2022-05-08T00:00:00+00:00\",\"2022-05-09T00:00:00+00:00\",\"2022-05-10T00:00:00+00:00\",\"2022-05-11T00:00:00+00:00\",\"2022-05-12T00:00:00+00:00\",\"2022-05-13T00:00:00+00:00\",\"2022-05-14T00:00:00+00:00\",\"2022-05-15T00:00:00+00:00\",\"2022-05-16T00:00:00+00:00\",\"2022-05-17T00:00:00+00:00\",\"2022-05-18T00:00:00+00:00\",\"2022-05-19T00:00:00+00:00\",\"2022-05-20T00:00:00+00:00\",\"2022-05-21T00:00:00+00:00\",\"2022-05-22T00:00:00+00:00\",\"2022-05-23T00:00:00+00:00\",\"2022-05-24T00:00:00+00:00\",\"2022-05-25T00:00:00+00:00\",\"2022-05-26T00:00:00+00:00\",\"2022-05-27T00:00:00+00:00\",\"2022-05-28T00:00:00+00:00\",\"2022-05-29T00:00:00+00:00\",\"2022-05-30T00:00:00+00:00\",\"2022-05-31T00:00:00+00:00\",\"2022-06-01T00:00:00+00:00\",\"2022-06-02T00:00:00+00:00\",\"2022-06-03T00:00:00+00:00\",\"2022-06-04T00:00:00+00:00\",\"2022-06-05T00:00:00+00:00\",\"2022-06-06T00:00:00+00:00\",\"2022-06-07T00:00:00+00:00\",\"2022-06-08T00:00:00+00:00\",\"2022-06-09T00:00:00+00:00\",\"2022-06-10T00:00:00+00:00\",\"2022-06-11T00:00:00+00:00\",\"2022-06-12T00:00:00+00:00\",\"2022-06-13T00:00:00+00:00\",\"2022-06-14T00:00:00+00:00\",\"2022-06-15T00:00:00+00:00\",\"2022-06-16T00:00:00+00:00\",\"2022-06-17T00:00:00+00:00\",\"2022-06-18T00:00:00+00:00\",\"2022-06-19T00:00:00+00:00\",\"2022-06-20T00:00:00+00:00\"],\"xaxis\":\"x\",\"y\":[1022,1021,871,575,500,1098,17665,4739,921,2008,1084,718,1612,27073,8115,1676,1467,1066,908,2588,30631,13096,2396,1678,994,1061,1821,32377,7968,1554,1766,1335,960,1710,31029,7280,1566,1166,1020,796,1780,29170,7066,1733,1029,861,1023,1963,31017,7124,1688,1365,995,858,1743,29185,6088,1598,1228,1116,1283,1954,30050,7537,1927,1355,1289,1076,2024,33491,10469,2919,1714,1382,1683,3048,34216,8261,1798,1541,2103,7520,9213,38866,9912,2240,1614,1304,1379,3418,25973,6628,1390,1133,1073,1002,2157,35167,54144,3647,1399,1750,1412,1802,21539,11169,9309,1494,1077,1071,2284,31377,8292,1698,2633,2513,1825,1911,30476,7643,1729,1533,1145,1197,1778,29330,7107,1450,1235,1159,1000,1864,32910,8223,2096,1629,1108,1853,3790,33404,7341,1895,1453,1497,1384,2060,71592,12819,2648,1651,1594,1296,3590,30962,6997,1849,1607,1129,1121,2118,73451,10151,2991,2230,1908,1767,3114,31629,10023,3481,2343],\"yaxis\":\"y\"}],                        {\"legend\":{\"tracegroupgap\":0},\"template\":{\"data\":{\"bar\":[{\"error_x\":{\"color\":\"#2a3f5f\"},\"error_y\":{\"color\":\"#2a3f5f\"},\"marker\":{\"line\":{\"color\":\"#E5ECF6\",\"width\":0.5},\"pattern\":{\"fillmode\":\"overlay\",\"size\":10,\"solidity\":0.2}},\"type\":\"bar\"}],\"barpolar\":[{\"marker\":{\"line\":{\"color\":\"#E5ECF6\",\"width\":0.5},\"pattern\":{\"fillmode\":\"overlay\",\"size\":10,\"solidity\":0.2}},\"type\":\"barpolar\"}],\"carpet\":[{\"aaxis\":{\"endlinecolor\":\"#2a3f5f\",\"gridcolor\":\"white\",\"linecolor\":\"white\",\"minorgridcolor\":\"white\",\"startlinecolor\":\"#2a3f5f\"},\"baxis\":{\"endlinecolor\":\"#2a3f5f\",\"gridcolor\":\"white\",\"linecolor\":\"white\",\"minorgridcolor\":\"white\",\"startlinecolor\":\"#2a3f5f\"},\"type\":\"carpet\"}],\"choropleth\":[{\"colorbar\":{\"outlinewidth\":0,\"ticks\":\"\"},\"type\":\"choropleth\"}],\"contour\":[{\"colorbar\":{\"outlinewidth\":0,\"ticks\":\"\"},\"colorscale\":[[0.0,\"#0d0887\"],[0.1111111111111111,\"#46039f\"],[0.2222222222222222,\"#7201a8\"],[0.3333333333333333,\"#9c179e\"],[0.4444444444444444,\"#bd3786\"],[0.5555555555555556,\"#d8576b\"],[0.6666666666666666,\"#ed7953\"],[0.7777777777777778,\"#fb9f3a\"],[0.8888888888888888,\"#fdca26\"],[1.0,\"#f0f921\"]],\"type\":\"contour\"}],\"contourcarpet\":[{\"colorbar\":{\"outlinewidth\":0,\"ticks\":\"\"},\"type\":\"contourcarpet\"}],\"heatmap\":[{\"colorbar\":{\"outlinewidth\":0,\"ticks\":\"\"},\"colorscale\":[[0.0,\"#0d0887\"],[0.1111111111111111,\"#46039f\"],[0.2222222222222222,\"#7201a8\"],[0.3333333333333333,\"#9c179e\"],[0.4444444444444444,\"#bd3786\"],[0.5555555555555556,\"#d8576b\"],[0.6666666666666666,\"#ed7953\"],[0.7777777777777778,\"#fb9f3a\"],[0.8888888888888888,\"#fdca26\"],[1.0,\"#f0f921\"]],\"type\":\"heatmap\"}],\"heatmapgl\":[{\"colorbar\":{\"outlinewidth\":0,\"ticks\":\"\"},\"colorscale\":[[0.0,\"#0d0887\"],[0.1111111111111111,\"#46039f\"],[0.2222222222222222,\"#7201a8\"],[0.3333333333333333,\"#9c179e\"],[0.4444444444444444,\"#bd3786\"],[0.5555555555555556,\"#d8576b\"],[0.6666666666666666,\"#ed7953\"],[0.7777777777777778,\"#fb9f3a\"],[0.8888888888888888,\"#fdca26\"],[1.0,\"#f0f921\"]],\"type\":\"heatmapgl\"}],\"histogram\":[{\"marker\":{\"pattern\":{\"fillmode\":\"overlay\",\"size\":10,\"solidity\":0.2}},\"type\":\"histogram\"}],\"histogram2d\":[{\"colorbar\":{\"outlinewidth\":0,\"ticks\":\"\"},\"colorscale\":[[0.0,\"#0d0887\"],[0.1111111111111111,\"#46039f\"],[0.2222222222222222,\"#7201a8\"],[0.3333333333333333,\"#9c179e\"],[0.4444444444444444,\"#bd3786\"],[0.5555555555555556,\"#d8576b\"],[0.6666666666666666,\"#ed7953\"],[0.7777777777777778,\"#fb9f3a\"],[0.8888888888888888,\"#fdca26\"],[1.0,\"#f0f921\"]],\"type\":\"histogram2d\"}],\"histogram2dcontour\":[{\"colorbar\":{\"outlinewidth\":0,\"ticks\":\"\"},\"colorscale\":[[0.0,\"#0d0887\"],[0.1111111111111111,\"#46039f\"],[0.2222222222222222,\"#7201a8\"],[0.3333333333333333,\"#9c179e\"],[0.4444444444444444,\"#bd3786\"],[0.5555555555555556,\"#d8576b\"],[0.6666666666666666,\"#ed7953\"],[0.7777777777777778,\"#fb9f3a\"],[0.8888888888888888,\"#fdca26\"],[1.0,\"#f0f921\"]],\"type\":\"histogram2dcontour\"}],\"mesh3d\":[{\"colorbar\":{\"outlinewidth\":0,\"ticks\":\"\"},\"type\":\"mesh3d\"}],\"parcoords\":[{\"line\":{\"colorbar\":{\"outlinewidth\":0,\"ticks\":\"\"}},\"type\":\"parcoords\"}],\"pie\":[{\"automargin\":true,\"type\":\"pie\"}],\"scatter\":[{\"marker\":{\"colorbar\":{\"outlinewidth\":0,\"ticks\":\"\"}},\"type\":\"scatter\"}],\"scatter3d\":[{\"line\":{\"colorbar\":{\"outlinewidth\":0,\"ticks\":\"\"}},\"marker\":{\"colorbar\":{\"outlinewidth\":0,\"ticks\":\"\"}},\"type\":\"scatter3d\"}],\"scattercarpet\":[{\"marker\":{\"colorbar\":{\"outlinewidth\":0,\"ticks\":\"\"}},\"type\":\"scattercarpet\"}],\"scattergeo\":[{\"marker\":{\"colorbar\":{\"outlinewidth\":0,\"ticks\":\"\"}},\"type\":\"scattergeo\"}],\"scattergl\":[{\"marker\":{\"colorbar\":{\"outlinewidth\":0,\"ticks\":\"\"}},\"type\":\"scattergl\"}],\"scattermapbox\":[{\"marker\":{\"colorbar\":{\"outlinewidth\":0,\"ticks\":\"\"}},\"type\":\"scattermapbox\"}],\"scatterpolar\":[{\"marker\":{\"colorbar\":{\"outlinewidth\":0,\"ticks\":\"\"}},\"type\":\"scatterpolar\"}],\"scatterpolargl\":[{\"marker\":{\"colorbar\":{\"outlinewidth\":0,\"ticks\":\"\"}},\"type\":\"scatterpolargl\"}],\"scatterternary\":[{\"marker\":{\"colorbar\":{\"outlinewidth\":0,\"ticks\":\"\"}},\"type\":\"scatterternary\"}],\"surface\":[{\"colorbar\":{\"outlinewidth\":0,\"ticks\":\"\"},\"colorscale\":[[0.0,\"#0d0887\"],[0.1111111111111111,\"#46039f\"],[0.2222222222222222,\"#7201a8\"],[0.3333333333333333,\"#9c179e\"],[0.4444444444444444,\"#bd3786\"],[0.5555555555555556,\"#d8576b\"],[0.6666666666666666,\"#ed7953\"],[0.7777777777777778,\"#fb9f3a\"],[0.8888888888888888,\"#fdca26\"],[1.0,\"#f0f921\"]],\"type\":\"surface\"}],\"table\":[{\"cells\":{\"fill\":{\"color\":\"#EBF0F8\"},\"line\":{\"color\":\"white\"}},\"header\":{\"fill\":{\"color\":\"#C8D4E3\"},\"line\":{\"color\":\"white\"}},\"type\":\"table\"}]},\"layout\":{\"annotationdefaults\":{\"arrowcolor\":\"#2a3f5f\",\"arrowhead\":0,\"arrowwidth\":1},\"autotypenumbers\":\"strict\",\"coloraxis\":{\"colorbar\":{\"outlinewidth\":0,\"ticks\":\"\"}},\"colorscale\":{\"diverging\":[[0,\"#8e0152\"],[0.1,\"#c51b7d\"],[0.2,\"#de77ae\"],[0.3,\"#f1b6da\"],[0.4,\"#fde0ef\"],[0.5,\"#f7f7f7\"],[0.6,\"#e6f5d0\"],[0.7,\"#b8e186\"],[0.8,\"#7fbc41\"],[0.9,\"#4d9221\"],[1,\"#276419\"]],\"sequential\":[[0.0,\"#0d0887\"],[0.1111111111111111,\"#46039f\"],[0.2222222222222222,\"#7201a8\"],[0.3333333333333333,\"#9c179e\"],[0.4444444444444444,\"#bd3786\"],[0.5555555555555556,\"#d8576b\"],[0.6666666666666666,\"#ed7953\"],[0.7777777777777778,\"#fb9f3a\"],[0.8888888888888888,\"#fdca26\"],[1.0,\"#f0f921\"]],\"sequentialminus\":[[0.0,\"#0d0887\"],[0.1111111111111111,\"#46039f\"],[0.2222222222222222,\"#7201a8\"],[0.3333333333333333,\"#9c179e\"],[0.4444444444444444,\"#bd3786\"],[0.5555555555555556,\"#d8576b\"],[0.6666666666666666,\"#ed7953\"],[0.7777777777777778,\"#fb9f3a\"],[0.8888888888888888,\"#fdca26\"],[1.0,\"#f0f921\"]]},\"colorway\":[\"#636efa\",\"#EF553B\",\"#00cc96\",\"#ab63fa\",\"#FFA15A\",\"#19d3f3\",\"#FF6692\",\"#B6E880\",\"#FF97FF\",\"#FECB52\"],\"font\":{\"color\":\"#2a3f5f\"},\"geo\":{\"bgcolor\":\"white\",\"lakecolor\":\"white\",\"landcolor\":\"#E5ECF6\",\"showlakes\":true,\"showland\":true,\"subunitcolor\":\"white\"},\"hoverlabel\":{\"align\":\"left\"},\"hovermode\":\"closest\",\"mapbox\":{\"style\":\"light\"},\"paper_bgcolor\":\"white\",\"plot_bgcolor\":\"#E5ECF6\",\"polar\":{\"angularaxis\":{\"gridcolor\":\"white\",\"linecolor\":\"white\",\"ticks\":\"\"},\"bgcolor\":\"#E5ECF6\",\"radialaxis\":{\"gridcolor\":\"white\",\"linecolor\":\"white\",\"ticks\":\"\"}},\"scene\":{\"xaxis\":{\"backgroundcolor\":\"#E5ECF6\",\"gridcolor\":\"white\",\"gridwidth\":2,\"linecolor\":\"white\",\"showbackground\":true,\"ticks\":\"\",\"zerolinecolor\":\"white\"},\"yaxis\":{\"backgroundcolor\":\"#E5ECF6\",\"gridcolor\":\"white\",\"gridwidth\":2,\"linecolor\":\"white\",\"showbackground\":true,\"ticks\":\"\",\"zerolinecolor\":\"white\"},\"zaxis\":{\"backgroundcolor\":\"#E5ECF6\",\"gridcolor\":\"white\",\"gridwidth\":2,\"linecolor\":\"white\",\"showbackground\":true,\"ticks\":\"\",\"zerolinecolor\":\"white\"}},\"shapedefaults\":{\"line\":{\"color\":\"#2a3f5f\"}},\"ternary\":{\"aaxis\":{\"gridcolor\":\"white\",\"linecolor\":\"white\",\"ticks\":\"\"},\"baxis\":{\"gridcolor\":\"white\",\"linecolor\":\"white\",\"ticks\":\"\"},\"bgcolor\":\"#E5ECF6\",\"caxis\":{\"gridcolor\":\"white\",\"linecolor\":\"white\",\"ticks\":\"\"}},\"title\":{\"x\":0.05},\"xaxis\":{\"automargin\":true,\"gridcolor\":\"white\",\"linecolor\":\"white\",\"ticks\":\"\",\"title\":{\"standoff\":15},\"zerolinecolor\":\"white\",\"zerolinewidth\":2},\"yaxis\":{\"automargin\":true,\"gridcolor\":\"white\",\"linecolor\":\"white\",\"ticks\":\"\",\"title\":{\"standoff\":15},\"zerolinecolor\":\"white\",\"zerolinewidth\":2}}},\"title\":{\"text\":\"Tweet Counts\"},\"xaxis\":{\"anchor\":\"y\",\"domain\":[0.0,1.0],\"title\":{\"text\":\"Time\"}},\"yaxis\":{\"anchor\":\"x\",\"domain\":[0.0,1.0],\"title\":{\"text\":\"# of Tweets\"}}},                        {\"responsive\": true}                    ).then(function(){\n",
       "                            \n",
       "var gd = document.getElementById('7d07f537-e75d-4e36-b332-970c5f415808');\n",
       "var x = new MutationObserver(function (mutations, observer) {{\n",
       "        var display = window.getComputedStyle(gd).display;\n",
       "        if (!display || display === 'none') {{\n",
       "            console.log([gd, 'removed!']);\n",
       "            Plotly.purge(gd);\n",
       "            observer.disconnect();\n",
       "        }}\n",
       "}});\n",
       "\n",
       "// Listen for the removal of the full notebook cells\n",
       "var notebookContainer = gd.closest('#notebook-container');\n",
       "if (notebookContainer) {{\n",
       "    x.observe(notebookContainer, {childList: true});\n",
       "}}\n",
       "\n",
       "// Listen for the clearing of the current output cell\n",
       "var outputEl = gd.closest('.output');\n",
       "if (outputEl) {{\n",
       "    x.observe(outputEl, {childList: true});\n",
       "}}\n",
       "\n",
       "                        })                };                });            </script>        </div>"
      ]
     },
     "metadata": {},
     "output_type": "display_data"
    }
   ],
   "source": [
    "# Change the title of the plot here\n",
    "my_title = \"Tweet Counts\"\n",
    "# Change the file name here\n",
    "filename = \"tgif-tweet-counts.csv\"\n",
    "\n",
    "# Read in CSV as DataFrame\n",
    "tweet_counts_df = pd.read_csv(filename, parse_dates=['start', 'end'])\n",
    "\n",
    "# Set start time as DataFrame index\n",
    "tweet_counts_df.set_index('start', inplace=True)\n",
    "\n",
    "# Regroup, or resample, tweets by month, day, or year\n",
    "# Uncomment to choose which time span to group by\n",
    "#grouped_count = tweet_counts_df.resample('M')['day_count'].sum().reset_index() # Month\n",
    "grouped_count = tweet_counts_df.resample('D')['day_count'].sum().reset_index() # Day\n",
    "#grouped_count = tweet_counts_df.resample('Y')['day_count'].sum().reset_index() # Year\n",
    "\n",
    "# Make a line plot from the DataFrame and specify x and y axes, axes titles, and plot title\n",
    "px.line(grouped_count, x = 'start', y = 'day_count',\n",
    "    labels = {'start': 'Time', 'day_count': '# of Tweets'},\n",
    "    title = my_title)"
   ]
  },
  {
   "cell_type": "markdown",
   "id": "2ce4efa1-8131-4029-9cde-51de391c713e",
   "metadata": {},
   "source": [
    "## Save Tweet Counts as Spreadsheets"
   ]
  },
  {
   "cell_type": "markdown",
   "id": "80cdda5a-25ad-47e7-a31a-a855e784004e",
   "metadata": {},
   "source": [
    "We can output the aggregated tweets as a CSV file and visualize this data with any tool we want, such as [Data Wrapper](https://www.datawrapper.de/)."
   ]
  },
  {
   "cell_type": "code",
   "execution_count": 24,
   "id": "641e1255-7701-4e4f-9434-f4620324581f",
   "metadata": {},
   "outputs": [],
   "source": [
    "# Regroup, or resample, tweets by month, day, or year\n",
    "# Uncomment to choose which time span to group by\n",
    "#grouped_count = tweet_counts_df.resample('M')['day_count'].sum().reset_index() # Month\n",
    "grouped_count = tweet_counts_df.resample('D')['day_count'].sum().reset_index() # Day\n",
    "#grouped_count = tweet_counts_df.resample('Y')['day_count'].sum().reset_index() # Year\n",
    "\n",
    "grouped_count.to_csv(\"tweet-counts-grouped.csv\", index=False)"
   ]
  },
  {
   "cell_type": "markdown",
   "id": "0d05e536-1d7c-43f7-b502-3287ad6199e1",
   "metadata": {},
   "source": [
    "Sample visualization made with Data Wrapper: https://www.datawrapper.de/_/RbYnj/"
   ]
  },
  {
   "cell_type": "code",
   "execution_count": 28,
   "id": "790723c7-2a46-4ef5-a6e8-815e12d28661",
   "metadata": {},
   "outputs": [
    {
     "data": {
      "text/html": [
       "<iframe title=\"TGIF Tweets\" aria-label=\"Interactive line chart\" id=\"datawrapper-chart-RbYnj\" src=\"https://datawrapper.dwcdn.net/RbYnj/1/\" scrolling=\"no\" frameborder=\"0\" style=\"border: none;\" width=\"685\" height=\"478\"></iframe>\n"
      ],
      "text/plain": [
       "<IPython.core.display.HTML object>"
      ]
     },
     "metadata": {},
     "output_type": "display_data"
    }
   ],
   "source": [
    "%%html\n",
    "<iframe title=\"TGIF Tweets\" aria-label=\"Interactive line chart\" id=\"datawrapper-chart-RbYnj\" src=\"https://datawrapper.dwcdn.net/RbYnj/1/\" scrolling=\"no\" frameborder=\"0\" style=\"border: none;\" width=\"685\" height=\"478\"></iframe>"
   ]
  },
  {
   "cell_type": "markdown",
   "id": "8a35dfb9-c1b7-44bf-9b44-a9cfaf055002",
   "metadata": {},
   "source": [
    "## Your Turn!"
   ]
  },
  {
   "cell_type": "code",
   "execution_count": 13,
   "id": "8f11f1cb-55af-43fe-b2cc-91aa2aca7a3b",
   "metadata": {},
   "outputs": [],
   "source": [
    "!twarc2 counts \"your query\" --csv --archive --granularity day > query-tweet-counts.csv"
   ]
  },
  {
   "cell_type": "code",
   "execution_count": null,
   "id": "ec42f154-7069-4236-a52c-e89fd87f045a",
   "metadata": {},
   "outputs": [],
   "source": [
    "# Change the title of the plot here\n",
    "my_title = \"YOUR TITLE HERE\"\n",
    "# Change the file name here\n",
    "filename = \"YOUR FILENAME HERE\"\n",
    "\n",
    "# Read in CSV as DataFrame\n",
    "tweet_counts_df = pd.read_csv(filename, parse_dates=['start', 'end'])\n",
    "\n",
    "# Set start time as DataFrame index\n",
    "tweet_counts_df.set_index('start', inplace=True)\n",
    "\n",
    "# Regroup, or resample, tweets by month, day, or year\n",
    "grouped_count = tweet_counts_df.resample('M')['day_count'].sum().reset_index() # Month\n",
    "#grouped_count = tweet_counts_df.resample('D')['day_count'].sum().reset_index() # Day\n",
    "#grouped_count = tweet_counts_df.resample('Y')['day_count'].sum().reset_index() # Year\n",
    "\n",
    "# Make a line plot from the DataFrame and specify x and y axes, axes titles, and plot title\n",
    "px.line(grouped_count, x = 'start', y = 'day_count',\n",
    "    labels = {'start': 'Time', 'day_count': '# of Tweets'},\n",
    "    title = my_title)"
   ]
  },
  {
   "cell_type": "markdown",
   "id": "587925c9-c9b7-4d51-9c81-cfe1ab3dadd0",
   "metadata": {},
   "source": [
    "## Twitter API Queries"
   ]
  },
  {
   "cell_type": "markdown",
   "id": "39fc133b-e291-4ff2-98cd-bef464918b12",
   "metadata": {},
   "source": [
    "To collect tweets from the Twitter API, we need to make queries, or requests for specific kinds of tweets — e.g., `twarc2 search *query*`. The simplest kind of query is a keyword search, such as the phrase \"David Foster Wallace bro,\" which should return any tweet that contains all of these words in any order — `twarc2 search \"plums in the icebox\"`.\n",
    "\n",
    "There are many other operators that we can add to a query, which would allow us to collect tweets only from specific Twitter users or locations, or to only collect tweets that meet certain conditions, such as containing an image or being authored by a verified Twitter user. Here's an excerpted table of search operators taken from [Twitter's documentation](https://developer.twitter.com/en/docs/twitter-api/tweets/search/integrate/build-a-query#list) about how to build a search query. There are many other operators beyond those included in this table, and I recommend reading through [Twitter's entire web page on this subject](https://developer.twitter.com/en/docs/twitter-api/tweets/search/integrate/build-a-query#list).\n",
    "\n",
    "\n",
    "| Search Operator             | Explanation                                                                                                                                                                                                                                                                                                                                                                                                                                         |\n",
    "|:--------------------:|:----------------------------------------------------------------------------------------------:|\n",
    "| keyword              | Matches a keyword within the body of a Tweet. `so sweet and so cold`                                                                                          \n",
    "| \"exact phrase match\" | Matches the exact phrase within the body of a Tweet. `\"so sweet and so cold\" OR \"plums in the icebox\"`                                                                                              |\n",
    "| - | Do NOT match a keyword or operator `baldwin -alec`, `walt whitman -bridge`                                                                                              |\n",
    "| #                    | Matches any Tweet containing a recognized hashtag `#arthistory`        |                                                                             |\n",
    "| from:, to:                | Matches any Tweet from or to a specific user. `from:KingJames` `to:KingJames`                                                                    |                                                                                                            |\n",
    "| place:               | Matches Tweets tagged with the specified location or Twitter place ID. `place:\"new york city\" OR place:seattle`                                                                                            |\n",
    "| is:reply, is:quote             | Returns only replies or quote tweets. `DFW bro is:reply` `David Foster Wallace bro is:quote`                                                                                                                               |\n",
    "| is:verified          | Returns only Tweets whose authors are verified by Twitter.`DFW bro is:verified`                                                                                                                                |\n",
    "| has:media           | Matches Tweets that contain a media object, such as a photo, GIF, or video, as determined by Twitter. `I Think You Should Leave has:media`                                                                                                                                |\n",
    "| has:images, has:videos           | Matches Tweets that contain a recognized URL to an image. `i'm gonna tell my kinds that this was has:images`                                                                                    |\n",
    "| has:geo              | Matches Tweets that have Tweet-specific geolocation data provided by the Twitter user.  `pyramids has:geo`              \n",
    "\n",
    "In this lesson, we will only be collecting tweets that were tweeted by verified users.\n",
    "\n",
    "As I discussed in [\"Users’ Data: Legal & Ethical Considerations,\"](01-User-Ethics-Legal-Concerns) collecting publicly available tweets is legal, but it still raises a lot of privacy concerns and ethical quandaries — particularly when you re-publish user's data, as I am in this lesson. To reduce potential harm to Twitter users when re-publishing or citing tweets, it can be helpful to ask for explicit permission from the authors or to focus on tweets that have already been reasonably exposed to the public (e.g., tweets with many retweets or tweets from verified users), such that re-publishing the content will not unduly increase risk to the user.\n",
    "               "
   ]
  },
  {
   "cell_type": "markdown",
   "id": "893525e5-75e8-444f-8a15-a31a80b08174",
   "metadata": {},
   "source": [
    "## Get Tweets and Save as Spreadsheet"
   ]
  },
  {
   "cell_type": "markdown",
   "id": "4059e86b-7daa-405a-a7ae-655016063457",
   "metadata": {},
   "source": [
    "To actually collect tweets and their associated metadata, we can use the command `twarc2 search` and insert a query.\n",
    "\n",
    "Here we're going to search for any tweets that mention certain words and were tweeted by verified accounts. By default, `twarc2 search` will use the essential track of the Twitter API, which only collects tweets from the past week."
   ]
  },
  {
   "cell_type": "markdown",
   "id": "a8938c24-5f5e-40af-91e2-f6c3adf5dab9",
   "metadata": {},
   "source": [
    "<div class=\"admonition attention\" name=\"html-admonition\" style=\"background: lightyellow; padding: 10px\">\n",
    "<p class=\"title\">Attention 🚨</p>\n",
    "    Remember that the <code>--archive</code> flag and full-archive search functionality is only available to those who have an <a href= \"https://developer.twitter.com/en/products/twitter-api/academic-research\">Academic Research account</a>. \n",
    "    Students with Essential API access should remove the <code>--archive</code> flag from the code below.\n",
    "\n",
    "</div>"
   ]
  },
  {
   "cell_type": "code",
   "execution_count": 30,
   "id": "271435eb-6786-4660-869c-6eaeed88f367",
   "metadata": {
    "scrolled": true,
    "tags": [
     "output_scroll"
    ]
   },
   "outputs": [],
   "source": [
    "!twarc2 search --archive \"plums in the icebox is:verified\" > tweets.jsonl"
   ]
  },
  {
   "cell_type": "markdown",
   "id": "82f295b2-6c2d-4697-88d0-303209c631bd",
   "metadata": {},
   "source": [
    "To make our Twitter data easier to work with, we can convert our JSONL file to a CSV file with the [`twarc-csv`](https://pypi.org/project/twarc-csv/) plugin, which needs to be installed separately."
   ]
  },
  {
   "cell_type": "code",
   "execution_count": 31,
   "id": "8077a5c0-0e5c-4648-8597-11b630fab2bd",
   "metadata": {},
   "outputs": [
    {
     "name": "stdout",
     "output_type": "stream",
     "text": [
      "100%|██████████████| Processed 3.36M/3.36M of input file [00:00<00:00, 7.44MB/s]\n",
      "\n",
      "ℹ️\n",
      "Parsed 1550 tweets objects from 17 lines in the input file.\n",
      "Wrote 1550 rows and output 74 columns in the CSV.\n",
      "\n"
     ]
    }
   ],
   "source": [
    "!twarc2 csv tweets.jsonl tweets.csv"
   ]
  },
  {
   "cell_type": "markdown",
   "id": "4b61b9e4-fc0c-43d6-974e-32e0bfd280f9",
   "metadata": {},
   "source": [
    "## Explore Tweets"
   ]
  },
  {
   "cell_type": "markdown",
   "id": "85c416f8-8aae-4f0c-a657-e492eee59ac6",
   "metadata": {},
   "source": [
    "Now we're ready to explore the data!\n",
    "\n",
    "To work with our tweet data, we can read in our CSV file with pandas and again parse the date column."
   ]
  },
  {
   "cell_type": "code",
   "execution_count": null,
   "id": "1f028c55-b010-482c-ac1c-aaa614b221bc",
   "metadata": {
    "scrolled": true,
    "tags": []
   },
   "outputs": [],
   "source": [
    "tweets_df = pd.read_csv('tweets.csv', parse_dates = ['created_at'])\n",
    "tweets_df"
   ]
  },
  {
   "cell_type": "markdown",
   "id": "9ff544d6-821c-4ec0-8063-573c7dd94f32",
   "metadata": {},
   "source": [
    "If we ask for a list of all the columns in the DataFrame, we can see that there are more than 70 columns here!"
   ]
  },
  {
   "cell_type": "code",
   "execution_count": null,
   "id": "8da04514-ff82-4f71-972d-0f22e8629a58",
   "metadata": {
    "tags": [
     "output_scroll"
    ]
   },
   "outputs": [],
   "source": [
    "tweets_df.columns"
   ]
  },
  {
   "cell_type": "markdown",
   "id": "9be4436a-9684-4866-9fa6-386d69afa7b8",
   "metadata": {},
   "source": [
    "This is a lot of columns, but we want to add two more — tweet type and tweet URL. To do so, we're going to use a couple of Python helper functions that I've created below."
   ]
  },
  {
   "cell_type": "code",
   "execution_count": 36,
   "id": "4ac00548-e3bd-44e6-ac6f-5b6603aa290e",
   "metadata": {},
   "outputs": [],
   "source": [
    "# Find the type of tweet\n",
    "def find_type(tweet):\n",
    "    \n",
    "    # Check to see if tweet contains retweet, quote tweet, or reply tweet info\n",
    "    contains_retweet = tweet['referenced_tweets.retweeted.id']\n",
    "    contains_quote = tweet['referenced_tweets.quoted.id']\n",
    "    contains_reply = tweet['referenced_tweets.replied_to.id']\n",
    "    \n",
    "    # Does tweet contain retweet info? (Is this category not NA or empty?)\n",
    "    if pd.notna(contains_retweet):\n",
    "        return \"retweet\"\n",
    "    # Does tweet contain quote and reply info?\n",
    "    elif pd.notna(contains_quote) and pd.notna(contains_reply):\n",
    "        return \"quote/reply\"\n",
    "    # Does tweet contain quote info? \n",
    "    elif pd.notna(contains_quote):\n",
    "        return \"quote\"\n",
    "    # Does tweet contain reply info? \n",
    "    elif pd.notna(contains_reply):\n",
    "        return \"reply\"\n",
    "    # If it doesn't contain any of this info, it must be an original tweet\n",
    "    else:\n",
    "        return \"original\"\n",
    "\n",
    "# Make Tweet URL\n",
    "def make_tweet_url(tweets):\n",
    "    # Get username\n",
    "    username = tweets[0]\n",
    "    # Get tweet ID\n",
    "    tweet_id = tweets[1]\n",
    "    # Make tweet URL\n",
    "    tweet_url = f\"https://twitter.com/{username}/status/{tweet_id}\"\n",
    "    return tweet_url"
   ]
  },
  {
   "cell_type": "markdown",
   "id": "90373574-d6c0-4adc-847e-99476dfdf22a",
   "metadata": {},
   "source": [
    "Let's apply the helper functions and create new columns."
   ]
  },
  {
   "cell_type": "code",
   "execution_count": 37,
   "id": "d26ca07d-c340-42b4-b5b6-e5dbcaf6a729",
   "metadata": {},
   "outputs": [],
   "source": [
    "# Create tweet type column\n",
    "tweets_df['type'] = tweets_df.apply(find_type, axis =1)\n",
    "# Create tweet URL column\n",
    "tweets_df['tweet_url'] = tweets_df[['author.username', 'id']].apply(make_tweet_url, axis='columns')"
   ]
  },
  {
   "cell_type": "markdown",
   "id": "07e32d92-9d19-4d0b-9223-cd5631239bac",
   "metadata": {},
   "source": [
    "Let's view all the Twitter data."
   ]
  },
  {
   "cell_type": "code",
   "execution_count": null,
   "id": "d6b21d56-9e64-4756-aea5-bc16bd2e28e9",
   "metadata": {
    "scrolled": true,
    "tags": []
   },
   "outputs": [],
   "source": [
    "tweets_df"
   ]
  },
  {
   "cell_type": "markdown",
   "id": "565e602d-d709-44f4-a376-968f5de0a27c",
   "metadata": {},
   "source": [
    "Let's select and rename only the columns we're interested in.\n",
    "\n",
    "Pick another new column that you find intriguing and add it below!!"
   ]
  },
  {
   "cell_type": "code",
   "execution_count": null,
   "id": "f374f1e0-124c-4b14-867b-16e3fa684ab0",
   "metadata": {},
   "outputs": [],
   "source": [
    "# Select columns of interest\n",
    "clean_tweets_df = tweets_df[['created_at', 'author.username', 'author.name', 'author.description',\n",
    "                             'author.verified', 'type', 'text', 'public_metrics.retweet_count', \n",
    "                             'public_metrics.like_count', 'public_metrics.reply_count', 'public_metrics.quote_count',\n",
    "                             'tweet_url', 'lang', 'source', 'geo.full_name']]\n",
    "\n",
    "# Rename columns for convenience\n",
    "clean_tweets_df = clean_tweets_df.rename(columns={'created_at': 'date', 'public_metrics.retweet_count': 'retweets', \n",
    "                          'author.username': 'username', 'author.name': 'name', 'author.verified': 'verified', \n",
    "                          'public_metrics.like_count': 'likes', 'public_metrics.quote_count': 'quotes', \n",
    "                          'public_metrics.reply_count': 'replies', 'author.description': 'user_bio'})\n",
    "\n",
    "clean_tweets_df"
   ]
  },
  {
   "cell_type": "markdown",
   "id": "817b3631-5117-461d-871d-be085552e560",
   "metadata": {},
   "source": [
    "Let's get an overview of some of these columns."
   ]
  },
  {
   "cell_type": "code",
   "execution_count": null,
   "id": "d444da67-c577-452b-aef1-d2c99a919d4f",
   "metadata": {},
   "outputs": [],
   "source": [
    "clean_tweets_df['type'].value_counts()"
   ]
  },
  {
   "cell_type": "code",
   "execution_count": null,
   "id": "6d237293-7f83-478d-9e8e-931314caa6e2",
   "metadata": {},
   "outputs": [],
   "source": [
    "clean_tweets_df['lang'].value_counts()"
   ]
  },
  {
   "cell_type": "code",
   "execution_count": null,
   "id": "414ec14d-9c96-477c-9b88-58b683210397",
   "metadata": {},
   "outputs": [],
   "source": [
    "clean_tweets_df['source'].value_counts()"
   ]
  },
  {
   "cell_type": "code",
   "execution_count": null,
   "id": "9d590870-725c-4904-9967-26e4f0347cd2",
   "metadata": {},
   "outputs": [],
   "source": [
    "clean_tweets_df['YOUR COLUMN OF INTEREST HERE'].value_counts()"
   ]
  },
  {
   "cell_type": "markdown",
   "id": "8f117d07-3b3e-4098-bf62-1a43179d63be",
   "metadata": {},
   "source": [
    "## Visualize Tweets as Word Cloud"
   ]
  },
  {
   "cell_type": "code",
   "execution_count": 1,
   "id": "b068f210-89c8-4ba3-a333-ef06464652d1",
   "metadata": {
    "scrolled": true,
    "tags": []
   },
   "outputs": [
    {
     "name": "stdout",
     "output_type": "stream",
     "text": [
      "Collecting wordcloud\n",
      "  Downloading wordcloud-1.8.1.tar.gz (220 kB)\n",
      "\u001b[2K     \u001b[90m━━━━━━━━━━━━━━━━━━━━━━━━━━━━━━━━━━━━━━━\u001b[0m \u001b[32m220.7/220.7 KB\u001b[0m \u001b[31m2.4 MB/s\u001b[0m eta \u001b[36m0:00:00\u001b[0m00:01\u001b[0m00:01\u001b[0m\n",
      "\u001b[?25h  Preparing metadata (setup.py) ... \u001b[?25ldone\n",
      "\u001b[?25hRequirement already satisfied: numpy>=1.6.1 in /Users/melwalsh/opt/anaconda3/lib/python3.8/site-packages (from wordcloud) (1.20.1)\n",
      "Requirement already satisfied: pillow in /Users/melwalsh/opt/anaconda3/lib/python3.8/site-packages (from wordcloud) (8.2.0)\n",
      "Requirement already satisfied: matplotlib in /Users/melwalsh/opt/anaconda3/lib/python3.8/site-packages (from wordcloud) (3.3.4)\n",
      "Requirement already satisfied: cycler>=0.10 in /Users/melwalsh/opt/anaconda3/lib/python3.8/site-packages (from matplotlib->wordcloud) (0.10.0)\n",
      "Requirement already satisfied: pyparsing!=2.0.4,!=2.1.2,!=2.1.6,>=2.0.3 in /Users/melwalsh/opt/anaconda3/lib/python3.8/site-packages (from matplotlib->wordcloud) (2.4.7)\n",
      "Requirement already satisfied: python-dateutil>=2.1 in /Users/melwalsh/opt/anaconda3/lib/python3.8/site-packages (from matplotlib->wordcloud) (2.8.1)\n",
      "Requirement already satisfied: kiwisolver>=1.0.1 in /Users/melwalsh/opt/anaconda3/lib/python3.8/site-packages (from matplotlib->wordcloud) (1.3.1)\n",
      "Requirement already satisfied: six in /Users/melwalsh/opt/anaconda3/lib/python3.8/site-packages (from cycler>=0.10->matplotlib->wordcloud) (1.12.0)\n",
      "Building wheels for collected packages: wordcloud\n",
      "  Building wheel for wordcloud (setup.py) ... \u001b[?25ldone\n",
      "\u001b[?25h  Created wheel for wordcloud: filename=wordcloud-1.8.1-cp38-cp38-macosx_10_9_x86_64.whl size=158423 sha256=0ec1ff437418254275160308d822e26d684a8728799ac24e633c2e695e98751c\n",
      "  Stored in directory: /Users/melwalsh/Library/Caches/pip/wheels/4d/3f/0d/a2ba9b7895c9f1be89018b3141c3df3d4f9c786c882ccfbc3b\n",
      "Successfully built wordcloud\n",
      "Installing collected packages: wordcloud\n",
      "Successfully installed wordcloud-1.8.1\n",
      "\u001b[33mWARNING: You are using pip version 22.0.3; however, version 22.1.2 is available.\n",
      "You should consider upgrading via the '/Users/melwalsh/opt/anaconda3/bin/python -m pip install --upgrade pip' command.\u001b[0m\u001b[33m\n",
      "\u001b[0m"
     ]
    }
   ],
   "source": [
    "!pip install wordcloud"
   ]
  },
  {
   "cell_type": "code",
   "execution_count": null,
   "id": "45f34352-dd3b-4f59-be8c-f98ca7987111",
   "metadata": {},
   "outputs": [],
   "source": [
    "from wordcloud import WordCloud, STOPWORDS\n",
    "import matplotlib.pyplot as plt\n",
    "\n",
    "# Create stopwords list\n",
    "stopwords = STOPWORDS.update([\"plums\", \"icebox\"])\n",
    "\n",
    "# Set up wordcloud\n",
    "wc = WordCloud(background_color=\"white\", max_words=50,\n",
    "               stopwords=stopwords, contour_width=5, contour_color='steelblue')\n",
    "\n",
    "# Strip line breaks\n",
    "tweet_texts = clean_tweets_df['text'].str.replace(r\"\\\\n\", \" \", regex=True)\n",
    "# Join all tweet texts together\n",
    "tweet_texts = ' '.join(tweet_texts)\n",
    "# Generate word cloud\n",
    "wc.generate(tweet_texts)\n",
    "\n",
    "# Create and save word cloud\n",
    "plt.figure(figsize = (10,5))\n",
    "plt.imshow(wc, interpolation='bilinear')\n",
    "plt.axis(\"off\")\n",
    "plt.savefig(\"tweet_word-cloud.png\", dpi=300)\n",
    "plt.show()"
   ]
  },
  {
   "cell_type": "markdown",
   "id": "a4485f9f-efb6-4c57-83ca-3495e9428cf8",
   "metadata": {},
   "source": [
    "## Your Turn!"
   ]
  },
  {
   "cell_type": "markdown",
   "id": "1d2a4b26-726f-49e1-8e71-d2760a8b2c91",
   "metadata": {},
   "source": [
    "You might want to limit your search to 5000 tweets or less"
   ]
  },
  {
   "cell_type": "code",
   "execution_count": 30,
   "id": "1036d813-4b14-4489-ba5b-2eaf77da42c9",
   "metadata": {
    "scrolled": true,
    "tags": [
     "output_scroll"
    ]
   },
   "outputs": [],
   "source": [
    "!twarc2 search --archive --limit 5000 \"YOUR QUERY\" > my_tweets.jsonl"
   ]
  },
  {
   "cell_type": "code",
   "execution_count": 31,
   "id": "f488964b-58fd-4440-a7ec-565377f0f42f",
   "metadata": {},
   "outputs": [
    {
     "name": "stdout",
     "output_type": "stream",
     "text": [
      "100%|██████████████| Processed 3.36M/3.36M of input file [00:00<00:00, 7.44MB/s]\n",
      "\n",
      "ℹ️\n",
      "Parsed 1550 tweets objects from 17 lines in the input file.\n",
      "Wrote 1550 rows and output 74 columns in the CSV.\n",
      "\n"
     ]
    }
   ],
   "source": [
    "!twarc2 csv my_tweets.jsonl my_tweets.csv"
   ]
  },
  {
   "cell_type": "markdown",
   "id": "ee670d6c-fad6-4c1a-bc9b-91a22b8b40a5",
   "metadata": {},
   "source": [
    "Now we're ready to explore the data!"
   ]
  },
  {
   "cell_type": "code",
   "execution_count": 34,
   "id": "3056954b-af42-41ff-966b-42753af04507",
   "metadata": {
    "scrolled": true,
    "tags": []
   },
   "outputs": [
    {
     "data": {
      "text/html": [
       "<div>\n",
       "<style scoped>\n",
       "    .dataframe tbody tr th:only-of-type {\n",
       "        vertical-align: middle;\n",
       "    }\n",
       "\n",
       "    .dataframe tbody tr th {\n",
       "        vertical-align: top;\n",
       "    }\n",
       "\n",
       "    .dataframe thead th {\n",
       "        text-align: right;\n",
       "    }\n",
       "</style>\n",
       "<table border=\"1\" class=\"dataframe\">\n",
       "  <thead>\n",
       "    <tr style=\"text-align: right;\">\n",
       "      <th></th>\n",
       "      <th>id</th>\n",
       "      <th>conversation_id</th>\n",
       "      <th>referenced_tweets.replied_to.id</th>\n",
       "      <th>referenced_tweets.retweeted.id</th>\n",
       "      <th>referenced_tweets.quoted.id</th>\n",
       "      <th>author_id</th>\n",
       "      <th>in_reply_to_user_id</th>\n",
       "      <th>retweeted_user_id</th>\n",
       "      <th>quoted_user_id</th>\n",
       "      <th>created_at</th>\n",
       "      <th>text</th>\n",
       "      <th>lang</th>\n",
       "      <th>source</th>\n",
       "      <th>public_metrics.like_count</th>\n",
       "      <th>public_metrics.quote_count</th>\n",
       "      <th>public_metrics.reply_count</th>\n",
       "      <th>public_metrics.retweet_count</th>\n",
       "      <th>reply_settings</th>\n",
       "      <th>possibly_sensitive</th>\n",
       "      <th>withheld.scope</th>\n",
       "      <th>withheld.copyright</th>\n",
       "      <th>withheld.country_codes</th>\n",
       "      <th>entities.annotations</th>\n",
       "      <th>entities.cashtags</th>\n",
       "      <th>entities.hashtags</th>\n",
       "      <th>entities.mentions</th>\n",
       "      <th>entities.urls</th>\n",
       "      <th>context_annotations</th>\n",
       "      <th>attachments.media</th>\n",
       "      <th>attachments.media_keys</th>\n",
       "      <th>attachments.poll.duration_minutes</th>\n",
       "      <th>attachments.poll.end_datetime</th>\n",
       "      <th>attachments.poll.id</th>\n",
       "      <th>attachments.poll.options</th>\n",
       "      <th>attachments.poll.voting_status</th>\n",
       "      <th>attachments.poll_ids</th>\n",
       "      <th>author.id</th>\n",
       "      <th>author.created_at</th>\n",
       "      <th>author.username</th>\n",
       "      <th>author.name</th>\n",
       "      <th>author.description</th>\n",
       "      <th>author.entities.description.cashtags</th>\n",
       "      <th>author.entities.description.hashtags</th>\n",
       "      <th>author.entities.description.mentions</th>\n",
       "      <th>author.entities.description.urls</th>\n",
       "      <th>author.entities.url.urls</th>\n",
       "      <th>author.location</th>\n",
       "      <th>author.pinned_tweet_id</th>\n",
       "      <th>author.profile_image_url</th>\n",
       "      <th>author.protected</th>\n",
       "      <th>author.public_metrics.followers_count</th>\n",
       "      <th>author.public_metrics.following_count</th>\n",
       "      <th>author.public_metrics.listed_count</th>\n",
       "      <th>author.public_metrics.tweet_count</th>\n",
       "      <th>author.url</th>\n",
       "      <th>author.verified</th>\n",
       "      <th>author.withheld.scope</th>\n",
       "      <th>author.withheld.copyright</th>\n",
       "      <th>author.withheld.country_codes</th>\n",
       "      <th>geo.coordinates.coordinates</th>\n",
       "      <th>geo.coordinates.type</th>\n",
       "      <th>geo.country</th>\n",
       "      <th>geo.country_code</th>\n",
       "      <th>geo.full_name</th>\n",
       "      <th>geo.geo.bbox</th>\n",
       "      <th>geo.geo.type</th>\n",
       "      <th>geo.id</th>\n",
       "      <th>geo.name</th>\n",
       "      <th>geo.place_id</th>\n",
       "      <th>geo.place_type</th>\n",
       "      <th>__twarc.retrieved_at</th>\n",
       "      <th>__twarc.url</th>\n",
       "      <th>__twarc.version</th>\n",
       "      <th>Unnamed: 73</th>\n",
       "    </tr>\n",
       "  </thead>\n",
       "  <tbody>\n",
       "    <tr>\n",
       "      <th>0</th>\n",
       "      <td>1538697649485795329</td>\n",
       "      <td>1538697649485795329</td>\n",
       "      <td>NaN</td>\n",
       "      <td>1.537613e+18</td>\n",
       "      <td>NaN</td>\n",
       "      <td>1117660295755780096</td>\n",
       "      <td>NaN</td>\n",
       "      <td>25407830.0</td>\n",
       "      <td>NaN</td>\n",
       "      <td>2022-06-20 01:38:01+00:00</td>\n",
       "      <td>I have eaten \\nthe plums \\nthat were in \\nthe icebox\\nand which \\nyou were probably \\nsaving \\nfor breakfast\\nI've decided that I should be on the pardon list, if that is still in the works</td>\n",
       "      <td>en</td>\n",
       "      <td>Twitter for iPhone</td>\n",
       "      <td>11533</td>\n",
       "      <td>76</td>\n",
       "      <td>95</td>\n",
       "      <td>1314</td>\n",
       "      <td>everyone</td>\n",
       "      <td>False</td>\n",
       "      <td>NaN</td>\n",
       "      <td>NaN</td>\n",
       "      <td>NaN</td>\n",
       "      <td>NaN</td>\n",
       "      <td>NaN</td>\n",
       "      <td>NaN</td>\n",
       "      <td>[{\"start\": 3, \"end\": 14, \"username\": \"Jewyorican\", \"id\": \"25407830\", \"public_metrics\": {\"followers_count\": 8964, \"following_count\": 2829, \"tweet_count\": 57574, \"listed_count\": 218}, \"verified\": false, \"location\": \"Shaolin/Aquehonga/StatenIsland\", \"pinned_tweet_id\": \"1537612660400967681\", \"entities\": {\"url\": {\"urls\": [{\"start\": 0, \"end\": 23, \"url\": \"https://t.co/fD9IEfHC6V\", \"expanded_url\": \"ht...</td>\n",
       "      <td>NaN</td>\n",
       "      <td>[{\"domain\": {\"id\": \"30\", \"name\": \"Entities [Entity Service]\", \"description\": \"Entity Service top level domain, every item that is in Entity Service should be in this domain\"}, \"entity\": {\"id\": \"825047692124442624\", \"name\": \"Food\", \"description\": \"Food\"}}, {\"domain\": {\"id\": \"67\", \"name\": \"Interests and Hobbies\", \"description\": \"Interests, opinions, and behaviors of individuals, groups, or cultu...</td>\n",
       "      <td>NaN</td>\n",
       "      <td>NaN</td>\n",
       "      <td>NaN</td>\n",
       "      <td>NaN</td>\n",
       "      <td>NaN</td>\n",
       "      <td>NaN</td>\n",
       "      <td>NaN</td>\n",
       "      <td>NaN</td>\n",
       "      <td>1117660295755780096</td>\n",
       "      <td>2019-04-15T05:25:54.000Z</td>\n",
       "      <td>TheElizaClark</td>\n",
       "      <td>Eliza Clark</td>\n",
       "      <td>(she/her) Showrunner/EP of Y: The Last Man TV: Animal Kingdom, The Killing, Rubicon Plays: Quack, Future Thinking, Recall, Edgewise Instagram: @elizaaclarkw</td>\n",
       "      <td>NaN</td>\n",
       "      <td>NaN</td>\n",
       "      <td>[{\"start\": 143, \"end\": 156, \"username\": \"elizaaclarkw\"}]</td>\n",
       "      <td>NaN</td>\n",
       "      <td>[{\"start\": 0, \"end\": 23, \"url\": \"https://t.co/eE5CdYvmPm\", \"expanded_url\": \"https://www.concordtheatricals.com/a/100686/eliza-clark\", \"display_url\": \"concordtheatricals.com/a/100686/eliza\\u2026\"}]</td>\n",
       "      <td>NaN</td>\n",
       "      <td>1.466136e+18</td>\n",
       "      <td>https://pbs.twimg.com/profile_images/1433910062683066371/WDqPSr9s_normal.jpg</td>\n",
       "      <td>False</td>\n",
       "      <td>3134</td>\n",
       "      <td>335</td>\n",
       "      <td>13</td>\n",
       "      <td>2728</td>\n",
       "      <td>https://t.co/eE5CdYvmPm</td>\n",
       "      <td>True</td>\n",
       "      <td>NaN</td>\n",
       "      <td>NaN</td>\n",
       "      <td>NaN</td>\n",
       "      <td>NaN</td>\n",
       "      <td>NaN</td>\n",
       "      <td>NaN</td>\n",
       "      <td>NaN</td>\n",
       "      <td>NaN</td>\n",
       "      <td>NaN</td>\n",
       "      <td>NaN</td>\n",
       "      <td>NaN</td>\n",
       "      <td>NaN</td>\n",
       "      <td>NaN</td>\n",
       "      <td>NaN</td>\n",
       "      <td>2022-06-20T20:16:58+00:00</td>\n",
       "      <td>https://api.twitter.com/2/tweets/search/all?expansions=author_id%2Cin_reply_to_user_id%2Creferenced_tweets.id%2Creferenced_tweets.id.author_id%2Centities.mentions.username%2Cattachments.poll_ids%2Cattachments.media_keys%2Cgeo.place_id&amp;tweet.fields=attachments%2Cauthor_id%2Ccontext_annotations%2Cconversation_id%2Ccreated_at%2Centities%2Cgeo%2Cid%2Cin_reply_to_user_id%2Clang%2Cpublic_metrics%2Ct...</td>\n",
       "      <td>2.10.4</td>\n",
       "      <td>NaN</td>\n",
       "    </tr>\n",
       "    <tr>\n",
       "      <th>1</th>\n",
       "      <td>1538096782067961857</td>\n",
       "      <td>1538096782067961857</td>\n",
       "      <td>NaN</td>\n",
       "      <td>1.537551e+18</td>\n",
       "      <td>NaN</td>\n",
       "      <td>2341248866</td>\n",
       "      <td>NaN</td>\n",
       "      <td>19012926.0</td>\n",
       "      <td>NaN</td>\n",
       "      <td>2022-06-18 09:50:23+00:00</td>\n",
       "      <td>I have eaten\\nthe plums\\nthat were in\\nthe icebox\\n\\nand which\\nyou were probably\\nsaving\\nfor breakfast\\n\\nForgive me\\nI’ve decided I should be on the pardon list, if that’s still in the works</td>\n",
       "      <td>en</td>\n",
       "      <td>Twitter for iPhone</td>\n",
       "      <td>1021</td>\n",
       "      <td>9</td>\n",
       "      <td>16</td>\n",
       "      <td>185</td>\n",
       "      <td>everyone</td>\n",
       "      <td>False</td>\n",
       "      <td>NaN</td>\n",
       "      <td>NaN</td>\n",
       "      <td>NaN</td>\n",
       "      <td>NaN</td>\n",
       "      <td>NaN</td>\n",
       "      <td>NaN</td>\n",
       "      <td>[{\"start\": 3, \"end\": 11, \"username\": \"BBrkdwn\", \"id\": \"19012926\", \"public_metrics\": {\"followers_count\": 1207, \"following_count\": 1465, \"tweet_count\": 179078, \"listed_count\": 57}, \"verified\": false, \"location\": \"PNW \\ud83c\\udf32\", \"pinned_tweet_id\": \"1477337581595422722\", \"profile_image_url\": \"https://pbs.twimg.com/profile_images/1455246250249359361/IU5PYAhA_normal.jpg\", \"name\": \"\\ud835\\udd6d.\"...</td>\n",
       "      <td>NaN</td>\n",
       "      <td>[{\"domain\": {\"id\": \"30\", \"name\": \"Entities [Entity Service]\", \"description\": \"Entity Service top level domain, every item that is in Entity Service should be in this domain\"}, \"entity\": {\"id\": \"825047692124442624\", \"name\": \"Food\", \"description\": \"Food\"}}, {\"domain\": {\"id\": \"67\", \"name\": \"Interests and Hobbies\", \"description\": \"Interests, opinions, and behaviors of individuals, groups, or cultu...</td>\n",
       "      <td>NaN</td>\n",
       "      <td>NaN</td>\n",
       "      <td>NaN</td>\n",
       "      <td>NaN</td>\n",
       "      <td>NaN</td>\n",
       "      <td>NaN</td>\n",
       "      <td>NaN</td>\n",
       "      <td>NaN</td>\n",
       "      <td>2341248866</td>\n",
       "      <td>2014-02-13T02:26:44.000Z</td>\n",
       "      <td>ProfHansNoel</td>\n",
       "      <td>Hans Noel</td>\n",
       "      <td>Assoc. Prof. @GUGovt @Georgetown. https://t.co/CgaNEPDqDB  Co-author The Party Decides. Author Political Ideologies and Political Parties in America. #Spoilers</td>\n",
       "      <td>NaN</td>\n",
       "      <td>[{\"start\": 150, \"end\": 159, \"tag\": \"Spoilers\"}]</td>\n",
       "      <td>[{\"start\": 13, \"end\": 20, \"username\": \"GUGovt\"}, {\"start\": 21, \"end\": 32, \"username\": \"Georgetown\"}]</td>\n",
       "      <td>[{\"start\": 34, \"end\": 57, \"url\": \"https://t.co/CgaNEPDqDB\", \"expanded_url\": \"http://hansnoel.com\", \"display_url\": \"hansnoel.com\"}]</td>\n",
       "      <td>[{\"start\": 0, \"end\": 23, \"url\": \"https://t.co/CgaNEPDqDB\", \"expanded_url\": \"http://hansnoel.com\", \"display_url\": \"hansnoel.com\"}]</td>\n",
       "      <td>Washington, DC</td>\n",
       "      <td>1.257028e+18</td>\n",
       "      <td>https://pbs.twimg.com/profile_images/1474750928213401600/0iH5DL12_normal.jpg</td>\n",
       "      <td>False</td>\n",
       "      <td>11534</td>\n",
       "      <td>3692</td>\n",
       "      <td>252</td>\n",
       "      <td>9023</td>\n",
       "      <td>https://t.co/CgaNEPDqDB</td>\n",
       "      <td>True</td>\n",
       "      <td>NaN</td>\n",
       "      <td>NaN</td>\n",
       "      <td>NaN</td>\n",
       "      <td>NaN</td>\n",
       "      <td>NaN</td>\n",
       "      <td>NaN</td>\n",
       "      <td>NaN</td>\n",
       "      <td>NaN</td>\n",
       "      <td>NaN</td>\n",
       "      <td>NaN</td>\n",
       "      <td>NaN</td>\n",
       "      <td>NaN</td>\n",
       "      <td>NaN</td>\n",
       "      <td>NaN</td>\n",
       "      <td>2022-06-20T20:16:58+00:00</td>\n",
       "      <td>https://api.twitter.com/2/tweets/search/all?expansions=author_id%2Cin_reply_to_user_id%2Creferenced_tweets.id%2Creferenced_tweets.id.author_id%2Centities.mentions.username%2Cattachments.poll_ids%2Cattachments.media_keys%2Cgeo.place_id&amp;tweet.fields=attachments%2Cauthor_id%2Ccontext_annotations%2Cconversation_id%2Ccreated_at%2Centities%2Cgeo%2Cid%2Cin_reply_to_user_id%2Clang%2Cpublic_metrics%2Ct...</td>\n",
       "      <td>2.10.4</td>\n",
       "      <td>NaN</td>\n",
       "    </tr>\n",
       "    <tr>\n",
       "      <th>2</th>\n",
       "      <td>1537927857329975297</td>\n",
       "      <td>1537927857329975297</td>\n",
       "      <td>NaN</td>\n",
       "      <td>1.537613e+18</td>\n",
       "      <td>NaN</td>\n",
       "      <td>15723806</td>\n",
       "      <td>NaN</td>\n",
       "      <td>25407830.0</td>\n",
       "      <td>NaN</td>\n",
       "      <td>2022-06-17 22:39:09+00:00</td>\n",
       "      <td>I have eaten \\nthe plums \\nthat were in \\nthe icebox\\nand which \\nyou were probably \\nsaving \\nfor breakfast\\nI've decided that I should be on the pardon list, if that is still in the works</td>\n",
       "      <td>en</td>\n",
       "      <td>Twitter for iPad</td>\n",
       "      <td>11533</td>\n",
       "      <td>76</td>\n",
       "      <td>95</td>\n",
       "      <td>1314</td>\n",
       "      <td>everyone</td>\n",
       "      <td>False</td>\n",
       "      <td>NaN</td>\n",
       "      <td>NaN</td>\n",
       "      <td>NaN</td>\n",
       "      <td>NaN</td>\n",
       "      <td>NaN</td>\n",
       "      <td>NaN</td>\n",
       "      <td>[{\"start\": 3, \"end\": 14, \"username\": \"Jewyorican\", \"id\": \"25407830\", \"public_metrics\": {\"followers_count\": 8964, \"following_count\": 2829, \"tweet_count\": 57574, \"listed_count\": 218}, \"verified\": false, \"location\": \"Shaolin/Aquehonga/StatenIsland\", \"pinned_tweet_id\": \"1537612660400967681\", \"entities\": {\"url\": {\"urls\": [{\"start\": 0, \"end\": 23, \"url\": \"https://t.co/fD9IEfHC6V\", \"expanded_url\": \"ht...</td>\n",
       "      <td>NaN</td>\n",
       "      <td>[{\"domain\": {\"id\": \"30\", \"name\": \"Entities [Entity Service]\", \"description\": \"Entity Service top level domain, every item that is in Entity Service should be in this domain\"}, \"entity\": {\"id\": \"825047692124442624\", \"name\": \"Food\", \"description\": \"Food\"}}, {\"domain\": {\"id\": \"67\", \"name\": \"Interests and Hobbies\", \"description\": \"Interests, opinions, and behaviors of individuals, groups, or cultu...</td>\n",
       "      <td>NaN</td>\n",
       "      <td>NaN</td>\n",
       "      <td>NaN</td>\n",
       "      <td>NaN</td>\n",
       "      <td>NaN</td>\n",
       "      <td>NaN</td>\n",
       "      <td>NaN</td>\n",
       "      <td>NaN</td>\n",
       "      <td>15723806</td>\n",
       "      <td>2008-08-04T16:01:02.000Z</td>\n",
       "      <td>BruceRheins</td>\n",
       "      <td>Bruce Rheins</td>\n",
       "      <td>Visited the North Pole once, Antarctica+the South Pole twice, multiple times to places on the Equator. Retweets, opinions, you know the drill.</td>\n",
       "      <td>NaN</td>\n",
       "      <td>NaN</td>\n",
       "      <td>NaN</td>\n",
       "      <td>NaN</td>\n",
       "      <td>[{\"start\": 0, \"end\": 23, \"url\": \"https://t.co/sfNa4JwBeV\", \"expanded_url\": \"http://brucerheins.brandyourself.com\", \"display_url\": \"brucerheins.brandyourself.com\"}]</td>\n",
       "      <td>The World</td>\n",
       "      <td>NaN</td>\n",
       "      <td>https://pbs.twimg.com/profile_images/762706287150768129/Szq8LVu3_normal.jpg</td>\n",
       "      <td>False</td>\n",
       "      <td>1589</td>\n",
       "      <td>702</td>\n",
       "      <td>29</td>\n",
       "      <td>9516</td>\n",
       "      <td>https://t.co/sfNa4JwBeV</td>\n",
       "      <td>True</td>\n",
       "      <td>NaN</td>\n",
       "      <td>NaN</td>\n",
       "      <td>NaN</td>\n",
       "      <td>NaN</td>\n",
       "      <td>NaN</td>\n",
       "      <td>NaN</td>\n",
       "      <td>NaN</td>\n",
       "      <td>NaN</td>\n",
       "      <td>NaN</td>\n",
       "      <td>NaN</td>\n",
       "      <td>NaN</td>\n",
       "      <td>NaN</td>\n",
       "      <td>NaN</td>\n",
       "      <td>NaN</td>\n",
       "      <td>2022-06-20T20:16:58+00:00</td>\n",
       "      <td>https://api.twitter.com/2/tweets/search/all?expansions=author_id%2Cin_reply_to_user_id%2Creferenced_tweets.id%2Creferenced_tweets.id.author_id%2Centities.mentions.username%2Cattachments.poll_ids%2Cattachments.media_keys%2Cgeo.place_id&amp;tweet.fields=attachments%2Cauthor_id%2Ccontext_annotations%2Cconversation_id%2Ccreated_at%2Centities%2Cgeo%2Cid%2Cin_reply_to_user_id%2Clang%2Cpublic_metrics%2Ct...</td>\n",
       "      <td>2.10.4</td>\n",
       "      <td>NaN</td>\n",
       "    </tr>\n",
       "    <tr>\n",
       "      <th>3</th>\n",
       "      <td>1537918133729579010</td>\n",
       "      <td>1537918133729579010</td>\n",
       "      <td>NaN</td>\n",
       "      <td>1.537613e+18</td>\n",
       "      <td>NaN</td>\n",
       "      <td>322177274</td>\n",
       "      <td>NaN</td>\n",
       "      <td>25407830.0</td>\n",
       "      <td>NaN</td>\n",
       "      <td>2022-06-17 22:00:30+00:00</td>\n",
       "      <td>I have eaten \\nthe plums \\nthat were in \\nthe icebox\\nand which \\nyou were probably \\nsaving \\nfor breakfast\\nI've decided that I should be on the pardon list, if that is still in the works</td>\n",
       "      <td>en</td>\n",
       "      <td>Twitter for iPhone</td>\n",
       "      <td>11533</td>\n",
       "      <td>76</td>\n",
       "      <td>95</td>\n",
       "      <td>1314</td>\n",
       "      <td>everyone</td>\n",
       "      <td>False</td>\n",
       "      <td>NaN</td>\n",
       "      <td>NaN</td>\n",
       "      <td>NaN</td>\n",
       "      <td>NaN</td>\n",
       "      <td>NaN</td>\n",
       "      <td>NaN</td>\n",
       "      <td>[{\"start\": 3, \"end\": 14, \"username\": \"Jewyorican\", \"id\": \"25407830\", \"public_metrics\": {\"followers_count\": 8964, \"following_count\": 2829, \"tweet_count\": 57574, \"listed_count\": 218}, \"verified\": false, \"location\": \"Shaolin/Aquehonga/StatenIsland\", \"pinned_tweet_id\": \"1537612660400967681\", \"entities\": {\"url\": {\"urls\": [{\"start\": 0, \"end\": 23, \"url\": \"https://t.co/fD9IEfHC6V\", \"expanded_url\": \"ht...</td>\n",
       "      <td>NaN</td>\n",
       "      <td>[{\"domain\": {\"id\": \"30\", \"name\": \"Entities [Entity Service]\", \"description\": \"Entity Service top level domain, every item that is in Entity Service should be in this domain\"}, \"entity\": {\"id\": \"825047692124442624\", \"name\": \"Food\", \"description\": \"Food\"}}, {\"domain\": {\"id\": \"67\", \"name\": \"Interests and Hobbies\", \"description\": \"Interests, opinions, and behaviors of individuals, groups, or cultu...</td>\n",
       "      <td>NaN</td>\n",
       "      <td>NaN</td>\n",
       "      <td>NaN</td>\n",
       "      <td>NaN</td>\n",
       "      <td>NaN</td>\n",
       "      <td>NaN</td>\n",
       "      <td>NaN</td>\n",
       "      <td>NaN</td>\n",
       "      <td>322177274</td>\n",
       "      <td>2011-06-22T19:14:34.000Z</td>\n",
       "      <td>RLukeDuBois</td>\n",
       "      <td>R. Luke DuBois</td>\n",
       "      <td>this machine kills fascists ❤️ @IdmNyu @nyutandon 🎶 @cantaloupeny @issueproject 🎨 @bitforms @eyebeamnyc 💾 @cycling74 @p5xjs ♿ @AbilityNYU @TechKidsU (he/him)</td>\n",
       "      <td>NaN</td>\n",
       "      <td>NaN</td>\n",
       "      <td>[{\"start\": 31, \"end\": 38, \"username\": \"IdmNyu\"}, {\"start\": 39, \"end\": 49, \"username\": \"nyutandon\"}, {\"start\": 52, \"end\": 65, \"username\": \"cantaloupeny\"}, {\"start\": 66, \"end\": 79, \"username\": \"issueproject\"}, {\"start\": 82, \"end\": 91, \"username\": \"bitforms\"}, {\"start\": 92, \"end\": 103, \"username\": \"eyebeamnyc\"}, {\"start\": 106, \"end\": 116, \"username\": \"cycling74\"}, {\"start\": 117, \"end\": 123, \"user...</td>\n",
       "      <td>NaN</td>\n",
       "      <td>[{\"start\": 0, \"end\": 23, \"url\": \"https://t.co/YkuhZK3DBF\", \"expanded_url\": \"http://lukedubois.com\", \"display_url\": \"lukedubois.com\"}]</td>\n",
       "      <td>New York, NY, USA</td>\n",
       "      <td>1.157856e+18</td>\n",
       "      <td>https://pbs.twimg.com/profile_images/794398286492921856/SW-WmY3w_normal.jpg</td>\n",
       "      <td>False</td>\n",
       "      <td>4493</td>\n",
       "      <td>3396</td>\n",
       "      <td>173</td>\n",
       "      <td>106430</td>\n",
       "      <td>https://t.co/YkuhZK3DBF</td>\n",
       "      <td>True</td>\n",
       "      <td>NaN</td>\n",
       "      <td>NaN</td>\n",
       "      <td>NaN</td>\n",
       "      <td>NaN</td>\n",
       "      <td>NaN</td>\n",
       "      <td>NaN</td>\n",
       "      <td>NaN</td>\n",
       "      <td>NaN</td>\n",
       "      <td>NaN</td>\n",
       "      <td>NaN</td>\n",
       "      <td>NaN</td>\n",
       "      <td>NaN</td>\n",
       "      <td>NaN</td>\n",
       "      <td>NaN</td>\n",
       "      <td>2022-06-20T20:16:58+00:00</td>\n",
       "      <td>https://api.twitter.com/2/tweets/search/all?expansions=author_id%2Cin_reply_to_user_id%2Creferenced_tweets.id%2Creferenced_tweets.id.author_id%2Centities.mentions.username%2Cattachments.poll_ids%2Cattachments.media_keys%2Cgeo.place_id&amp;tweet.fields=attachments%2Cauthor_id%2Ccontext_annotations%2Cconversation_id%2Ccreated_at%2Centities%2Cgeo%2Cid%2Cin_reply_to_user_id%2Clang%2Cpublic_metrics%2Ct...</td>\n",
       "      <td>2.10.4</td>\n",
       "      <td>NaN</td>\n",
       "    </tr>\n",
       "    <tr>\n",
       "      <th>4</th>\n",
       "      <td>1537882687091855360</td>\n",
       "      <td>1537882687091855360</td>\n",
       "      <td>NaN</td>\n",
       "      <td>1.537613e+18</td>\n",
       "      <td>NaN</td>\n",
       "      <td>3032109176</td>\n",
       "      <td>NaN</td>\n",
       "      <td>25407830.0</td>\n",
       "      <td>NaN</td>\n",
       "      <td>2022-06-17 19:39:39+00:00</td>\n",
       "      <td>I have eaten \\nthe plums \\nthat were in \\nthe icebox\\nand which \\nyou were probably \\nsaving \\nfor breakfast\\nI've decided that I should be on the pardon list, if that is still in the works</td>\n",
       "      <td>en</td>\n",
       "      <td>Twitter for iPhone</td>\n",
       "      <td>11533</td>\n",
       "      <td>76</td>\n",
       "      <td>95</td>\n",
       "      <td>1314</td>\n",
       "      <td>everyone</td>\n",
       "      <td>False</td>\n",
       "      <td>NaN</td>\n",
       "      <td>NaN</td>\n",
       "      <td>NaN</td>\n",
       "      <td>NaN</td>\n",
       "      <td>NaN</td>\n",
       "      <td>NaN</td>\n",
       "      <td>[{\"start\": 3, \"end\": 14, \"username\": \"Jewyorican\", \"id\": \"25407830\", \"public_metrics\": {\"followers_count\": 8964, \"following_count\": 2829, \"tweet_count\": 57574, \"listed_count\": 218}, \"verified\": false, \"location\": \"Shaolin/Aquehonga/StatenIsland\", \"pinned_tweet_id\": \"1537612660400967681\", \"entities\": {\"url\": {\"urls\": [{\"start\": 0, \"end\": 23, \"url\": \"https://t.co/fD9IEfHC6V\", \"expanded_url\": \"ht...</td>\n",
       "      <td>NaN</td>\n",
       "      <td>[{\"domain\": {\"id\": \"30\", \"name\": \"Entities [Entity Service]\", \"description\": \"Entity Service top level domain, every item that is in Entity Service should be in this domain\"}, \"entity\": {\"id\": \"825047692124442624\", \"name\": \"Food\", \"description\": \"Food\"}}, {\"domain\": {\"id\": \"67\", \"name\": \"Interests and Hobbies\", \"description\": \"Interests, opinions, and behaviors of individuals, groups, or cultu...</td>\n",
       "      <td>NaN</td>\n",
       "      <td>NaN</td>\n",
       "      <td>NaN</td>\n",
       "      <td>NaN</td>\n",
       "      <td>NaN</td>\n",
       "      <td>NaN</td>\n",
       "      <td>NaN</td>\n",
       "      <td>NaN</td>\n",
       "      <td>3032109176</td>\n",
       "      <td>2015-02-20T04:25:18.000Z</td>\n",
       "      <td>stepville</td>\n",
       "      <td>Stephanie Land</td>\n",
       "      <td>NYT bestselling author of MAID (&amp; inspiration for #MAIDnetflix!). Forthcoming book CLASS: @OneSignalPub Rep’d: Mollie Glick CAA Speak: @LyceumAgency she/her</td>\n",
       "      <td>NaN</td>\n",
       "      <td>[{\"start\": 50, \"end\": 62, \"tag\": \"MAIDnetflix\"}]</td>\n",
       "      <td>[{\"start\": 90, \"end\": 103, \"username\": \"OneSignalPub\"}, {\"start\": 135, \"end\": 148, \"username\": \"LyceumAgency\"}]</td>\n",
       "      <td>NaN</td>\n",
       "      <td>[{\"start\": 0, \"end\": 23, \"url\": \"https://t.co/8j6Uv2JRdG\", \"expanded_url\": \"http://stepville.com\", \"display_url\": \"stepville.com\"}]</td>\n",
       "      <td>Missoula, Montana</td>\n",
       "      <td>9.722091e+17</td>\n",
       "      <td>https://pbs.twimg.com/profile_images/1322179061389553668/NAy2TsVU_normal.jpg</td>\n",
       "      <td>False</td>\n",
       "      <td>43329</td>\n",
       "      <td>1640</td>\n",
       "      <td>201</td>\n",
       "      <td>20554</td>\n",
       "      <td>https://t.co/8j6Uv2JRdG</td>\n",
       "      <td>True</td>\n",
       "      <td>NaN</td>\n",
       "      <td>NaN</td>\n",
       "      <td>NaN</td>\n",
       "      <td>NaN</td>\n",
       "      <td>NaN</td>\n",
       "      <td>NaN</td>\n",
       "      <td>NaN</td>\n",
       "      <td>NaN</td>\n",
       "      <td>NaN</td>\n",
       "      <td>NaN</td>\n",
       "      <td>NaN</td>\n",
       "      <td>NaN</td>\n",
       "      <td>NaN</td>\n",
       "      <td>NaN</td>\n",
       "      <td>2022-06-20T20:16:58+00:00</td>\n",
       "      <td>https://api.twitter.com/2/tweets/search/all?expansions=author_id%2Cin_reply_to_user_id%2Creferenced_tweets.id%2Creferenced_tweets.id.author_id%2Centities.mentions.username%2Cattachments.poll_ids%2Cattachments.media_keys%2Cgeo.place_id&amp;tweet.fields=attachments%2Cauthor_id%2Ccontext_annotations%2Cconversation_id%2Ccreated_at%2Centities%2Cgeo%2Cid%2Cin_reply_to_user_id%2Clang%2Cpublic_metrics%2Ct...</td>\n",
       "      <td>2.10.4</td>\n",
       "      <td>NaN</td>\n",
       "    </tr>\n",
       "    <tr>\n",
       "      <th>...</th>\n",
       "      <td>...</td>\n",
       "      <td>...</td>\n",
       "      <td>...</td>\n",
       "      <td>...</td>\n",
       "      <td>...</td>\n",
       "      <td>...</td>\n",
       "      <td>...</td>\n",
       "      <td>...</td>\n",
       "      <td>...</td>\n",
       "      <td>...</td>\n",
       "      <td>...</td>\n",
       "      <td>...</td>\n",
       "      <td>...</td>\n",
       "      <td>...</td>\n",
       "      <td>...</td>\n",
       "      <td>...</td>\n",
       "      <td>...</td>\n",
       "      <td>...</td>\n",
       "      <td>...</td>\n",
       "      <td>...</td>\n",
       "      <td>...</td>\n",
       "      <td>...</td>\n",
       "      <td>...</td>\n",
       "      <td>...</td>\n",
       "      <td>...</td>\n",
       "      <td>...</td>\n",
       "      <td>...</td>\n",
       "      <td>...</td>\n",
       "      <td>...</td>\n",
       "      <td>...</td>\n",
       "      <td>...</td>\n",
       "      <td>...</td>\n",
       "      <td>...</td>\n",
       "      <td>...</td>\n",
       "      <td>...</td>\n",
       "      <td>...</td>\n",
       "      <td>...</td>\n",
       "      <td>...</td>\n",
       "      <td>...</td>\n",
       "      <td>...</td>\n",
       "      <td>...</td>\n",
       "      <td>...</td>\n",
       "      <td>...</td>\n",
       "      <td>...</td>\n",
       "      <td>...</td>\n",
       "      <td>...</td>\n",
       "      <td>...</td>\n",
       "      <td>...</td>\n",
       "      <td>...</td>\n",
       "      <td>...</td>\n",
       "      <td>...</td>\n",
       "      <td>...</td>\n",
       "      <td>...</td>\n",
       "      <td>...</td>\n",
       "      <td>...</td>\n",
       "      <td>...</td>\n",
       "      <td>...</td>\n",
       "      <td>...</td>\n",
       "      <td>...</td>\n",
       "      <td>...</td>\n",
       "      <td>...</td>\n",
       "      <td>...</td>\n",
       "      <td>...</td>\n",
       "      <td>...</td>\n",
       "      <td>...</td>\n",
       "      <td>...</td>\n",
       "      <td>...</td>\n",
       "      <td>...</td>\n",
       "      <td>...</td>\n",
       "      <td>...</td>\n",
       "      <td>...</td>\n",
       "      <td>...</td>\n",
       "      <td>...</td>\n",
       "      <td>...</td>\n",
       "    </tr>\n",
       "    <tr>\n",
       "      <th>1545</th>\n",
       "      <td>6649213850</td>\n",
       "      <td>6649213850</td>\n",
       "      <td>NaN</td>\n",
       "      <td>NaN</td>\n",
       "      <td>NaN</td>\n",
       "      <td>16187917</td>\n",
       "      <td>NaN</td>\n",
       "      <td>NaN</td>\n",
       "      <td>NaN</td>\n",
       "      <td>2009-12-14 02:53:30+00:00</td>\n",
       "      <td>\"I have eaten the plums that were in the icebox and which you were probably saving for breakfast Forgive...\" http://tumblr.com/xj24o8n52</td>\n",
       "      <td>en</td>\n",
       "      <td>Twitter Web Client</td>\n",
       "      <td>0</td>\n",
       "      <td>0</td>\n",
       "      <td>0</td>\n",
       "      <td>0</td>\n",
       "      <td>everyone</td>\n",
       "      <td>False</td>\n",
       "      <td>NaN</td>\n",
       "      <td>NaN</td>\n",
       "      <td>NaN</td>\n",
       "      <td>NaN</td>\n",
       "      <td>NaN</td>\n",
       "      <td>NaN</td>\n",
       "      <td>NaN</td>\n",
       "      <td>NaN</td>\n",
       "      <td>NaN</td>\n",
       "      <td>NaN</td>\n",
       "      <td>NaN</td>\n",
       "      <td>NaN</td>\n",
       "      <td>NaN</td>\n",
       "      <td>NaN</td>\n",
       "      <td>NaN</td>\n",
       "      <td>NaN</td>\n",
       "      <td>NaN</td>\n",
       "      <td>16187917</td>\n",
       "      <td>2008-09-08T17:42:55.000Z</td>\n",
       "      <td>xameswong</td>\n",
       "      <td>james.</td>\n",
       "      <td>food/film/photo: combinations thereof.</td>\n",
       "      <td>NaN</td>\n",
       "      <td>NaN</td>\n",
       "      <td>NaN</td>\n",
       "      <td>NaN</td>\n",
       "      <td>NaN</td>\n",
       "      <td>Washington, DC</td>\n",
       "      <td>9.285414e+17</td>\n",
       "      <td>https://pbs.twimg.com/profile_images/925802988446220288/ywOq4ssl_normal.jpg</td>\n",
       "      <td>False</td>\n",
       "      <td>2470</td>\n",
       "      <td>492</td>\n",
       "      <td>25</td>\n",
       "      <td>11514</td>\n",
       "      <td>NaN</td>\n",
       "      <td>True</td>\n",
       "      <td>NaN</td>\n",
       "      <td>NaN</td>\n",
       "      <td>NaN</td>\n",
       "      <td>NaN</td>\n",
       "      <td>NaN</td>\n",
       "      <td>NaN</td>\n",
       "      <td>NaN</td>\n",
       "      <td>NaN</td>\n",
       "      <td>NaN</td>\n",
       "      <td>NaN</td>\n",
       "      <td>NaN</td>\n",
       "      <td>NaN</td>\n",
       "      <td>NaN</td>\n",
       "      <td>NaN</td>\n",
       "      <td>2022-06-20T20:17:27+00:00</td>\n",
       "      <td>https://api.twitter.com/2/tweets/search/all?expansions=author_id%2Cin_reply_to_user_id%2Creferenced_tweets.id%2Creferenced_tweets.id.author_id%2Centities.mentions.username%2Cattachments.poll_ids%2Cattachments.media_keys%2Cgeo.place_id&amp;tweet.fields=attachments%2Cauthor_id%2Ccontext_annotations%2Cconversation_id%2Ccreated_at%2Centities%2Cgeo%2Cid%2Cin_reply_to_user_id%2Clang%2Cpublic_metrics%2Ct...</td>\n",
       "      <td>2.10.4</td>\n",
       "      <td>NaN</td>\n",
       "    </tr>\n",
       "    <tr>\n",
       "      <th>1546</th>\n",
       "      <td>3431644799</td>\n",
       "      <td>3431644799</td>\n",
       "      <td>NaN</td>\n",
       "      <td>NaN</td>\n",
       "      <td>NaN</td>\n",
       "      <td>5389812</td>\n",
       "      <td>NaN</td>\n",
       "      <td>NaN</td>\n",
       "      <td>NaN</td>\n",
       "      <td>2009-08-20 17:44:57+00:00</td>\n",
       "      <td>i have eaten the plums that were in the icebox &amp; which U were probably saving 4 breakfast Forgive me they were delicious so sweet &amp; so cold</td>\n",
       "      <td>en</td>\n",
       "      <td>Twitter Web Client</td>\n",
       "      <td>0</td>\n",
       "      <td>0</td>\n",
       "      <td>0</td>\n",
       "      <td>0</td>\n",
       "      <td>everyone</td>\n",
       "      <td>False</td>\n",
       "      <td>NaN</td>\n",
       "      <td>NaN</td>\n",
       "      <td>NaN</td>\n",
       "      <td>NaN</td>\n",
       "      <td>NaN</td>\n",
       "      <td>NaN</td>\n",
       "      <td>NaN</td>\n",
       "      <td>NaN</td>\n",
       "      <td>NaN</td>\n",
       "      <td>NaN</td>\n",
       "      <td>NaN</td>\n",
       "      <td>NaN</td>\n",
       "      <td>NaN</td>\n",
       "      <td>NaN</td>\n",
       "      <td>NaN</td>\n",
       "      <td>NaN</td>\n",
       "      <td>NaN</td>\n",
       "      <td>5389812</td>\n",
       "      <td>2007-04-22T01:55:34.000Z</td>\n",
       "      <td>yoavlurie</td>\n",
       "      <td>Yoav Lurie</td>\n",
       "      <td>SaaS entrepreneur and investor for #impact. EHF Fellow @EHFNewZealand; mentor @techstars. Previously: CEO &amp; Founder @SimpleEnergy &amp; President @Uplight🦄</td>\n",
       "      <td>NaN</td>\n",
       "      <td>[{\"start\": 35, \"end\": 42, \"tag\": \"impact\"}]</td>\n",
       "      <td>[{\"start\": 55, \"end\": 69, \"username\": \"EHFNewZealand\"}, {\"start\": 78, \"end\": 88, \"username\": \"techstars\"}, {\"start\": 116, \"end\": 129, \"username\": \"SimpleEnergy\"}, {\"start\": 142, \"end\": 150, \"username\": \"Uplight\"}]</td>\n",
       "      <td>NaN</td>\n",
       "      <td>[{\"start\": 0, \"end\": 23, \"url\": \"https://t.co/wA47MAmF5Z\", \"expanded_url\": \"https://www.linkedin.com/in/yoavlurie\", \"display_url\": \"linkedin.com/in/yoavlurie\"}]</td>\n",
       "      <td>Boulder, CO</td>\n",
       "      <td>1.441624e+18</td>\n",
       "      <td>https://pbs.twimg.com/profile_images/1472023315782856706/b9QT6jx1_normal.jpg</td>\n",
       "      <td>False</td>\n",
       "      <td>4107</td>\n",
       "      <td>2398</td>\n",
       "      <td>246</td>\n",
       "      <td>21329</td>\n",
       "      <td>https://t.co/wA47MAmF5Z</td>\n",
       "      <td>True</td>\n",
       "      <td>NaN</td>\n",
       "      <td>NaN</td>\n",
       "      <td>NaN</td>\n",
       "      <td>NaN</td>\n",
       "      <td>NaN</td>\n",
       "      <td>NaN</td>\n",
       "      <td>NaN</td>\n",
       "      <td>NaN</td>\n",
       "      <td>NaN</td>\n",
       "      <td>NaN</td>\n",
       "      <td>NaN</td>\n",
       "      <td>NaN</td>\n",
       "      <td>NaN</td>\n",
       "      <td>NaN</td>\n",
       "      <td>2022-06-20T20:17:27+00:00</td>\n",
       "      <td>https://api.twitter.com/2/tweets/search/all?expansions=author_id%2Cin_reply_to_user_id%2Creferenced_tweets.id%2Creferenced_tweets.id.author_id%2Centities.mentions.username%2Cattachments.poll_ids%2Cattachments.media_keys%2Cgeo.place_id&amp;tweet.fields=attachments%2Cauthor_id%2Ccontext_annotations%2Cconversation_id%2Ccreated_at%2Centities%2Cgeo%2Cid%2Cin_reply_to_user_id%2Clang%2Cpublic_metrics%2Ct...</td>\n",
       "      <td>2.10.4</td>\n",
       "      <td>NaN</td>\n",
       "    </tr>\n",
       "    <tr>\n",
       "      <th>1547</th>\n",
       "      <td>3431599449</td>\n",
       "      <td>3431599449</td>\n",
       "      <td>NaN</td>\n",
       "      <td>NaN</td>\n",
       "      <td>NaN</td>\n",
       "      <td>5389812</td>\n",
       "      <td>NaN</td>\n",
       "      <td>NaN</td>\n",
       "      <td>NaN</td>\n",
       "      <td>2009-08-20 17:42:34+00:00</td>\n",
       "      <td>I have eatenthe plumsthat were inthe icebox</td>\n",
       "      <td>en</td>\n",
       "      <td>Twitter Web Client</td>\n",
       "      <td>0</td>\n",
       "      <td>0</td>\n",
       "      <td>0</td>\n",
       "      <td>0</td>\n",
       "      <td>everyone</td>\n",
       "      <td>False</td>\n",
       "      <td>NaN</td>\n",
       "      <td>NaN</td>\n",
       "      <td>NaN</td>\n",
       "      <td>NaN</td>\n",
       "      <td>NaN</td>\n",
       "      <td>NaN</td>\n",
       "      <td>NaN</td>\n",
       "      <td>NaN</td>\n",
       "      <td>NaN</td>\n",
       "      <td>NaN</td>\n",
       "      <td>NaN</td>\n",
       "      <td>NaN</td>\n",
       "      <td>NaN</td>\n",
       "      <td>NaN</td>\n",
       "      <td>NaN</td>\n",
       "      <td>NaN</td>\n",
       "      <td>NaN</td>\n",
       "      <td>5389812</td>\n",
       "      <td>2007-04-22T01:55:34.000Z</td>\n",
       "      <td>yoavlurie</td>\n",
       "      <td>Yoav Lurie</td>\n",
       "      <td>SaaS entrepreneur and investor for #impact. EHF Fellow @EHFNewZealand; mentor @techstars. Previously: CEO &amp; Founder @SimpleEnergy &amp; President @Uplight🦄</td>\n",
       "      <td>NaN</td>\n",
       "      <td>[{\"start\": 35, \"end\": 42, \"tag\": \"impact\"}]</td>\n",
       "      <td>[{\"start\": 55, \"end\": 69, \"username\": \"EHFNewZealand\"}, {\"start\": 78, \"end\": 88, \"username\": \"techstars\"}, {\"start\": 116, \"end\": 129, \"username\": \"SimpleEnergy\"}, {\"start\": 142, \"end\": 150, \"username\": \"Uplight\"}]</td>\n",
       "      <td>NaN</td>\n",
       "      <td>[{\"start\": 0, \"end\": 23, \"url\": \"https://t.co/wA47MAmF5Z\", \"expanded_url\": \"https://www.linkedin.com/in/yoavlurie\", \"display_url\": \"linkedin.com/in/yoavlurie\"}]</td>\n",
       "      <td>Boulder, CO</td>\n",
       "      <td>1.441624e+18</td>\n",
       "      <td>https://pbs.twimg.com/profile_images/1472023315782856706/b9QT6jx1_normal.jpg</td>\n",
       "      <td>False</td>\n",
       "      <td>4107</td>\n",
       "      <td>2398</td>\n",
       "      <td>246</td>\n",
       "      <td>21329</td>\n",
       "      <td>https://t.co/wA47MAmF5Z</td>\n",
       "      <td>True</td>\n",
       "      <td>NaN</td>\n",
       "      <td>NaN</td>\n",
       "      <td>NaN</td>\n",
       "      <td>NaN</td>\n",
       "      <td>NaN</td>\n",
       "      <td>NaN</td>\n",
       "      <td>NaN</td>\n",
       "      <td>NaN</td>\n",
       "      <td>NaN</td>\n",
       "      <td>NaN</td>\n",
       "      <td>NaN</td>\n",
       "      <td>NaN</td>\n",
       "      <td>NaN</td>\n",
       "      <td>NaN</td>\n",
       "      <td>2022-06-20T20:17:27+00:00</td>\n",
       "      <td>https://api.twitter.com/2/tweets/search/all?expansions=author_id%2Cin_reply_to_user_id%2Creferenced_tweets.id%2Creferenced_tweets.id.author_id%2Centities.mentions.username%2Cattachments.poll_ids%2Cattachments.media_keys%2Cgeo.place_id&amp;tweet.fields=attachments%2Cauthor_id%2Ccontext_annotations%2Cconversation_id%2Ccreated_at%2Centities%2Cgeo%2Cid%2Cin_reply_to_user_id%2Clang%2Cpublic_metrics%2Ct...</td>\n",
       "      <td>2.10.4</td>\n",
       "      <td>NaN</td>\n",
       "    </tr>\n",
       "    <tr>\n",
       "      <th>1548</th>\n",
       "      <td>3127665950</td>\n",
       "      <td>3127665950</td>\n",
       "      <td>NaN</td>\n",
       "      <td>NaN</td>\n",
       "      <td>NaN</td>\n",
       "      <td>3252</td>\n",
       "      <td>NaN</td>\n",
       "      <td>NaN</td>\n",
       "      <td>NaN</td>\n",
       "      <td>2009-08-04 17:08:43+00:00</td>\n",
       "      <td>Do I dare to eat a peach? Yes. It's the plums in the icebox I'm worried about.</td>\n",
       "      <td>en</td>\n",
       "      <td>Twitter Web Client</td>\n",
       "      <td>2</td>\n",
       "      <td>0</td>\n",
       "      <td>0</td>\n",
       "      <td>3</td>\n",
       "      <td>everyone</td>\n",
       "      <td>False</td>\n",
       "      <td>NaN</td>\n",
       "      <td>NaN</td>\n",
       "      <td>NaN</td>\n",
       "      <td>NaN</td>\n",
       "      <td>NaN</td>\n",
       "      <td>NaN</td>\n",
       "      <td>NaN</td>\n",
       "      <td>NaN</td>\n",
       "      <td>NaN</td>\n",
       "      <td>NaN</td>\n",
       "      <td>NaN</td>\n",
       "      <td>NaN</td>\n",
       "      <td>NaN</td>\n",
       "      <td>NaN</td>\n",
       "      <td>NaN</td>\n",
       "      <td>NaN</td>\n",
       "      <td>NaN</td>\n",
       "      <td>3252</td>\n",
       "      <td>2006-07-27T15:07:08.000Z</td>\n",
       "      <td>odannyboy</td>\n",
       "      <td>Dan Saffer</td>\n",
       "      <td>Director of Product Design at @Flipboard. #Microinteractions author. Formerly @TwitterDesign @SmartDesign @AdaptivePath @CMUdesign Neutral Good. #Saffervescence</td>\n",
       "      <td>NaN</td>\n",
       "      <td>[{\"start\": 42, \"end\": 60, \"tag\": \"Microinteractions\"}, {\"start\": 145, \"end\": 160, \"tag\": \"Saffervescence\"}]</td>\n",
       "      <td>[{\"start\": 30, \"end\": 40, \"username\": \"Flipboard\"}, {\"start\": 78, \"end\": 92, \"username\": \"TwitterDesign\"}, {\"start\": 93, \"end\": 105, \"username\": \"SmartDesign\"}, {\"start\": 106, \"end\": 119, \"username\": \"AdaptivePath\"}, {\"start\": 120, \"end\": 130, \"username\": \"CMUdesign\"}]</td>\n",
       "      <td>NaN</td>\n",
       "      <td>[{\"start\": 0, \"end\": 23, \"url\": \"https://t.co/JUwLp0fyl2\", \"expanded_url\": \"http://www.odannyboy.com\", \"display_url\": \"odannyboy.com\"}]</td>\n",
       "      <td>San Francisco</td>\n",
       "      <td>1.221510e+18</td>\n",
       "      <td>https://pbs.twimg.com/profile_images/1516077721813626880/YnSG3OKo_normal.jpg</td>\n",
       "      <td>False</td>\n",
       "      <td>31725</td>\n",
       "      <td>486</td>\n",
       "      <td>1850</td>\n",
       "      <td>66333</td>\n",
       "      <td>https://t.co/JUwLp0fyl2</td>\n",
       "      <td>True</td>\n",
       "      <td>NaN</td>\n",
       "      <td>NaN</td>\n",
       "      <td>NaN</td>\n",
       "      <td>NaN</td>\n",
       "      <td>NaN</td>\n",
       "      <td>NaN</td>\n",
       "      <td>NaN</td>\n",
       "      <td>NaN</td>\n",
       "      <td>NaN</td>\n",
       "      <td>NaN</td>\n",
       "      <td>NaN</td>\n",
       "      <td>NaN</td>\n",
       "      <td>NaN</td>\n",
       "      <td>NaN</td>\n",
       "      <td>2022-06-20T20:17:27+00:00</td>\n",
       "      <td>https://api.twitter.com/2/tweets/search/all?expansions=author_id%2Cin_reply_to_user_id%2Creferenced_tweets.id%2Creferenced_tweets.id.author_id%2Centities.mentions.username%2Cattachments.poll_ids%2Cattachments.media_keys%2Cgeo.place_id&amp;tweet.fields=attachments%2Cauthor_id%2Ccontext_annotations%2Cconversation_id%2Ccreated_at%2Centities%2Cgeo%2Cid%2Cin_reply_to_user_id%2Clang%2Cpublic_metrics%2Ct...</td>\n",
       "      <td>2.10.4</td>\n",
       "      <td>NaN</td>\n",
       "    </tr>\n",
       "    <tr>\n",
       "      <th>1549</th>\n",
       "      <td>2350022075</td>\n",
       "      <td>2350022075</td>\n",
       "      <td>NaN</td>\n",
       "      <td>NaN</td>\n",
       "      <td>NaN</td>\n",
       "      <td>23730438</td>\n",
       "      <td>NaN</td>\n",
       "      <td>NaN</td>\n",
       "      <td>NaN</td>\n",
       "      <td>2009-06-26 21:15:07+00:00</td>\n",
       "      <td>I'm not being mean 2 USians. Some things r famous in some places &amp; not others. I hadn't heard the plums &amp; the icebox poem till I lived here.</td>\n",
       "      <td>en</td>\n",
       "      <td>Twitter Web Client</td>\n",
       "      <td>1</td>\n",
       "      <td>0</td>\n",
       "      <td>0</td>\n",
       "      <td>0</td>\n",
       "      <td>everyone</td>\n",
       "      <td>False</td>\n",
       "      <td>NaN</td>\n",
       "      <td>NaN</td>\n",
       "      <td>NaN</td>\n",
       "      <td>NaN</td>\n",
       "      <td>NaN</td>\n",
       "      <td>NaN</td>\n",
       "      <td>NaN</td>\n",
       "      <td>NaN</td>\n",
       "      <td>NaN</td>\n",
       "      <td>NaN</td>\n",
       "      <td>NaN</td>\n",
       "      <td>NaN</td>\n",
       "      <td>NaN</td>\n",
       "      <td>NaN</td>\n",
       "      <td>NaN</td>\n",
       "      <td>NaN</td>\n",
       "      <td>NaN</td>\n",
       "      <td>23730438</td>\n",
       "      <td>2009-03-11T06:08:44.000Z</td>\n",
       "      <td>JustineLavaworm</td>\n",
       "      <td>Justine Larbalestier is taking a break</td>\n",
       "      <td>Novelist. My Sister Rosa. You can find her on Instagram: @DrJustineFancyPants Avi: @tanaudel. Header: @PDillatheGreat. Agent: @jillgrinberglit</td>\n",
       "      <td>NaN</td>\n",
       "      <td>NaN</td>\n",
       "      <td>[{\"start\": 57, \"end\": 77, \"username\": \"DrJustineFancyPants\"}, {\"start\": 83, \"end\": 92, \"username\": \"tanaudel\"}, {\"start\": 102, \"end\": 117, \"username\": \"PDillatheGreat\"}, {\"start\": 126, \"end\": 142, \"username\": \"jillgrinberglit\"}]</td>\n",
       "      <td>NaN</td>\n",
       "      <td>[{\"start\": 0, \"end\": 23, \"url\": \"https://t.co/QfKXryz3Az\", \"expanded_url\": \"http://www.justinelarbalestier.com\", \"display_url\": \"justinelarbalestier.com\"}]</td>\n",
       "      <td>LES, NYC/Surry Hills, Sydney</td>\n",
       "      <td>1.230658e+18</td>\n",
       "      <td>https://pbs.twimg.com/profile_images/516652777045368832/lmZz3V8M_normal.jpeg</td>\n",
       "      <td>False</td>\n",
       "      <td>13371</td>\n",
       "      <td>1934</td>\n",
       "      <td>906</td>\n",
       "      <td>169936</td>\n",
       "      <td>https://t.co/QfKXryz3Az</td>\n",
       "      <td>True</td>\n",
       "      <td>NaN</td>\n",
       "      <td>NaN</td>\n",
       "      <td>NaN</td>\n",
       "      <td>NaN</td>\n",
       "      <td>NaN</td>\n",
       "      <td>NaN</td>\n",
       "      <td>NaN</td>\n",
       "      <td>NaN</td>\n",
       "      <td>NaN</td>\n",
       "      <td>NaN</td>\n",
       "      <td>NaN</td>\n",
       "      <td>NaN</td>\n",
       "      <td>NaN</td>\n",
       "      <td>NaN</td>\n",
       "      <td>2022-06-20T20:17:27+00:00</td>\n",
       "      <td>https://api.twitter.com/2/tweets/search/all?expansions=author_id%2Cin_reply_to_user_id%2Creferenced_tweets.id%2Creferenced_tweets.id.author_id%2Centities.mentions.username%2Cattachments.poll_ids%2Cattachments.media_keys%2Cgeo.place_id&amp;tweet.fields=attachments%2Cauthor_id%2Ccontext_annotations%2Cconversation_id%2Ccreated_at%2Centities%2Cgeo%2Cid%2Cin_reply_to_user_id%2Clang%2Cpublic_metrics%2Ct...</td>\n",
       "      <td>2.10.4</td>\n",
       "      <td>NaN</td>\n",
       "    </tr>\n",
       "  </tbody>\n",
       "</table>\n",
       "<p>1550 rows × 74 columns</p>\n",
       "</div>"
      ],
      "text/plain": [
       "                       id      conversation_id  \\\n",
       "0     1538697649485795329  1538697649485795329   \n",
       "1     1538096782067961857  1538096782067961857   \n",
       "2     1537927857329975297  1537927857329975297   \n",
       "3     1537918133729579010  1537918133729579010   \n",
       "4     1537882687091855360  1537882687091855360   \n",
       "...                   ...                  ...   \n",
       "1545           6649213850           6649213850   \n",
       "1546           3431644799           3431644799   \n",
       "1547           3431599449           3431599449   \n",
       "1548           3127665950           3127665950   \n",
       "1549           2350022075           2350022075   \n",
       "\n",
       "      referenced_tweets.replied_to.id  referenced_tweets.retweeted.id  \\\n",
       "0                                 NaN                    1.537613e+18   \n",
       "1                                 NaN                    1.537551e+18   \n",
       "2                                 NaN                    1.537613e+18   \n",
       "3                                 NaN                    1.537613e+18   \n",
       "4                                 NaN                    1.537613e+18   \n",
       "...                               ...                             ...   \n",
       "1545                              NaN                             NaN   \n",
       "1546                              NaN                             NaN   \n",
       "1547                              NaN                             NaN   \n",
       "1548                              NaN                             NaN   \n",
       "1549                              NaN                             NaN   \n",
       "\n",
       "      referenced_tweets.quoted.id            author_id  in_reply_to_user_id  \\\n",
       "0                             NaN  1117660295755780096                  NaN   \n",
       "1                             NaN           2341248866                  NaN   \n",
       "2                             NaN             15723806                  NaN   \n",
       "3                             NaN            322177274                  NaN   \n",
       "4                             NaN           3032109176                  NaN   \n",
       "...                           ...                  ...                  ...   \n",
       "1545                          NaN             16187917                  NaN   \n",
       "1546                          NaN              5389812                  NaN   \n",
       "1547                          NaN              5389812                  NaN   \n",
       "1548                          NaN                 3252                  NaN   \n",
       "1549                          NaN             23730438                  NaN   \n",
       "\n",
       "      retweeted_user_id  quoted_user_id                created_at  \\\n",
       "0            25407830.0             NaN 2022-06-20 01:38:01+00:00   \n",
       "1            19012926.0             NaN 2022-06-18 09:50:23+00:00   \n",
       "2            25407830.0             NaN 2022-06-17 22:39:09+00:00   \n",
       "3            25407830.0             NaN 2022-06-17 22:00:30+00:00   \n",
       "4            25407830.0             NaN 2022-06-17 19:39:39+00:00   \n",
       "...                 ...             ...                       ...   \n",
       "1545                NaN             NaN 2009-12-14 02:53:30+00:00   \n",
       "1546                NaN             NaN 2009-08-20 17:44:57+00:00   \n",
       "1547                NaN             NaN 2009-08-20 17:42:34+00:00   \n",
       "1548                NaN             NaN 2009-08-04 17:08:43+00:00   \n",
       "1549                NaN             NaN 2009-06-26 21:15:07+00:00   \n",
       "\n",
       "                                                                                                                                                                                                   text  \\\n",
       "0         I have eaten \\nthe plums \\nthat were in \\nthe icebox\\nand which \\nyou were probably \\nsaving \\nfor breakfast\\nI've decided that I should be on the pardon list, if that is still in the works   \n",
       "1     I have eaten\\nthe plums\\nthat were in\\nthe icebox\\n\\nand which\\nyou were probably\\nsaving\\nfor breakfast\\n\\nForgive me\\nI’ve decided I should be on the pardon list, if that’s still in the works   \n",
       "2         I have eaten \\nthe plums \\nthat were in \\nthe icebox\\nand which \\nyou were probably \\nsaving \\nfor breakfast\\nI've decided that I should be on the pardon list, if that is still in the works   \n",
       "3         I have eaten \\nthe plums \\nthat were in \\nthe icebox\\nand which \\nyou were probably \\nsaving \\nfor breakfast\\nI've decided that I should be on the pardon list, if that is still in the works   \n",
       "4         I have eaten \\nthe plums \\nthat were in \\nthe icebox\\nand which \\nyou were probably \\nsaving \\nfor breakfast\\nI've decided that I should be on the pardon list, if that is still in the works   \n",
       "...                                                                                                                                                                                                 ...   \n",
       "1545                                                           \"I have eaten the plums that were in the icebox and which you were probably saving for breakfast Forgive...\" http://tumblr.com/xj24o8n52   \n",
       "1546                                                        i have eaten the plums that were in the icebox & which U were probably saving 4 breakfast Forgive me they were delicious so sweet & so cold   \n",
       "1547                                                                                                                                                        I have eatenthe plumsthat were inthe icebox   \n",
       "1548                                                                                                                     Do I dare to eat a peach? Yes. It's the plums in the icebox I'm worried about.   \n",
       "1549                                                       I'm not being mean 2 USians. Some things r famous in some places & not others. I hadn't heard the plums & the icebox poem till I lived here.   \n",
       "\n",
       "     lang              source  public_metrics.like_count  \\\n",
       "0      en  Twitter for iPhone                      11533   \n",
       "1      en  Twitter for iPhone                       1021   \n",
       "2      en    Twitter for iPad                      11533   \n",
       "3      en  Twitter for iPhone                      11533   \n",
       "4      en  Twitter for iPhone                      11533   \n",
       "...   ...                 ...                        ...   \n",
       "1545   en  Twitter Web Client                          0   \n",
       "1546   en  Twitter Web Client                          0   \n",
       "1547   en  Twitter Web Client                          0   \n",
       "1548   en  Twitter Web Client                          2   \n",
       "1549   en  Twitter Web Client                          1   \n",
       "\n",
       "      public_metrics.quote_count  public_metrics.reply_count  \\\n",
       "0                             76                          95   \n",
       "1                              9                          16   \n",
       "2                             76                          95   \n",
       "3                             76                          95   \n",
       "4                             76                          95   \n",
       "...                          ...                         ...   \n",
       "1545                           0                           0   \n",
       "1546                           0                           0   \n",
       "1547                           0                           0   \n",
       "1548                           0                           0   \n",
       "1549                           0                           0   \n",
       "\n",
       "      public_metrics.retweet_count reply_settings  possibly_sensitive  \\\n",
       "0                             1314       everyone               False   \n",
       "1                              185       everyone               False   \n",
       "2                             1314       everyone               False   \n",
       "3                             1314       everyone               False   \n",
       "4                             1314       everyone               False   \n",
       "...                            ...            ...                 ...   \n",
       "1545                             0       everyone               False   \n",
       "1546                             0       everyone               False   \n",
       "1547                             0       everyone               False   \n",
       "1548                             3       everyone               False   \n",
       "1549                             0       everyone               False   \n",
       "\n",
       "      withheld.scope  withheld.copyright  withheld.country_codes  \\\n",
       "0                NaN                 NaN                     NaN   \n",
       "1                NaN                 NaN                     NaN   \n",
       "2                NaN                 NaN                     NaN   \n",
       "3                NaN                 NaN                     NaN   \n",
       "4                NaN                 NaN                     NaN   \n",
       "...              ...                 ...                     ...   \n",
       "1545             NaN                 NaN                     NaN   \n",
       "1546             NaN                 NaN                     NaN   \n",
       "1547             NaN                 NaN                     NaN   \n",
       "1548             NaN                 NaN                     NaN   \n",
       "1549             NaN                 NaN                     NaN   \n",
       "\n",
       "     entities.annotations  entities.cashtags entities.hashtags  \\\n",
       "0                     NaN                NaN               NaN   \n",
       "1                     NaN                NaN               NaN   \n",
       "2                     NaN                NaN               NaN   \n",
       "3                     NaN                NaN               NaN   \n",
       "4                     NaN                NaN               NaN   \n",
       "...                   ...                ...               ...   \n",
       "1545                  NaN                NaN               NaN   \n",
       "1546                  NaN                NaN               NaN   \n",
       "1547                  NaN                NaN               NaN   \n",
       "1548                  NaN                NaN               NaN   \n",
       "1549                  NaN                NaN               NaN   \n",
       "\n",
       "                                                                                                                                                                                                                                                                                                                                                                                                    entities.mentions  \\\n",
       "0     [{\"start\": 3, \"end\": 14, \"username\": \"Jewyorican\", \"id\": \"25407830\", \"public_metrics\": {\"followers_count\": 8964, \"following_count\": 2829, \"tweet_count\": 57574, \"listed_count\": 218}, \"verified\": false, \"location\": \"Shaolin/Aquehonga/StatenIsland\", \"pinned_tweet_id\": \"1537612660400967681\", \"entities\": {\"url\": {\"urls\": [{\"start\": 0, \"end\": 23, \"url\": \"https://t.co/fD9IEfHC6V\", \"expanded_url\": \"ht...   \n",
       "1     [{\"start\": 3, \"end\": 11, \"username\": \"BBrkdwn\", \"id\": \"19012926\", \"public_metrics\": {\"followers_count\": 1207, \"following_count\": 1465, \"tweet_count\": 179078, \"listed_count\": 57}, \"verified\": false, \"location\": \"PNW \\ud83c\\udf32\", \"pinned_tweet_id\": \"1477337581595422722\", \"profile_image_url\": \"https://pbs.twimg.com/profile_images/1455246250249359361/IU5PYAhA_normal.jpg\", \"name\": \"\\ud835\\udd6d.\"...   \n",
       "2     [{\"start\": 3, \"end\": 14, \"username\": \"Jewyorican\", \"id\": \"25407830\", \"public_metrics\": {\"followers_count\": 8964, \"following_count\": 2829, \"tweet_count\": 57574, \"listed_count\": 218}, \"verified\": false, \"location\": \"Shaolin/Aquehonga/StatenIsland\", \"pinned_tweet_id\": \"1537612660400967681\", \"entities\": {\"url\": {\"urls\": [{\"start\": 0, \"end\": 23, \"url\": \"https://t.co/fD9IEfHC6V\", \"expanded_url\": \"ht...   \n",
       "3     [{\"start\": 3, \"end\": 14, \"username\": \"Jewyorican\", \"id\": \"25407830\", \"public_metrics\": {\"followers_count\": 8964, \"following_count\": 2829, \"tweet_count\": 57574, \"listed_count\": 218}, \"verified\": false, \"location\": \"Shaolin/Aquehonga/StatenIsland\", \"pinned_tweet_id\": \"1537612660400967681\", \"entities\": {\"url\": {\"urls\": [{\"start\": 0, \"end\": 23, \"url\": \"https://t.co/fD9IEfHC6V\", \"expanded_url\": \"ht...   \n",
       "4     [{\"start\": 3, \"end\": 14, \"username\": \"Jewyorican\", \"id\": \"25407830\", \"public_metrics\": {\"followers_count\": 8964, \"following_count\": 2829, \"tweet_count\": 57574, \"listed_count\": 218}, \"verified\": false, \"location\": \"Shaolin/Aquehonga/StatenIsland\", \"pinned_tweet_id\": \"1537612660400967681\", \"entities\": {\"url\": {\"urls\": [{\"start\": 0, \"end\": 23, \"url\": \"https://t.co/fD9IEfHC6V\", \"expanded_url\": \"ht...   \n",
       "...                                                                                                                                                                                                                                                                                                                                                                                                               ...   \n",
       "1545                                                                                                                                                                                                                                                                                                                                                                                                              NaN   \n",
       "1546                                                                                                                                                                                                                                                                                                                                                                                                              NaN   \n",
       "1547                                                                                                                                                                                                                                                                                                                                                                                                              NaN   \n",
       "1548                                                                                                                                                                                                                                                                                                                                                                                                              NaN   \n",
       "1549                                                                                                                                                                                                                                                                                                                                                                                                              NaN   \n",
       "\n",
       "     entities.urls  \\\n",
       "0              NaN   \n",
       "1              NaN   \n",
       "2              NaN   \n",
       "3              NaN   \n",
       "4              NaN   \n",
       "...            ...   \n",
       "1545           NaN   \n",
       "1546           NaN   \n",
       "1547           NaN   \n",
       "1548           NaN   \n",
       "1549           NaN   \n",
       "\n",
       "                                                                                                                                                                                                                                                                                                                                                                                                  context_annotations  \\\n",
       "0     [{\"domain\": {\"id\": \"30\", \"name\": \"Entities [Entity Service]\", \"description\": \"Entity Service top level domain, every item that is in Entity Service should be in this domain\"}, \"entity\": {\"id\": \"825047692124442624\", \"name\": \"Food\", \"description\": \"Food\"}}, {\"domain\": {\"id\": \"67\", \"name\": \"Interests and Hobbies\", \"description\": \"Interests, opinions, and behaviors of individuals, groups, or cultu...   \n",
       "1     [{\"domain\": {\"id\": \"30\", \"name\": \"Entities [Entity Service]\", \"description\": \"Entity Service top level domain, every item that is in Entity Service should be in this domain\"}, \"entity\": {\"id\": \"825047692124442624\", \"name\": \"Food\", \"description\": \"Food\"}}, {\"domain\": {\"id\": \"67\", \"name\": \"Interests and Hobbies\", \"description\": \"Interests, opinions, and behaviors of individuals, groups, or cultu...   \n",
       "2     [{\"domain\": {\"id\": \"30\", \"name\": \"Entities [Entity Service]\", \"description\": \"Entity Service top level domain, every item that is in Entity Service should be in this domain\"}, \"entity\": {\"id\": \"825047692124442624\", \"name\": \"Food\", \"description\": \"Food\"}}, {\"domain\": {\"id\": \"67\", \"name\": \"Interests and Hobbies\", \"description\": \"Interests, opinions, and behaviors of individuals, groups, or cultu...   \n",
       "3     [{\"domain\": {\"id\": \"30\", \"name\": \"Entities [Entity Service]\", \"description\": \"Entity Service top level domain, every item that is in Entity Service should be in this domain\"}, \"entity\": {\"id\": \"825047692124442624\", \"name\": \"Food\", \"description\": \"Food\"}}, {\"domain\": {\"id\": \"67\", \"name\": \"Interests and Hobbies\", \"description\": \"Interests, opinions, and behaviors of individuals, groups, or cultu...   \n",
       "4     [{\"domain\": {\"id\": \"30\", \"name\": \"Entities [Entity Service]\", \"description\": \"Entity Service top level domain, every item that is in Entity Service should be in this domain\"}, \"entity\": {\"id\": \"825047692124442624\", \"name\": \"Food\", \"description\": \"Food\"}}, {\"domain\": {\"id\": \"67\", \"name\": \"Interests and Hobbies\", \"description\": \"Interests, opinions, and behaviors of individuals, groups, or cultu...   \n",
       "...                                                                                                                                                                                                                                                                                                                                                                                                               ...   \n",
       "1545                                                                                                                                                                                                                                                                                                                                                                                                              NaN   \n",
       "1546                                                                                                                                                                                                                                                                                                                                                                                                              NaN   \n",
       "1547                                                                                                                                                                                                                                                                                                                                                                                                              NaN   \n",
       "1548                                                                                                                                                                                                                                                                                                                                                                                                              NaN   \n",
       "1549                                                                                                                                                                                                                                                                                                                                                                                                              NaN   \n",
       "\n",
       "     attachments.media attachments.media_keys  \\\n",
       "0                  NaN                    NaN   \n",
       "1                  NaN                    NaN   \n",
       "2                  NaN                    NaN   \n",
       "3                  NaN                    NaN   \n",
       "4                  NaN                    NaN   \n",
       "...                ...                    ...   \n",
       "1545               NaN                    NaN   \n",
       "1546               NaN                    NaN   \n",
       "1547               NaN                    NaN   \n",
       "1548               NaN                    NaN   \n",
       "1549               NaN                    NaN   \n",
       "\n",
       "      attachments.poll.duration_minutes  attachments.poll.end_datetime  \\\n",
       "0                                   NaN                            NaN   \n",
       "1                                   NaN                            NaN   \n",
       "2                                   NaN                            NaN   \n",
       "3                                   NaN                            NaN   \n",
       "4                                   NaN                            NaN   \n",
       "...                                 ...                            ...   \n",
       "1545                                NaN                            NaN   \n",
       "1546                                NaN                            NaN   \n",
       "1547                                NaN                            NaN   \n",
       "1548                                NaN                            NaN   \n",
       "1549                                NaN                            NaN   \n",
       "\n",
       "      attachments.poll.id  attachments.poll.options  \\\n",
       "0                     NaN                       NaN   \n",
       "1                     NaN                       NaN   \n",
       "2                     NaN                       NaN   \n",
       "3                     NaN                       NaN   \n",
       "4                     NaN                       NaN   \n",
       "...                   ...                       ...   \n",
       "1545                  NaN                       NaN   \n",
       "1546                  NaN                       NaN   \n",
       "1547                  NaN                       NaN   \n",
       "1548                  NaN                       NaN   \n",
       "1549                  NaN                       NaN   \n",
       "\n",
       "      attachments.poll.voting_status  attachments.poll_ids  \\\n",
       "0                                NaN                   NaN   \n",
       "1                                NaN                   NaN   \n",
       "2                                NaN                   NaN   \n",
       "3                                NaN                   NaN   \n",
       "4                                NaN                   NaN   \n",
       "...                              ...                   ...   \n",
       "1545                             NaN                   NaN   \n",
       "1546                             NaN                   NaN   \n",
       "1547                             NaN                   NaN   \n",
       "1548                             NaN                   NaN   \n",
       "1549                             NaN                   NaN   \n",
       "\n",
       "                author.id         author.created_at  author.username  \\\n",
       "0     1117660295755780096  2019-04-15T05:25:54.000Z    TheElizaClark   \n",
       "1              2341248866  2014-02-13T02:26:44.000Z     ProfHansNoel   \n",
       "2                15723806  2008-08-04T16:01:02.000Z      BruceRheins   \n",
       "3               322177274  2011-06-22T19:14:34.000Z      RLukeDuBois   \n",
       "4              3032109176  2015-02-20T04:25:18.000Z        stepville   \n",
       "...                   ...                       ...              ...   \n",
       "1545             16187917  2008-09-08T17:42:55.000Z        xameswong   \n",
       "1546              5389812  2007-04-22T01:55:34.000Z        yoavlurie   \n",
       "1547              5389812  2007-04-22T01:55:34.000Z        yoavlurie   \n",
       "1548                 3252  2006-07-27T15:07:08.000Z        odannyboy   \n",
       "1549             23730438  2009-03-11T06:08:44.000Z  JustineLavaworm   \n",
       "\n",
       "                                 author.name  \\\n",
       "0                                Eliza Clark   \n",
       "1                                  Hans Noel   \n",
       "2                               Bruce Rheins   \n",
       "3                             R. Luke DuBois   \n",
       "4                             Stephanie Land   \n",
       "...                                      ...   \n",
       "1545                                  james.   \n",
       "1546                              Yoav Lurie   \n",
       "1547                              Yoav Lurie   \n",
       "1548                              Dan Saffer   \n",
       "1549  Justine Larbalestier is taking a break   \n",
       "\n",
       "                                                                                                                                                    author.description  \\\n",
       "0         (she/her) Showrunner/EP of Y: The Last Man TV: Animal Kingdom, The Killing, Rubicon Plays: Quack, Future Thinking, Recall, Edgewise Instagram: @elizaaclarkw   \n",
       "1      Assoc. Prof. @GUGovt @Georgetown. https://t.co/CgaNEPDqDB  Co-author The Party Decides. Author Political Ideologies and Political Parties in America. #Spoilers   \n",
       "2                       Visited the North Pole once, Antarctica+the South Pole twice, multiple times to places on the Equator. Retweets, opinions, you know the drill.   \n",
       "3        this machine kills fascists ❤️ @IdmNyu @nyutandon 🎶 @cantaloupeny @issueproject 🎨 @bitforms @eyebeamnyc 💾 @cycling74 @p5xjs ♿ @AbilityNYU @TechKidsU (he/him)   \n",
       "4         NYT bestselling author of MAID (& inspiration for #MAIDnetflix!). Forthcoming book CLASS: @OneSignalPub Rep’d: Mollie Glick CAA Speak: @LyceumAgency she/her   \n",
       "...                                                                                                                                                                ...   \n",
       "1545                                                                                                                            food/film/photo: combinations thereof.   \n",
       "1546           SaaS entrepreneur and investor for #impact. EHF Fellow @EHFNewZealand; mentor @techstars. Previously: CEO & Founder @SimpleEnergy & President @Uplight🦄   \n",
       "1547           SaaS entrepreneur and investor for #impact. EHF Fellow @EHFNewZealand; mentor @techstars. Previously: CEO & Founder @SimpleEnergy & President @Uplight🦄   \n",
       "1548  Director of Product Design at @Flipboard. #Microinteractions author. Formerly @TwitterDesign @SmartDesign @AdaptivePath @CMUdesign Neutral Good. #Saffervescence   \n",
       "1549                    Novelist. My Sister Rosa. You can find her on Instagram: @DrJustineFancyPants Avi: @tanaudel. Header: @PDillatheGreat. Agent: @jillgrinberglit   \n",
       "\n",
       "      author.entities.description.cashtags  \\\n",
       "0                                      NaN   \n",
       "1                                      NaN   \n",
       "2                                      NaN   \n",
       "3                                      NaN   \n",
       "4                                      NaN   \n",
       "...                                    ...   \n",
       "1545                                   NaN   \n",
       "1546                                   NaN   \n",
       "1547                                   NaN   \n",
       "1548                                   NaN   \n",
       "1549                                   NaN   \n",
       "\n",
       "                                                                             author.entities.description.hashtags  \\\n",
       "0                                                                                                             NaN   \n",
       "1                                                                 [{\"start\": 150, \"end\": 159, \"tag\": \"Spoilers\"}]   \n",
       "2                                                                                                             NaN   \n",
       "3                                                                                                             NaN   \n",
       "4                                                                [{\"start\": 50, \"end\": 62, \"tag\": \"MAIDnetflix\"}]   \n",
       "...                                                                                                           ...   \n",
       "1545                                                                                                          NaN   \n",
       "1546                                                                  [{\"start\": 35, \"end\": 42, \"tag\": \"impact\"}]   \n",
       "1547                                                                  [{\"start\": 35, \"end\": 42, \"tag\": \"impact\"}]   \n",
       "1548  [{\"start\": 42, \"end\": 60, \"tag\": \"Microinteractions\"}, {\"start\": 145, \"end\": 160, \"tag\": \"Saffervescence\"}]   \n",
       "1549                                                                                                          NaN   \n",
       "\n",
       "                                                                                                                                                                                                                                                                                                                                                                                 author.entities.description.mentions  \\\n",
       "0                                                                                                                                                                                                                                                                                                                                                            [{\"start\": 143, \"end\": 156, \"username\": \"elizaaclarkw\"}]   \n",
       "1                                                                                                                                                                                                                                                                                                                [{\"start\": 13, \"end\": 20, \"username\": \"GUGovt\"}, {\"start\": 21, \"end\": 32, \"username\": \"Georgetown\"}]   \n",
       "2                                                                                                                                                                                                                                                                                                                                                                                                                 NaN   \n",
       "3     [{\"start\": 31, \"end\": 38, \"username\": \"IdmNyu\"}, {\"start\": 39, \"end\": 49, \"username\": \"nyutandon\"}, {\"start\": 52, \"end\": 65, \"username\": \"cantaloupeny\"}, {\"start\": 66, \"end\": 79, \"username\": \"issueproject\"}, {\"start\": 82, \"end\": 91, \"username\": \"bitforms\"}, {\"start\": 92, \"end\": 103, \"username\": \"eyebeamnyc\"}, {\"start\": 106, \"end\": 116, \"username\": \"cycling74\"}, {\"start\": 117, \"end\": 123, \"user...   \n",
       "4                                                                                                                                                                                                                                                                                                     [{\"start\": 90, \"end\": 103, \"username\": \"OneSignalPub\"}, {\"start\": 135, \"end\": 148, \"username\": \"LyceumAgency\"}]   \n",
       "...                                                                                                                                                                                                                                                                                                                                                                                                               ...   \n",
       "1545                                                                                                                                                                                                                                                                                                                                                                                                              NaN   \n",
       "1546                                                                                                                                                                                            [{\"start\": 55, \"end\": 69, \"username\": \"EHFNewZealand\"}, {\"start\": 78, \"end\": 88, \"username\": \"techstars\"}, {\"start\": 116, \"end\": 129, \"username\": \"SimpleEnergy\"}, {\"start\": 142, \"end\": 150, \"username\": \"Uplight\"}]   \n",
       "1547                                                                                                                                                                                            [{\"start\": 55, \"end\": 69, \"username\": \"EHFNewZealand\"}, {\"start\": 78, \"end\": 88, \"username\": \"techstars\"}, {\"start\": 116, \"end\": 129, \"username\": \"SimpleEnergy\"}, {\"start\": 142, \"end\": 150, \"username\": \"Uplight\"}]   \n",
       "1548                                                                                                                                    [{\"start\": 30, \"end\": 40, \"username\": \"Flipboard\"}, {\"start\": 78, \"end\": 92, \"username\": \"TwitterDesign\"}, {\"start\": 93, \"end\": 105, \"username\": \"SmartDesign\"}, {\"start\": 106, \"end\": 119, \"username\": \"AdaptivePath\"}, {\"start\": 120, \"end\": 130, \"username\": \"CMUdesign\"}]   \n",
       "1549                                                                                                                                                                             [{\"start\": 57, \"end\": 77, \"username\": \"DrJustineFancyPants\"}, {\"start\": 83, \"end\": 92, \"username\": \"tanaudel\"}, {\"start\": 102, \"end\": 117, \"username\": \"PDillatheGreat\"}, {\"start\": 126, \"end\": 142, \"username\": \"jillgrinberglit\"}]   \n",
       "\n",
       "                                                                                                        author.entities.description.urls  \\\n",
       "0                                                                                                                                    NaN   \n",
       "1     [{\"start\": 34, \"end\": 57, \"url\": \"https://t.co/CgaNEPDqDB\", \"expanded_url\": \"http://hansnoel.com\", \"display_url\": \"hansnoel.com\"}]   \n",
       "2                                                                                                                                    NaN   \n",
       "3                                                                                                                                    NaN   \n",
       "4                                                                                                                                    NaN   \n",
       "...                                                                                                                                  ...   \n",
       "1545                                                                                                                                 NaN   \n",
       "1546                                                                                                                                 NaN   \n",
       "1547                                                                                                                                 NaN   \n",
       "1548                                                                                                                                 NaN   \n",
       "1549                                                                                                                                 NaN   \n",
       "\n",
       "                                                                                                                                                                                  author.entities.url.urls  \\\n",
       "0     [{\"start\": 0, \"end\": 23, \"url\": \"https://t.co/eE5CdYvmPm\", \"expanded_url\": \"https://www.concordtheatricals.com/a/100686/eliza-clark\", \"display_url\": \"concordtheatricals.com/a/100686/eliza\\u2026\"}]   \n",
       "1                                                                        [{\"start\": 0, \"end\": 23, \"url\": \"https://t.co/CgaNEPDqDB\", \"expanded_url\": \"http://hansnoel.com\", \"display_url\": \"hansnoel.com\"}]   \n",
       "2                                      [{\"start\": 0, \"end\": 23, \"url\": \"https://t.co/sfNa4JwBeV\", \"expanded_url\": \"http://brucerheins.brandyourself.com\", \"display_url\": \"brucerheins.brandyourself.com\"}]   \n",
       "3                                                                    [{\"start\": 0, \"end\": 23, \"url\": \"https://t.co/YkuhZK3DBF\", \"expanded_url\": \"http://lukedubois.com\", \"display_url\": \"lukedubois.com\"}]   \n",
       "4                                                                      [{\"start\": 0, \"end\": 23, \"url\": \"https://t.co/8j6Uv2JRdG\", \"expanded_url\": \"http://stepville.com\", \"display_url\": \"stepville.com\"}]   \n",
       "...                                                                                                                                                                                                    ...   \n",
       "1545                                                                                                                                                                                                   NaN   \n",
       "1546                                      [{\"start\": 0, \"end\": 23, \"url\": \"https://t.co/wA47MAmF5Z\", \"expanded_url\": \"https://www.linkedin.com/in/yoavlurie\", \"display_url\": \"linkedin.com/in/yoavlurie\"}]   \n",
       "1547                                      [{\"start\": 0, \"end\": 23, \"url\": \"https://t.co/wA47MAmF5Z\", \"expanded_url\": \"https://www.linkedin.com/in/yoavlurie\", \"display_url\": \"linkedin.com/in/yoavlurie\"}]   \n",
       "1548                                                               [{\"start\": 0, \"end\": 23, \"url\": \"https://t.co/JUwLp0fyl2\", \"expanded_url\": \"http://www.odannyboy.com\", \"display_url\": \"odannyboy.com\"}]   \n",
       "1549                                           [{\"start\": 0, \"end\": 23, \"url\": \"https://t.co/QfKXryz3Az\", \"expanded_url\": \"http://www.justinelarbalestier.com\", \"display_url\": \"justinelarbalestier.com\"}]   \n",
       "\n",
       "                   author.location  author.pinned_tweet_id  \\\n",
       "0                              NaN            1.466136e+18   \n",
       "1                   Washington, DC            1.257028e+18   \n",
       "2                        The World                     NaN   \n",
       "3                New York, NY, USA            1.157856e+18   \n",
       "4                Missoula, Montana            9.722091e+17   \n",
       "...                            ...                     ...   \n",
       "1545                Washington, DC            9.285414e+17   \n",
       "1546                   Boulder, CO            1.441624e+18   \n",
       "1547                   Boulder, CO            1.441624e+18   \n",
       "1548                 San Francisco            1.221510e+18   \n",
       "1549  LES, NYC/Surry Hills, Sydney            1.230658e+18   \n",
       "\n",
       "                                                          author.profile_image_url  \\\n",
       "0     https://pbs.twimg.com/profile_images/1433910062683066371/WDqPSr9s_normal.jpg   \n",
       "1     https://pbs.twimg.com/profile_images/1474750928213401600/0iH5DL12_normal.jpg   \n",
       "2      https://pbs.twimg.com/profile_images/762706287150768129/Szq8LVu3_normal.jpg   \n",
       "3      https://pbs.twimg.com/profile_images/794398286492921856/SW-WmY3w_normal.jpg   \n",
       "4     https://pbs.twimg.com/profile_images/1322179061389553668/NAy2TsVU_normal.jpg   \n",
       "...                                                                            ...   \n",
       "1545   https://pbs.twimg.com/profile_images/925802988446220288/ywOq4ssl_normal.jpg   \n",
       "1546  https://pbs.twimg.com/profile_images/1472023315782856706/b9QT6jx1_normal.jpg   \n",
       "1547  https://pbs.twimg.com/profile_images/1472023315782856706/b9QT6jx1_normal.jpg   \n",
       "1548  https://pbs.twimg.com/profile_images/1516077721813626880/YnSG3OKo_normal.jpg   \n",
       "1549  https://pbs.twimg.com/profile_images/516652777045368832/lmZz3V8M_normal.jpeg   \n",
       "\n",
       "      author.protected  author.public_metrics.followers_count  \\\n",
       "0                False                                   3134   \n",
       "1                False                                  11534   \n",
       "2                False                                   1589   \n",
       "3                False                                   4493   \n",
       "4                False                                  43329   \n",
       "...                ...                                    ...   \n",
       "1545             False                                   2470   \n",
       "1546             False                                   4107   \n",
       "1547             False                                   4107   \n",
       "1548             False                                  31725   \n",
       "1549             False                                  13371   \n",
       "\n",
       "      author.public_metrics.following_count  \\\n",
       "0                                       335   \n",
       "1                                      3692   \n",
       "2                                       702   \n",
       "3                                      3396   \n",
       "4                                      1640   \n",
       "...                                     ...   \n",
       "1545                                    492   \n",
       "1546                                   2398   \n",
       "1547                                   2398   \n",
       "1548                                    486   \n",
       "1549                                   1934   \n",
       "\n",
       "      author.public_metrics.listed_count  author.public_metrics.tweet_count  \\\n",
       "0                                     13                               2728   \n",
       "1                                    252                               9023   \n",
       "2                                     29                               9516   \n",
       "3                                    173                             106430   \n",
       "4                                    201                              20554   \n",
       "...                                  ...                                ...   \n",
       "1545                                  25                              11514   \n",
       "1546                                 246                              21329   \n",
       "1547                                 246                              21329   \n",
       "1548                                1850                              66333   \n",
       "1549                                 906                             169936   \n",
       "\n",
       "                   author.url  author.verified  author.withheld.scope  \\\n",
       "0     https://t.co/eE5CdYvmPm             True                    NaN   \n",
       "1     https://t.co/CgaNEPDqDB             True                    NaN   \n",
       "2     https://t.co/sfNa4JwBeV             True                    NaN   \n",
       "3     https://t.co/YkuhZK3DBF             True                    NaN   \n",
       "4     https://t.co/8j6Uv2JRdG             True                    NaN   \n",
       "...                       ...              ...                    ...   \n",
       "1545                      NaN             True                    NaN   \n",
       "1546  https://t.co/wA47MAmF5Z             True                    NaN   \n",
       "1547  https://t.co/wA47MAmF5Z             True                    NaN   \n",
       "1548  https://t.co/JUwLp0fyl2             True                    NaN   \n",
       "1549  https://t.co/QfKXryz3Az             True                    NaN   \n",
       "\n",
       "      author.withheld.copyright  author.withheld.country_codes  \\\n",
       "0                           NaN                            NaN   \n",
       "1                           NaN                            NaN   \n",
       "2                           NaN                            NaN   \n",
       "3                           NaN                            NaN   \n",
       "4                           NaN                            NaN   \n",
       "...                         ...                            ...   \n",
       "1545                        NaN                            NaN   \n",
       "1546                        NaN                            NaN   \n",
       "1547                        NaN                            NaN   \n",
       "1548                        NaN                            NaN   \n",
       "1549                        NaN                            NaN   \n",
       "\n",
       "     geo.coordinates.coordinates geo.coordinates.type geo.country  \\\n",
       "0                            NaN                  NaN         NaN   \n",
       "1                            NaN                  NaN         NaN   \n",
       "2                            NaN                  NaN         NaN   \n",
       "3                            NaN                  NaN         NaN   \n",
       "4                            NaN                  NaN         NaN   \n",
       "...                          ...                  ...         ...   \n",
       "1545                         NaN                  NaN         NaN   \n",
       "1546                         NaN                  NaN         NaN   \n",
       "1547                         NaN                  NaN         NaN   \n",
       "1548                         NaN                  NaN         NaN   \n",
       "1549                         NaN                  NaN         NaN   \n",
       "\n",
       "     geo.country_code geo.full_name geo.geo.bbox geo.geo.type geo.id geo.name  \\\n",
       "0                 NaN           NaN          NaN          NaN    NaN      NaN   \n",
       "1                 NaN           NaN          NaN          NaN    NaN      NaN   \n",
       "2                 NaN           NaN          NaN          NaN    NaN      NaN   \n",
       "3                 NaN           NaN          NaN          NaN    NaN      NaN   \n",
       "4                 NaN           NaN          NaN          NaN    NaN      NaN   \n",
       "...               ...           ...          ...          ...    ...      ...   \n",
       "1545              NaN           NaN          NaN          NaN    NaN      NaN   \n",
       "1546              NaN           NaN          NaN          NaN    NaN      NaN   \n",
       "1547              NaN           NaN          NaN          NaN    NaN      NaN   \n",
       "1548              NaN           NaN          NaN          NaN    NaN      NaN   \n",
       "1549              NaN           NaN          NaN          NaN    NaN      NaN   \n",
       "\n",
       "     geo.place_id geo.place_type       __twarc.retrieved_at  \\\n",
       "0             NaN            NaN  2022-06-20T20:16:58+00:00   \n",
       "1             NaN            NaN  2022-06-20T20:16:58+00:00   \n",
       "2             NaN            NaN  2022-06-20T20:16:58+00:00   \n",
       "3             NaN            NaN  2022-06-20T20:16:58+00:00   \n",
       "4             NaN            NaN  2022-06-20T20:16:58+00:00   \n",
       "...           ...            ...                        ...   \n",
       "1545          NaN            NaN  2022-06-20T20:17:27+00:00   \n",
       "1546          NaN            NaN  2022-06-20T20:17:27+00:00   \n",
       "1547          NaN            NaN  2022-06-20T20:17:27+00:00   \n",
       "1548          NaN            NaN  2022-06-20T20:17:27+00:00   \n",
       "1549          NaN            NaN  2022-06-20T20:17:27+00:00   \n",
       "\n",
       "                                                                                                                                                                                                                                                                                                                                                                                                          __twarc.url  \\\n",
       "0     https://api.twitter.com/2/tweets/search/all?expansions=author_id%2Cin_reply_to_user_id%2Creferenced_tweets.id%2Creferenced_tweets.id.author_id%2Centities.mentions.username%2Cattachments.poll_ids%2Cattachments.media_keys%2Cgeo.place_id&tweet.fields=attachments%2Cauthor_id%2Ccontext_annotations%2Cconversation_id%2Ccreated_at%2Centities%2Cgeo%2Cid%2Cin_reply_to_user_id%2Clang%2Cpublic_metrics%2Ct...   \n",
       "1     https://api.twitter.com/2/tweets/search/all?expansions=author_id%2Cin_reply_to_user_id%2Creferenced_tweets.id%2Creferenced_tweets.id.author_id%2Centities.mentions.username%2Cattachments.poll_ids%2Cattachments.media_keys%2Cgeo.place_id&tweet.fields=attachments%2Cauthor_id%2Ccontext_annotations%2Cconversation_id%2Ccreated_at%2Centities%2Cgeo%2Cid%2Cin_reply_to_user_id%2Clang%2Cpublic_metrics%2Ct...   \n",
       "2     https://api.twitter.com/2/tweets/search/all?expansions=author_id%2Cin_reply_to_user_id%2Creferenced_tweets.id%2Creferenced_tweets.id.author_id%2Centities.mentions.username%2Cattachments.poll_ids%2Cattachments.media_keys%2Cgeo.place_id&tweet.fields=attachments%2Cauthor_id%2Ccontext_annotations%2Cconversation_id%2Ccreated_at%2Centities%2Cgeo%2Cid%2Cin_reply_to_user_id%2Clang%2Cpublic_metrics%2Ct...   \n",
       "3     https://api.twitter.com/2/tweets/search/all?expansions=author_id%2Cin_reply_to_user_id%2Creferenced_tweets.id%2Creferenced_tweets.id.author_id%2Centities.mentions.username%2Cattachments.poll_ids%2Cattachments.media_keys%2Cgeo.place_id&tweet.fields=attachments%2Cauthor_id%2Ccontext_annotations%2Cconversation_id%2Ccreated_at%2Centities%2Cgeo%2Cid%2Cin_reply_to_user_id%2Clang%2Cpublic_metrics%2Ct...   \n",
       "4     https://api.twitter.com/2/tweets/search/all?expansions=author_id%2Cin_reply_to_user_id%2Creferenced_tweets.id%2Creferenced_tweets.id.author_id%2Centities.mentions.username%2Cattachments.poll_ids%2Cattachments.media_keys%2Cgeo.place_id&tweet.fields=attachments%2Cauthor_id%2Ccontext_annotations%2Cconversation_id%2Ccreated_at%2Centities%2Cgeo%2Cid%2Cin_reply_to_user_id%2Clang%2Cpublic_metrics%2Ct...   \n",
       "...                                                                                                                                                                                                                                                                                                                                                                                                               ...   \n",
       "1545  https://api.twitter.com/2/tweets/search/all?expansions=author_id%2Cin_reply_to_user_id%2Creferenced_tweets.id%2Creferenced_tweets.id.author_id%2Centities.mentions.username%2Cattachments.poll_ids%2Cattachments.media_keys%2Cgeo.place_id&tweet.fields=attachments%2Cauthor_id%2Ccontext_annotations%2Cconversation_id%2Ccreated_at%2Centities%2Cgeo%2Cid%2Cin_reply_to_user_id%2Clang%2Cpublic_metrics%2Ct...   \n",
       "1546  https://api.twitter.com/2/tweets/search/all?expansions=author_id%2Cin_reply_to_user_id%2Creferenced_tweets.id%2Creferenced_tweets.id.author_id%2Centities.mentions.username%2Cattachments.poll_ids%2Cattachments.media_keys%2Cgeo.place_id&tweet.fields=attachments%2Cauthor_id%2Ccontext_annotations%2Cconversation_id%2Ccreated_at%2Centities%2Cgeo%2Cid%2Cin_reply_to_user_id%2Clang%2Cpublic_metrics%2Ct...   \n",
       "1547  https://api.twitter.com/2/tweets/search/all?expansions=author_id%2Cin_reply_to_user_id%2Creferenced_tweets.id%2Creferenced_tweets.id.author_id%2Centities.mentions.username%2Cattachments.poll_ids%2Cattachments.media_keys%2Cgeo.place_id&tweet.fields=attachments%2Cauthor_id%2Ccontext_annotations%2Cconversation_id%2Ccreated_at%2Centities%2Cgeo%2Cid%2Cin_reply_to_user_id%2Clang%2Cpublic_metrics%2Ct...   \n",
       "1548  https://api.twitter.com/2/tweets/search/all?expansions=author_id%2Cin_reply_to_user_id%2Creferenced_tweets.id%2Creferenced_tweets.id.author_id%2Centities.mentions.username%2Cattachments.poll_ids%2Cattachments.media_keys%2Cgeo.place_id&tweet.fields=attachments%2Cauthor_id%2Ccontext_annotations%2Cconversation_id%2Ccreated_at%2Centities%2Cgeo%2Cid%2Cin_reply_to_user_id%2Clang%2Cpublic_metrics%2Ct...   \n",
       "1549  https://api.twitter.com/2/tweets/search/all?expansions=author_id%2Cin_reply_to_user_id%2Creferenced_tweets.id%2Creferenced_tweets.id.author_id%2Centities.mentions.username%2Cattachments.poll_ids%2Cattachments.media_keys%2Cgeo.place_id&tweet.fields=attachments%2Cauthor_id%2Ccontext_annotations%2Cconversation_id%2Ccreated_at%2Centities%2Cgeo%2Cid%2Cin_reply_to_user_id%2Clang%2Cpublic_metrics%2Ct...   \n",
       "\n",
       "     __twarc.version  Unnamed: 73  \n",
       "0             2.10.4          NaN  \n",
       "1             2.10.4          NaN  \n",
       "2             2.10.4          NaN  \n",
       "3             2.10.4          NaN  \n",
       "4             2.10.4          NaN  \n",
       "...              ...          ...  \n",
       "1545          2.10.4          NaN  \n",
       "1546          2.10.4          NaN  \n",
       "1547          2.10.4          NaN  \n",
       "1548          2.10.4          NaN  \n",
       "1549          2.10.4          NaN  \n",
       "\n",
       "[1550 rows x 74 columns]"
      ]
     },
     "execution_count": 34,
     "metadata": {},
     "output_type": "execute_result"
    }
   ],
   "source": [
    "my_tweets_df = pd.read_csv('my_tweets.csv', parse_dates = ['created_at'])\n",
    "my_tweets_df"
   ]
  },
  {
   "cell_type": "markdown",
   "id": "c5534fcc-cab2-4bc2-b23a-84b835570ecc",
   "metadata": {},
   "source": [
    "Let's apply the helper functions and create new columns."
   ]
  },
  {
   "cell_type": "code",
   "execution_count": 37,
   "id": "6b85dec6-694e-4084-8571-0347a73f8700",
   "metadata": {},
   "outputs": [],
   "source": [
    "# Create tweet type column\n",
    "my_tweets_df['type'] =my_tweets_df.apply(find_type, axis =1)\n",
    "# Create tweet URL column\n",
    "my_tweets_df['tweet_url'] = my_tweets_df[['author.username', 'id']].apply(make_tweet_url, axis='columns')"
   ]
  },
  {
   "cell_type": "markdown",
   "id": "e5f9fd65-0031-4bdf-ba21-c8c28cca7bd6",
   "metadata": {},
   "source": [
    "Let's select and rename only the columns we're interested in.\n",
    "\n",
    "Pick another new column that you find intriguing and add it below!!"
   ]
  },
  {
   "cell_type": "code",
   "execution_count": null,
   "id": "bd2f9b48-9710-43f3-9798-bc97312c068a",
   "metadata": {},
   "outputs": [],
   "source": [
    "# Select columns of interest\n",
    "my_clean_tweets_df = my_tweets_df[['created_at', 'author.username', 'author.name', 'author.description',\n",
    "                             'author.verified', 'type', 'text', 'public_metrics.retweet_count', \n",
    "                             'public_metrics.like_count', 'public_metrics.reply_count', 'public_metrics.quote_count',\n",
    "                             'tweet_url', 'lang', 'source', 'geo.full_name']]\n",
    "\n",
    "# Rename columns for convenience\n",
    "my_clean_tweets_df = my_clean_tweets_df.rename(columns={'created_at': 'date', 'public_metrics.retweet_count': 'retweets', \n",
    "                          'author.username': 'username', 'author.name': 'name', 'author.verified': 'verified', \n",
    "                          'public_metrics.like_count': 'likes', 'public_metrics.quote_count': 'quotes', \n",
    "                          'public_metrics.reply_count': 'replies', 'author.description': 'user_bio'})\n",
    "\n",
    "my_clean_tweets_df"
   ]
  },
  {
   "cell_type": "markdown",
   "id": "f9c4b945-73ca-4792-b317-dfbb1163d0d9",
   "metadata": {},
   "source": [
    "Let's get an overview of some of these columns."
   ]
  },
  {
   "cell_type": "code",
   "execution_count": 40,
   "id": "48fc53a0-31f4-47e3-b039-72715d0772f1",
   "metadata": {},
   "outputs": [
    {
     "data": {
      "text/plain": [
       "retweet     820\n",
       "original    567\n",
       "reply       128\n",
       "quote        35\n",
       "Name: type, dtype: int64"
      ]
     },
     "execution_count": 40,
     "metadata": {},
     "output_type": "execute_result"
    }
   ],
   "source": [
    "my_clean_tweets_df['type'].value_counts()"
   ]
  },
  {
   "cell_type": "code",
   "execution_count": null,
   "id": "3a677214-46a9-44bc-94c0-e23fddba54c1",
   "metadata": {},
   "outputs": [],
   "source": [
    "clean_tweets_df['YOUR COLUMN OF INTEREST HERE'].value_counts()"
   ]
  },
  {
   "cell_type": "code",
   "execution_count": null,
   "id": "a133b156-e649-4e5a-8b53-d92f8e9512f3",
   "metadata": {},
   "outputs": [],
   "source": [
    "from wordcloud import WordCloud, STOPWORDS\n",
    "import matplotlib.pyplot as plt\n",
    "\n",
    "# Create stopwords list\n",
    "stopwords = STOPWORDS.update([\"plums\", \"icebox\"])\n",
    "\n",
    "# Set up wordcloud\n",
    "wc = WordCloud(background_color=\"white\", max_words=50,\n",
    "               stopwords=stopwords, contour_width=5, contour_color='steelblue')\n",
    "\n",
    "# Strip line breaks\n",
    "tweet_texts = my_clean_tweets_df['text'].str.replace(r\"\\\\n\", \" \", regex=True)\n",
    "# Join all tweet texts together\n",
    "tweet_texts = ' '.join(tweet_texts)\n",
    "# Generate word cloud\n",
    "wc.generate(tweet_texts)\n",
    "\n",
    "# Create and save word cloud\n",
    "plt.figure(figsize = (10,5))\n",
    "plt.imshow(wc, interpolation='bilinear')\n",
    "plt.axis(\"off\")\n",
    "plt.savefig(\"my_tweet_word-cloud.png\", dpi=300)\n",
    "plt.show()"
   ]
  }
 ],
 "metadata": {
  "kernelspec": {
   "display_name": "Python 3",
   "language": "python",
   "name": "python3"
  },
  "language_info": {
   "codemirror_mode": {
    "name": "ipython",
    "version": 3
   },
   "file_extension": ".py",
   "mimetype": "text/x-python",
   "name": "python",
   "nbconvert_exporter": "python",
   "pygments_lexer": "ipython3",
   "version": "3.8.8"
  },
  "toc": {
   "base_numbering": 1,
   "nav_menu": {},
   "number_sections": true,
   "sideBar": true,
   "skip_h1_title": false,
   "title_cell": "Table of Contents",
   "title_sidebar": "Contents",
   "toc_cell": false,
   "toc_position": {},
   "toc_section_display": true,
   "toc_window_display": true
  }
 },
 "nbformat": 4,
 "nbformat_minor": 5
}
